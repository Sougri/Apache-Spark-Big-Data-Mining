{
 "cells": [
  {
   "cell_type": "code",
   "execution_count": 1,
   "id": "8438e289",
   "metadata": {},
   "outputs": [
    {
     "name": "stderr",
     "output_type": "stream",
     "text": [
      "23/10/19 00:53:28 WARN NativeCodeLoader: Unable to load native-hadoop library for your platform... using builtin-java classes where applicable\n",
      "Using Spark's default log4j profile: org/apache/spark/log4j-defaults.properties\n",
      "Setting default log level to \"WARN\".\n",
      "To adjust logging level use sc.setLogLevel(newLevel). For SparkR, use setLogLevel(newLevel).\n"
     ]
    }
   ],
   "source": [
    "from pyspark.sql import SparkSession\n",
    "\n",
    "spark = SparkSession.\\\n",
    "        builder.\\\n",
    "        appName(\"HM1\").\\\n",
    "        master(\"spark://spark-master:7077\").\\\n",
    "        config(\"spark.executor.memory\", \"512m\").\\\n",
    "        getOrCreate()"
   ]
  },
  {
   "cell_type": "code",
   "execution_count": 2,
   "id": "9006a0dc",
   "metadata": {},
   "outputs": [],
   "source": [
    "#!pip install pandas"
   ]
  },
  {
   "cell_type": "code",
   "execution_count": 3,
   "id": "8f33627c",
   "metadata": {},
   "outputs": [
    {
     "data": {
      "text/plain": [
       "['household_power_consumption.txt']"
      ]
     },
     "execution_count": 3,
     "metadata": {},
     "output_type": "execute_result"
    }
   ],
   "source": [
    "from io import BytesIO\n",
    "from zipfile import ZipFile\n",
    "from urllib.request import urlopen\n",
    "# or: requests.get(url).content\n",
    "\n",
    "resp = urlopen(\"https://archive.ics.uci.edu/ml/machine-learning-databases/00235/household_power_consumption.zip\")\n",
    "zipfile = ZipFile(BytesIO(resp.read()))\n",
    "zipfile.namelist()"
   ]
  },
  {
   "cell_type": "code",
   "execution_count": 4,
   "id": "a5ec28a5",
   "metadata": {},
   "outputs": [
    {
     "name": "stderr",
     "output_type": "stream",
     "text": [
      "/tmp/ipykernel_381/1105165950.py:3: FutureWarning: The argument 'infer_datetime_format' is deprecated and will be removed in a future version. A strict version of it is now the default, see https://pandas.pydata.org/pdeps/0004-consistent-to-datetime-parsing.html. You can safely remove this argument.\n",
      "  pdata = pd.read_csv (zipfile.open('household_power_consumption.txt'), sep=';',\n",
      "/tmp/ipykernel_381/1105165950.py:3: UserWarning: Parsing dates in %d/%m/%Y %H:%M:%S format when dayfirst=False (the default) was specified. Pass `dayfirst=True` or specify a format to silence this warning.\n",
      "  pdata = pd.read_csv (zipfile.open('household_power_consumption.txt'), sep=';',\n"
     ]
    },
    {
     "data": {
      "text/html": [
       "<div>\n",
       "<style scoped>\n",
       "    .dataframe tbody tr th:only-of-type {\n",
       "        vertical-align: middle;\n",
       "    }\n",
       "\n",
       "    .dataframe tbody tr th {\n",
       "        vertical-align: top;\n",
       "    }\n",
       "\n",
       "    .dataframe thead th {\n",
       "        text-align: right;\n",
       "    }\n",
       "</style>\n",
       "<table border=\"1\" class=\"dataframe\">\n",
       "  <thead>\n",
       "    <tr style=\"text-align: right;\">\n",
       "      <th></th>\n",
       "      <th>Global_active_power</th>\n",
       "      <th>Global_reactive_power</th>\n",
       "      <th>Voltage</th>\n",
       "      <th>Global_intensity</th>\n",
       "      <th>Sub_metering_1</th>\n",
       "      <th>Sub_metering_2</th>\n",
       "      <th>Sub_metering_3</th>\n",
       "    </tr>\n",
       "    <tr>\n",
       "      <th>data</th>\n",
       "      <th></th>\n",
       "      <th></th>\n",
       "      <th></th>\n",
       "      <th></th>\n",
       "      <th></th>\n",
       "      <th></th>\n",
       "      <th></th>\n",
       "    </tr>\n",
       "  </thead>\n",
       "  <tbody>\n",
       "    <tr>\n",
       "      <th>2006-12-16 17:24:00</th>\n",
       "      <td>4.216</td>\n",
       "      <td>0.418</td>\n",
       "      <td>234.84</td>\n",
       "      <td>18.4</td>\n",
       "      <td>0.0</td>\n",
       "      <td>1.0</td>\n",
       "      <td>17.0</td>\n",
       "    </tr>\n",
       "    <tr>\n",
       "      <th>2006-12-16 17:25:00</th>\n",
       "      <td>5.360</td>\n",
       "      <td>0.436</td>\n",
       "      <td>233.63</td>\n",
       "      <td>23.0</td>\n",
       "      <td>0.0</td>\n",
       "      <td>1.0</td>\n",
       "      <td>16.0</td>\n",
       "    </tr>\n",
       "    <tr>\n",
       "      <th>2006-12-16 17:26:00</th>\n",
       "      <td>5.374</td>\n",
       "      <td>0.498</td>\n",
       "      <td>233.29</td>\n",
       "      <td>23.0</td>\n",
       "      <td>0.0</td>\n",
       "      <td>2.0</td>\n",
       "      <td>17.0</td>\n",
       "    </tr>\n",
       "    <tr>\n",
       "      <th>2006-12-16 17:27:00</th>\n",
       "      <td>5.388</td>\n",
       "      <td>0.502</td>\n",
       "      <td>233.74</td>\n",
       "      <td>23.0</td>\n",
       "      <td>0.0</td>\n",
       "      <td>1.0</td>\n",
       "      <td>17.0</td>\n",
       "    </tr>\n",
       "    <tr>\n",
       "      <th>2006-12-16 17:28:00</th>\n",
       "      <td>3.666</td>\n",
       "      <td>0.528</td>\n",
       "      <td>235.68</td>\n",
       "      <td>15.8</td>\n",
       "      <td>0.0</td>\n",
       "      <td>1.0</td>\n",
       "      <td>17.0</td>\n",
       "    </tr>\n",
       "    <tr>\n",
       "      <th>...</th>\n",
       "      <td>...</td>\n",
       "      <td>...</td>\n",
       "      <td>...</td>\n",
       "      <td>...</td>\n",
       "      <td>...</td>\n",
       "      <td>...</td>\n",
       "      <td>...</td>\n",
       "    </tr>\n",
       "    <tr>\n",
       "      <th>2010-11-26 20:58:00</th>\n",
       "      <td>0.946</td>\n",
       "      <td>0.000</td>\n",
       "      <td>240.43</td>\n",
       "      <td>4.0</td>\n",
       "      <td>0.0</td>\n",
       "      <td>0.0</td>\n",
       "      <td>0.0</td>\n",
       "    </tr>\n",
       "    <tr>\n",
       "      <th>2010-11-26 20:59:00</th>\n",
       "      <td>0.944</td>\n",
       "      <td>0.000</td>\n",
       "      <td>240.00</td>\n",
       "      <td>4.0</td>\n",
       "      <td>0.0</td>\n",
       "      <td>0.0</td>\n",
       "      <td>0.0</td>\n",
       "    </tr>\n",
       "    <tr>\n",
       "      <th>2010-11-26 21:00:00</th>\n",
       "      <td>0.938</td>\n",
       "      <td>0.000</td>\n",
       "      <td>239.82</td>\n",
       "      <td>3.8</td>\n",
       "      <td>0.0</td>\n",
       "      <td>0.0</td>\n",
       "      <td>0.0</td>\n",
       "    </tr>\n",
       "    <tr>\n",
       "      <th>2010-11-26 21:01:00</th>\n",
       "      <td>0.934</td>\n",
       "      <td>0.000</td>\n",
       "      <td>239.70</td>\n",
       "      <td>3.8</td>\n",
       "      <td>0.0</td>\n",
       "      <td>0.0</td>\n",
       "      <td>0.0</td>\n",
       "    </tr>\n",
       "    <tr>\n",
       "      <th>2010-11-26 21:02:00</th>\n",
       "      <td>0.932</td>\n",
       "      <td>0.000</td>\n",
       "      <td>239.55</td>\n",
       "      <td>3.8</td>\n",
       "      <td>0.0</td>\n",
       "      <td>0.0</td>\n",
       "      <td>0.0</td>\n",
       "    </tr>\n",
       "  </tbody>\n",
       "</table>\n",
       "<p>2075259 rows × 7 columns</p>\n",
       "</div>"
      ],
      "text/plain": [
       "                     Global_active_power  Global_reactive_power  Voltage  \\\n",
       "data                                                                       \n",
       "2006-12-16 17:24:00                4.216                  0.418   234.84   \n",
       "2006-12-16 17:25:00                5.360                  0.436   233.63   \n",
       "2006-12-16 17:26:00                5.374                  0.498   233.29   \n",
       "2006-12-16 17:27:00                5.388                  0.502   233.74   \n",
       "2006-12-16 17:28:00                3.666                  0.528   235.68   \n",
       "...                                  ...                    ...      ...   \n",
       "2010-11-26 20:58:00                0.946                  0.000   240.43   \n",
       "2010-11-26 20:59:00                0.944                  0.000   240.00   \n",
       "2010-11-26 21:00:00                0.938                  0.000   239.82   \n",
       "2010-11-26 21:01:00                0.934                  0.000   239.70   \n",
       "2010-11-26 21:02:00                0.932                  0.000   239.55   \n",
       "\n",
       "                     Global_intensity  Sub_metering_1  Sub_metering_2  \\\n",
       "data                                                                    \n",
       "2006-12-16 17:24:00              18.4             0.0             1.0   \n",
       "2006-12-16 17:25:00              23.0             0.0             1.0   \n",
       "2006-12-16 17:26:00              23.0             0.0             2.0   \n",
       "2006-12-16 17:27:00              23.0             0.0             1.0   \n",
       "2006-12-16 17:28:00              15.8             0.0             1.0   \n",
       "...                               ...             ...             ...   \n",
       "2010-11-26 20:58:00               4.0             0.0             0.0   \n",
       "2010-11-26 20:59:00               4.0             0.0             0.0   \n",
       "2010-11-26 21:00:00               3.8             0.0             0.0   \n",
       "2010-11-26 21:01:00               3.8             0.0             0.0   \n",
       "2010-11-26 21:02:00               3.8             0.0             0.0   \n",
       "\n",
       "                     Sub_metering_3  \n",
       "data                                 \n",
       "2006-12-16 17:24:00            17.0  \n",
       "2006-12-16 17:25:00            16.0  \n",
       "2006-12-16 17:26:00            17.0  \n",
       "2006-12-16 17:27:00            17.0  \n",
       "2006-12-16 17:28:00            17.0  \n",
       "...                             ...  \n",
       "2010-11-26 20:58:00             0.0  \n",
       "2010-11-26 20:59:00             0.0  \n",
       "2010-11-26 21:00:00             0.0  \n",
       "2010-11-26 21:01:00             0.0  \n",
       "2010-11-26 21:02:00             0.0  \n",
       "\n",
       "[2075259 rows x 7 columns]"
      ]
     },
     "execution_count": 4,
     "metadata": {},
     "output_type": "execute_result"
    }
   ],
   "source": [
    "import pandas as pd\n",
    "\n",
    "pdata = pd.read_csv (zipfile.open('household_power_consumption.txt'), sep=';',\n",
    "                   parse_dates={'data': ['Date', 'Time']},\n",
    "                   infer_datetime_format=True,\n",
    "                   na_values=['nan', '?'],\n",
    "                   index_col='data')\n",
    "pdata"
   ]
  },
  {
   "cell_type": "code",
   "execution_count": 5,
   "id": "84230f9f",
   "metadata": {},
   "outputs": [
    {
     "name": "stderr",
     "output_type": "stream",
     "text": [
      "/usr/local/lib/python3.9/dist-packages/pyspark/sql/pandas/types.py:238: FutureWarning: is_datetime64tz_dtype is deprecated and will be removed in a future version. Check `isinstance(dtype, pd.DatetimeTZDtype)` instead.\n",
      "  if is_datetime64tz_dtype(s.dtype):\n",
      "23/10/19 00:55:21 WARN TaskSetManager: Stage 0 contains a task of very large size (33421 KiB). The maximum recommended task size is 1000 KiB.\n",
      "                                                                                \r"
     ]
    },
    {
     "name": "stdout",
     "output_type": "stream",
     "text": [
      "+-------------------+---------------------+-------+----------------+--------------+--------------+--------------+\n",
      "|Global_active_power|Global_reactive_power|Voltage|Global_intensity|Sub_metering_1|Sub_metering_2|Sub_metering_3|\n",
      "+-------------------+---------------------+-------+----------------+--------------+--------------+--------------+\n",
      "|              4.216|                0.418| 234.84|            18.4|           0.0|           1.0|          17.0|\n",
      "|               5.36|                0.436| 233.63|            23.0|           0.0|           1.0|          16.0|\n",
      "|              5.374|                0.498| 233.29|            23.0|           0.0|           2.0|          17.0|\n",
      "|              5.388|                0.502| 233.74|            23.0|           0.0|           1.0|          17.0|\n",
      "|              3.666|                0.528| 235.68|            15.8|           0.0|           1.0|          17.0|\n",
      "|               3.52|                0.522| 235.02|            15.0|           0.0|           2.0|          17.0|\n",
      "|              3.702|                 0.52| 235.09|            15.8|           0.0|           1.0|          17.0|\n",
      "|                3.7|                 0.52| 235.22|            15.8|           0.0|           1.0|          17.0|\n",
      "|              3.668|                 0.51| 233.99|            15.8|           0.0|           1.0|          17.0|\n",
      "|              3.662|                 0.51| 233.86|            15.8|           0.0|           2.0|          16.0|\n",
      "|              4.448|                0.498| 232.86|            19.6|           0.0|           1.0|          17.0|\n",
      "|              5.412|                 0.47| 232.78|            23.2|           0.0|           1.0|          17.0|\n",
      "|              5.224|                0.478| 232.99|            22.4|           0.0|           1.0|          16.0|\n",
      "|              5.268|                0.398| 232.91|            22.6|           0.0|           2.0|          17.0|\n",
      "|              4.054|                0.422| 235.24|            17.6|           0.0|           1.0|          17.0|\n",
      "|              3.384|                0.282| 237.14|            14.2|           0.0|           0.0|          17.0|\n",
      "|               3.27|                0.152| 236.73|            13.8|           0.0|           0.0|          17.0|\n",
      "|               3.43|                0.156| 237.06|            14.4|           0.0|           0.0|          17.0|\n",
      "|              3.266|                  0.0| 237.13|            13.8|           0.0|           0.0|          18.0|\n",
      "|              3.728|                  0.0| 235.84|            16.4|           0.0|           0.0|          17.0|\n",
      "+-------------------+---------------------+-------+----------------+--------------+--------------+--------------+\n",
      "only showing top 20 rows\n",
      "\n"
     ]
    },
    {
     "name": "stderr",
     "output_type": "stream",
     "text": [
      "23/10/19 00:55:24 WARN TaskSetManager: Stage 1 contains a task of very large size (33421 KiB). The maximum recommended task size is 1000 KiB.\n",
      "[Stage 1:=============================>                             (2 + 2) / 4]\r"
     ]
    },
    {
     "name": "stdout",
     "output_type": "stream",
     "text": [
      "(2075259, 7)\n"
     ]
    },
    {
     "name": "stderr",
     "output_type": "stream",
     "text": [
      "                                                                                \r"
     ]
    }
   ],
   "source": [
    "#Spark dataframe\n",
    "\n",
    "pd.DataFrame.iteritems = pd.DataFrame.items\n",
    "data = spark.createDataFrame(pdata)\n",
    "    \n",
    "data.show()\n",
    "\n",
    "print((data.count(), len(data.columns)))"
   ]
  },
  {
   "cell_type": "code",
   "execution_count": 6,
   "id": "ab01796f",
   "metadata": {},
   "outputs": [
    {
     "name": "stderr",
     "output_type": "stream",
     "text": [
      "23/10/19 00:55:30 WARN TaskSetManager: Stage 3 contains a task of very large size (33421 KiB). The maximum recommended task size is 1000 KiB.\n"
     ]
    },
    {
     "name": "stdout",
     "output_type": "stream",
     "text": [
      "+-------------------+---------------------+-------+----------------+--------------+--------------+--------------+\n",
      "|Global_active_power|Global_reactive_power|Voltage|Global_intensity|Sub_metering_1|Sub_metering_2|Sub_metering_3|\n",
      "+-------------------+---------------------+-------+----------------+--------------+--------------+--------------+\n",
      "|               null|                 null|   null|            null|          null|          null|          null|\n",
      "|               null|                 null|   null|            null|          null|          null|          null|\n",
      "|               null|                 null|   null|            null|          null|          null|          null|\n",
      "|               null|                 null|   null|            null|          null|          null|          null|\n",
      "|               null|                 null|   null|            null|          null|          null|          null|\n",
      "|               null|                 null|   null|            null|          null|          null|          null|\n",
      "|               null|                 null|   null|            null|          null|          null|          null|\n",
      "|               null|                 null|   null|            null|          null|          null|          null|\n",
      "|               null|                 null|   null|            null|          null|          null|          null|\n",
      "|               null|                 null|   null|            null|          null|          null|          null|\n",
      "|               null|                 null|   null|            null|          null|          null|          null|\n",
      "|               null|                 null|   null|            null|          null|          null|          null|\n",
      "|               null|                 null|   null|            null|          null|          null|          null|\n",
      "|               null|                 null|   null|            null|          null|          null|          null|\n",
      "|               null|                 null|   null|            null|          null|          null|          null|\n",
      "|               null|                 null|   null|            null|          null|          null|          null|\n",
      "|               null|                 null|   null|            null|          null|          null|          null|\n",
      "|               null|                 null|   null|            null|          null|          null|          null|\n",
      "|               null|                 null|   null|            null|          null|          null|          null|\n",
      "|               null|                 null|   null|            null|          null|          null|          null|\n",
      "+-------------------+---------------------+-------+----------------+--------------+--------------+--------------+\n",
      "only showing top 20 rows\n",
      "\n"
     ]
    }
   ],
   "source": [
    "# Find Null, None, NaN of All the DataFrame\n",
    "\n",
    "from pyspark.sql.functions import col,isnan, when, count\n",
    "\n",
    "data.select([when(isnan(c) | col(c).isNull(), c).alias(c) for c in data.columns]).show()"
   ]
  },
  {
   "cell_type": "code",
   "execution_count": 7,
   "id": "0e15bb7e",
   "metadata": {},
   "outputs": [
    {
     "name": "stderr",
     "output_type": "stream",
     "text": [
      "23/10/19 00:55:30 WARN TaskSetManager: Stage 4 contains a task of very large size (33421 KiB). The maximum recommended task size is 1000 KiB.\n",
      "[Stage 4:=============================>                             (2 + 2) / 4]\r"
     ]
    },
    {
     "name": "stdout",
     "output_type": "stream",
     "text": [
      "+-------------------+---------------------+-------+----------------+--------------+--------------+--------------+\n",
      "|Global_active_power|Global_reactive_power|Voltage|Global_intensity|Sub_metering_1|Sub_metering_2|Sub_metering_3|\n",
      "+-------------------+---------------------+-------+----------------+--------------+--------------+--------------+\n",
      "|              25979|                25979|  25979|           25979|         25979|         25979|         25979|\n",
      "+-------------------+---------------------+-------+----------------+--------------+--------------+--------------+\n",
      "\n"
     ]
    },
    {
     "name": "stderr",
     "output_type": "stream",
     "text": [
      "                                                                                \r"
     ]
    }
   ],
   "source": [
    "# Find Count of Null, None, NaN of All DataFrame Columns\n",
    "data.select([count(when(isnan(c) | col(c).isNull(), c)).alias(c) for c in data.columns]).show()"
   ]
  },
  {
   "cell_type": "code",
   "execution_count": 8,
   "id": "d48ccb19",
   "metadata": {},
   "outputs": [
    {
     "name": "stderr",
     "output_type": "stream",
     "text": [
      "23/10/19 00:55:33 WARN TaskSetManager: Stage 6 contains a task of very large size (33421 KiB). The maximum recommended task size is 1000 KiB.\n",
      "23/10/19 00:55:36 WARN TaskSetManager: Stage 8 contains a task of very large size (33421 KiB). The maximum recommended task size is 1000 KiB.\n"
     ]
    },
    {
     "name": "stdout",
     "output_type": "stream",
     "text": [
      "Before  (2075259, 7)\n"
     ]
    },
    {
     "name": "stderr",
     "output_type": "stream",
     "text": [
      "[Stage 8:>                                                          (0 + 4) / 4]\r"
     ]
    },
    {
     "name": "stdout",
     "output_type": "stream",
     "text": [
      "After  (2049280, 7)\n"
     ]
    },
    {
     "name": "stderr",
     "output_type": "stream",
     "text": [
      "                                                                                \r"
     ]
    }
   ],
   "source": [
    "#Dropp rows with na value\n",
    "print(\"Before \", (data.count(), len(data.columns)))\n",
    "data = data.na.drop()\n",
    "print(\"After \", (data.count(), len(data.columns)))"
   ]
  },
  {
   "cell_type": "code",
   "execution_count": 9,
   "id": "2fd6dbcb",
   "metadata": {},
   "outputs": [
    {
     "name": "stderr",
     "output_type": "stream",
     "text": [
      "23/10/19 00:55:39 WARN TaskSetManager: Stage 10 contains a task of very large size (33421 KiB). The maximum recommended task size is 1000 KiB.\n",
      "[Stage 10:>                                                         (0 + 4) / 4]\r"
     ]
    },
    {
     "name": "stdout",
     "output_type": "stream",
     "text": [
      "+-------------------+---------------------+-------+----------------+--------------+--------------+--------------+\n",
      "|Global_active_power|Global_reactive_power|Voltage|Global_intensity|Sub_metering_1|Sub_metering_2|Sub_metering_3|\n",
      "+-------------------+---------------------+-------+----------------+--------------+--------------+--------------+\n",
      "|                  0|                    0|      0|               0|             0|             0|             0|\n",
      "+-------------------+---------------------+-------+----------------+--------------+--------------+--------------+\n",
      "\n"
     ]
    },
    {
     "name": "stderr",
     "output_type": "stream",
     "text": [
      "                                                                                \r"
     ]
    }
   ],
   "source": [
    "# Find Count of Null, None, NaN of All DataFrame Columns\n",
    "\n",
    "from pyspark.sql.functions import col,isnan, when, count\n",
    "data.select([count(when(isnan(c) | col(c).isNull(), c)).alias(c) for c in data.columns]).show()"
   ]
  },
  {
   "cell_type": "code",
   "execution_count": 10,
   "id": "882c7e4c",
   "metadata": {},
   "outputs": [
    {
     "data": {
      "text/plain": [
       "'from pyspark.ml.feature import Imputer\\n\\nimputer = Imputer(inputCols = data.columns, outputCols = data.columns).setStrategy(\"mean\").setMissingValue(0.0)\\ndata = imputer.fit(data).transform(data)\\ndata.show()\\nprint((data.count(), len(data.columns)))'"
      ]
     },
     "execution_count": 10,
     "metadata": {},
     "output_type": "execute_result"
    }
   ],
   "source": [
    "#Replacing missing value by the mean\n",
    "\"\"\"from pyspark.ml.feature import Imputer\n",
    "\n",
    "imputer = Imputer(inputCols = data.columns, outputCols = data.columns).setStrategy(\"mean\").setMissingValue(0.0)\n",
    "data = imputer.fit(data).transform(data)\n",
    "data.show()\n",
    "print((data.count(), len(data.columns)))\"\"\""
   ]
  },
  {
   "cell_type": "markdown",
   "id": "0589251a",
   "metadata": {},
   "source": [
    "#### Output the minimum, maximum, and count of the following columns: ‘global active power’, ‘global reactive power’, ‘voltage’, and ‘global’ "
   ]
  },
  {
   "cell_type": "code",
   "execution_count": 11,
   "id": "8db6dce1",
   "metadata": {},
   "outputs": [
    {
     "name": "stderr",
     "output_type": "stream",
     "text": [
      "23/10/19 00:55:42 WARN TaskSetManager: Stage 12 contains a task of very large size (33421 KiB). The maximum recommended task size is 1000 KiB.\n",
      "                                                                                \r"
     ]
    },
    {
     "name": "stdout",
     "output_type": "stream",
     "text": [
      "+---------------------+--------------------------+------------+------------------------+\n",
      "|min(Global_intensity)|min(Global_reactive_power)|min(Voltage)|min(Global_active_power)|\n",
      "+---------------------+--------------------------+------------+------------------------+\n",
      "|                  0.2|                       0.0|       223.2|                   0.076|\n",
      "+---------------------+--------------------------+------------+------------------------+\n",
      "\n"
     ]
    },
    {
     "name": "stderr",
     "output_type": "stream",
     "text": [
      "23/10/19 00:55:44 WARN TaskSetManager: Stage 14 contains a task of very large size (33421 KiB). The maximum recommended task size is 1000 KiB.\n",
      "                                                                                \r"
     ]
    },
    {
     "name": "stdout",
     "output_type": "stream",
     "text": [
      "+---------------------+--------------------------+------------+------------------------+\n",
      "|max(Global_intensity)|max(Global_reactive_power)|max(Voltage)|max(Global_active_power)|\n",
      "+---------------------+--------------------------+------------+------------------------+\n",
      "|                 48.4|                      1.39|      254.15|                  11.122|\n",
      "+---------------------+--------------------------+------------+------------------------+\n",
      "\n"
     ]
    },
    {
     "name": "stderr",
     "output_type": "stream",
     "text": [
      "23/10/19 00:55:48 WARN TaskSetManager: Stage 16 contains a task of very large size (33421 KiB). The maximum recommended task size is 1000 KiB.\n",
      "                                                                                \r"
     ]
    },
    {
     "name": "stdout",
     "output_type": "stream",
     "text": [
      "+-----------------------+----------------------------+--------------+--------------------------+\n",
      "|count(Global_intensity)|count(Global_reactive_power)|count(Voltage)|count(Global_active_power)|\n",
      "+-----------------------+----------------------------+--------------+--------------------------+\n",
      "|                2049280|                     2049280|       2049280|                   2049280|\n",
      "+-----------------------+----------------------------+--------------+--------------------------+\n",
      "\n"
     ]
    }
   ],
   "source": [
    "#Min, Max and Count of respective columns\n",
    "data.agg({'Global_active_power': 'min',\n",
    "          'Global_reactive_power': 'min',\n",
    "          'Voltage': 'min',\n",
    "          'Global_intensity': 'min'}).show()\n",
    "\n",
    "data.agg({'Global_active_power': 'max',\n",
    "          'Global_reactive_power': 'max',\n",
    "          'Voltage': 'max',\n",
    "          'Global_intensity': 'max'}).show()\n",
    "\n",
    "data.agg({'Global_active_power': 'count',\n",
    "          'Global_reactive_power': 'count',\n",
    "          'Voltage': 'count',\n",
    "          'Global_intensity': 'count'}).show()"
   ]
  },
  {
   "cell_type": "markdown",
   "id": "66b3f5b0",
   "metadata": {},
   "source": [
    "#### Output the mean and standard deviation of these columns"
   ]
  },
  {
   "cell_type": "code",
   "execution_count": 12,
   "id": "525c514e",
   "metadata": {},
   "outputs": [
    {
     "name": "stderr",
     "output_type": "stream",
     "text": [
      "23/10/19 00:55:51 WARN TaskSetManager: Stage 18 contains a task of very large size (33421 KiB). The maximum recommended task size is 1000 KiB.\n",
      "                                                                                \r"
     ]
    },
    {
     "name": "stdout",
     "output_type": "stream",
     "text": [
      "+---------------------+--------------------------+------------------+------------------------+\n",
      "|avg(Global_intensity)|avg(Global_reactive_power)|      avg(Voltage)|avg(Global_active_power)|\n",
      "+---------------------+--------------------------+------------------+------------------------+\n",
      "|    4.627759310588202|       0.12371447630388303|240.83985797451243|      1.0916150365005404|\n",
      "+---------------------+--------------------------+------------------+------------------------+\n",
      "\n"
     ]
    },
    {
     "name": "stderr",
     "output_type": "stream",
     "text": [
      "23/10/19 00:55:54 WARN TaskSetManager: Stage 20 contains a task of very large size (33421 KiB). The maximum recommended task size is 1000 KiB.\n",
      "[Stage 20:=============================>                            (2 + 2) / 4]\r"
     ]
    },
    {
     "name": "stdout",
     "output_type": "stream",
     "text": [
      "+------------------------+-----------------------------+------------------+---------------------------+\n",
      "|stddev(Global_intensity)|stddev(Global_reactive_power)|   stddev(Voltage)|stddev(Global_active_power)|\n",
      "+------------------------+-----------------------------+------------------+---------------------------+\n",
      "|       4.444396259786158|          0.11272197955071693|3.2399866790097174|          1.057294161093984|\n",
      "+------------------------+-----------------------------+------------------+---------------------------+\n",
      "\n"
     ]
    },
    {
     "name": "stderr",
     "output_type": "stream",
     "text": [
      "                                                                                \r"
     ]
    }
   ],
   "source": [
    "#Mean and standard deviation of respective columns\n",
    "data.agg({'Global_active_power': 'mean',\n",
    "          'Global_reactive_power': 'mean',\n",
    "          'Voltage': 'mean',\n",
    "          'Global_intensity': 'mean'}).show()\n",
    "\n",
    "data.agg({'Global_active_power': 'std',\n",
    "          'Global_reactive_power': 'std',\n",
    "          'Voltage': 'std',\n",
    "          'Global_intensity': 'std'}).show()"
   ]
  },
  {
   "cell_type": "markdown",
   "id": "790e046b",
   "metadata": {},
   "source": [
    "#### Perform min-max normalization on the columns to generate normalized output"
   ]
  },
  {
   "cell_type": "code",
   "execution_count": 13,
   "id": "242f8e4f",
   "metadata": {},
   "outputs": [
    {
     "name": "stderr",
     "output_type": "stream",
     "text": [
      "23/10/19 00:55:58 WARN TaskSetManager: Stage 22 contains a task of very large size (33421 KiB). The maximum recommended task size is 1000 KiB.\n",
      "23/10/19 00:56:03 WARN TaskSetManager: Stage 24 contains a task of very large size (33421 KiB). The maximum recommended task size is 1000 KiB.\n",
      "23/10/19 00:56:06 WARN TaskSetManager: Stage 26 contains a task of very large size (33421 KiB). The maximum recommended task size is 1000 KiB.\n",
      "23/10/19 00:56:09 WARN TaskSetManager: Stage 28 contains a task of very large size (33421 KiB). The maximum recommended task size is 1000 KiB.\n",
      "23/10/19 00:56:13 WARN TaskSetManager: Stage 30 contains a task of very large size (33421 KiB). The maximum recommended task size is 1000 KiB.\n"
     ]
    },
    {
     "name": "stdout",
     "output_type": "stream",
     "text": [
      "+--------------------+---------------------+--------------------+--------------------+\n",
      "| Global_active_power|Global_reactive_power|             Voltage|    Global_intensity|\n",
      "+--------------------+---------------------+--------------------+--------------------+\n",
      "|[0.37479630635524...| [0.30071942446043...| [0.376090468497577]|[0.37759336099585...|\n",
      "|[0.47836320840123...| [0.3136690647482015]|[0.33699515347334...|[0.4730290456431536]|\n",
      "|[0.4796306355241716]| [0.35827338129496...|[0.3260096930533117]|[0.4730290456431536]|\n",
      "|[0.4808980626471121]| [0.3611510791366907]|[0.3405492730210021]|[0.4730290456431536]|\n",
      "|[0.32500452652543...| [0.3798561151079137]|[0.40323101777059...|[0.32365145228215...|\n",
      "| [0.311787072243346]| [0.3755395683453238]|[0.3819063004846531]|[0.30705394190871...|\n",
      "|[0.3282636248415716]| [0.3741007194244605]|[0.3841680129240713]|[0.32365145228215...|\n",
      "|[0.3280825638240087]| [0.3741007194244605]|[0.38836833602584...|[0.32365145228215...|\n",
      "| [0.325185587543002]| [0.36690647482014...|[0.3486268174474964]|[0.32365145228215...|\n",
      "|[0.32464240449031...| [0.36690647482014...|[0.3444264943457195]|[0.32365145228215...|\n",
      "|[0.39579938439254...| [0.35827338129496...|[0.31211631663974...|[0.40248962655601...|\n",
      "|[0.48307079485786...| [0.3381294964028777]|[0.30953150242326...|[0.4771784232365146]|\n",
      "|[0.4660510592069528]| [0.34388489208633...| [0.316316639741519]|[0.46058091286307...|\n",
      "| [0.470034401593337]| [0.2863309352517986]|[0.3137318255250404]|[0.46473029045643...|\n",
      "|[0.3601303639326453]| [0.3035971223021583]|[0.3890145395799681]|[0.36099585062240...|\n",
      "|[0.29947492304906...| [0.20287769784172...|[0.45040387722132...|[0.29045643153526...|\n",
      "|[0.28915444504798...| [0.10935251798561...|[0.43715670436187...|[0.28215767634854...|\n",
      "|[0.30363932645301...| [0.11223021582733...|[0.4478190630048467]|[0.29460580912863...|\n",
      "|[0.28879232301285...|                [0.0]|[0.4500807754442649]|[0.28215767634854...|\n",
      "|[0.3306174180698896]|                [0.0]|[0.4084006462035543]|[0.3360995850622407]|\n",
      "+--------------------+---------------------+--------------------+--------------------+\n",
      "only showing top 20 rows\n",
      "\n"
     ]
    }
   ],
   "source": [
    "#MinMaxScaler with vector assembler and pipeline\n",
    "from pyspark.ml import Pipeline\n",
    "from pyspark.ml.feature import MinMaxScaler\n",
    "from pyspark.ml.feature import VectorAssembler\n",
    "from pyspark.sql import functions as func\n",
    "\n",
    "columns_to_scale = ['Global_active_power', 'Global_reactive_power' ,'Voltage', 'Global_intensity']\n",
    "assemblers = [VectorAssembler(inputCols=[col], outputCol=col + \"_vec\") for col in columns_to_scale]\n",
    "scalers = [MinMaxScaler(inputCol=col + \"_vec\", outputCol=col + \"_scaled\") for col in columns_to_scale]\n",
    "pipeline = Pipeline(stages=assemblers + scalers)\n",
    "scalerModel = pipeline.fit(data)\n",
    "scaledData = scalerModel.transform(data)\n",
    "\n",
    "#Post-processing\n",
    "names = {x + \"_scaled\": x for x in columns_to_scale}\n",
    "scaledData = scaledData.select([func.col(c).alias(names[c]) for c in names.keys()])\n",
    "\n",
    "scaledData.show()"
   ]
  },
  {
   "cell_type": "code",
   "execution_count": null,
   "id": "d3a72cdd",
   "metadata": {},
   "outputs": [],
   "source": []
  }
 ],
 "metadata": {
  "kernelspec": {
   "display_name": "Python 3 (ipykernel)",
   "language": "python",
   "name": "python3"
  },
  "language_info": {
   "codemirror_mode": {
    "name": "ipython",
    "version": 3
   },
   "file_extension": ".py",
   "mimetype": "text/x-python",
   "name": "python",
   "nbconvert_exporter": "python",
   "pygments_lexer": "ipython3",
   "version": "3.9.2"
  }
 },
 "nbformat": 4,
 "nbformat_minor": 5
}
