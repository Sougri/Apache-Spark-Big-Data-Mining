{
 "cells": [
  {
   "cell_type": "code",
   "execution_count": 1,
   "id": "1f0f5d25",
   "metadata": {},
   "outputs": [
    {
     "data": {
      "text/plain": [
       "'/usr/local/lib/python3.9/dist-packages'"
      ]
     },
     "execution_count": 1,
     "metadata": {},
     "output_type": "execute_result"
    }
   ],
   "source": [
    "import os\n",
    "os.environ[\"PYSPARK_PYTHON\"] = 'python3' #\"/usr/local/bin/python3\" \".../usr/bin/python3\"\n",
    "'''/usr/local/lib/python3.9/dist-packages'''"
   ]
  },
  {
   "cell_type": "code",
   "execution_count": 2,
   "id": "288b6d17",
   "metadata": {},
   "outputs": [
    {
     "name": "stderr",
     "output_type": "stream",
     "text": [
      "21/12/28 12:47:49 WARN NativeCodeLoader: Unable to load native-hadoop library for your platform... using builtin-java classes where applicable\n",
      "Using Spark's default log4j profile: org/apache/spark/log4j-defaults.properties\n",
      "Setting default log level to \"WARN\".\n",
      "To adjust logging level use sc.setLogLevel(newLevel). For SparkR, use setLogLevel(newLevel).\n"
     ]
    }
   ],
   "source": [
    "from pyspark.sql import SparkSession\n",
    "\n",
    "spark = SparkSession.\\\n",
    "        builder.\\\n",
    "        appName(\"HW4\").\\\n",
    "        master(\"spark://spark-master:7077\").\\\n",
    "        config(\"spark.executor.memory\", \"2g\").\\\n",
    "        getOrCreate()"
   ]
  },
  {
   "cell_type": "code",
   "execution_count": 3,
   "id": "42a4d90b",
   "metadata": {},
   "outputs": [
    {
     "data": {
      "text/plain": [
       "['ml-1m/',\n",
       " 'ml-1m/movies.dat',\n",
       " 'ml-1m/ratings.dat',\n",
       " 'ml-1m/README',\n",
       " 'ml-1m/users.dat']"
      ]
     },
     "execution_count": 3,
     "metadata": {},
     "output_type": "execute_result"
    }
   ],
   "source": [
    "from io import BytesIO\n",
    "from zipfile import ZipFile\n",
    "from urllib.request import urlopen\n",
    "# or: requests.get(url).content\n",
    "\n",
    "resp = urlopen(\"https://files.grouplens.org/datasets/movielens/ml-1m.zip\")\n",
    "zipfile = ZipFile(BytesIO(resp.read()))\n",
    "zipfile.namelist()"
   ]
  },
  {
   "cell_type": "code",
   "execution_count": 4,
   "id": "d35730a1",
   "metadata": {},
   "outputs": [
    {
     "data": {
      "text/html": [
       "<div>\n",
       "<style scoped>\n",
       "    .dataframe tbody tr th:only-of-type {\n",
       "        vertical-align: middle;\n",
       "    }\n",
       "\n",
       "    .dataframe tbody tr th {\n",
       "        vertical-align: top;\n",
       "    }\n",
       "\n",
       "    .dataframe thead th {\n",
       "        text-align: right;\n",
       "    }\n",
       "</style>\n",
       "<table border=\"1\" class=\"dataframe\">\n",
       "  <thead>\n",
       "    <tr style=\"text-align: right;\">\n",
       "      <th></th>\n",
       "      <th>MovieID</th>\n",
       "      <th>Title</th>\n",
       "      <th>Genres</th>\n",
       "    </tr>\n",
       "  </thead>\n",
       "  <tbody>\n",
       "    <tr>\n",
       "      <th>0</th>\n",
       "      <td>1</td>\n",
       "      <td>Toy Story (1995)</td>\n",
       "      <td>Animation|Children's|Comedy</td>\n",
       "    </tr>\n",
       "    <tr>\n",
       "      <th>1</th>\n",
       "      <td>2</td>\n",
       "      <td>Jumanji (1995)</td>\n",
       "      <td>Adventure|Children's|Fantasy</td>\n",
       "    </tr>\n",
       "    <tr>\n",
       "      <th>2</th>\n",
       "      <td>3</td>\n",
       "      <td>Grumpier Old Men (1995)</td>\n",
       "      <td>Comedy|Romance</td>\n",
       "    </tr>\n",
       "    <tr>\n",
       "      <th>3</th>\n",
       "      <td>4</td>\n",
       "      <td>Waiting to Exhale (1995)</td>\n",
       "      <td>Comedy|Drama</td>\n",
       "    </tr>\n",
       "    <tr>\n",
       "      <th>4</th>\n",
       "      <td>5</td>\n",
       "      <td>Father of the Bride Part II (1995)</td>\n",
       "      <td>Comedy</td>\n",
       "    </tr>\n",
       "    <tr>\n",
       "      <th>...</th>\n",
       "      <td>...</td>\n",
       "      <td>...</td>\n",
       "      <td>...</td>\n",
       "    </tr>\n",
       "    <tr>\n",
       "      <th>3878</th>\n",
       "      <td>3948</td>\n",
       "      <td>Meet the Parents (2000)</td>\n",
       "      <td>Comedy</td>\n",
       "    </tr>\n",
       "    <tr>\n",
       "      <th>3879</th>\n",
       "      <td>3949</td>\n",
       "      <td>Requiem for a Dream (2000)</td>\n",
       "      <td>Drama</td>\n",
       "    </tr>\n",
       "    <tr>\n",
       "      <th>3880</th>\n",
       "      <td>3950</td>\n",
       "      <td>Tigerland (2000)</td>\n",
       "      <td>Drama</td>\n",
       "    </tr>\n",
       "    <tr>\n",
       "      <th>3881</th>\n",
       "      <td>3951</td>\n",
       "      <td>Two Family House (2000)</td>\n",
       "      <td>Drama</td>\n",
       "    </tr>\n",
       "    <tr>\n",
       "      <th>3882</th>\n",
       "      <td>3952</td>\n",
       "      <td>Contender, The (2000)</td>\n",
       "      <td>Drama|Thriller</td>\n",
       "    </tr>\n",
       "  </tbody>\n",
       "</table>\n",
       "<p>3883 rows × 3 columns</p>\n",
       "</div>"
      ],
      "text/plain": [
       "      MovieID                               Title  \\\n",
       "0           1                    Toy Story (1995)   \n",
       "1           2                      Jumanji (1995)   \n",
       "2           3             Grumpier Old Men (1995)   \n",
       "3           4            Waiting to Exhale (1995)   \n",
       "4           5  Father of the Bride Part II (1995)   \n",
       "...       ...                                 ...   \n",
       "3878     3948             Meet the Parents (2000)   \n",
       "3879     3949          Requiem for a Dream (2000)   \n",
       "3880     3950                    Tigerland (2000)   \n",
       "3881     3951             Two Family House (2000)   \n",
       "3882     3952               Contender, The (2000)   \n",
       "\n",
       "                            Genres  \n",
       "0      Animation|Children's|Comedy  \n",
       "1     Adventure|Children's|Fantasy  \n",
       "2                   Comedy|Romance  \n",
       "3                     Comedy|Drama  \n",
       "4                           Comedy  \n",
       "...                            ...  \n",
       "3878                        Comedy  \n",
       "3879                         Drama  \n",
       "3880                         Drama  \n",
       "3881                         Drama  \n",
       "3882                Drama|Thriller  \n",
       "\n",
       "[3883 rows x 3 columns]"
      ]
     },
     "execution_count": 4,
     "metadata": {},
     "output_type": "execute_result"
    }
   ],
   "source": [
    "#!pip install numpy\n",
    "#!pip install pandas\n",
    "import pandas as pd\n",
    "\n",
    "header_list1 = [\"UserID\", \"MovieID\", \"Rating\", \"Timestamp\"]\n",
    "header_list2 = [\"MovieID\", \"Title\", \"Genres\"]\n",
    "header_list3 = [\"UserID\", \"Gender\", \"Age\", \"Occupation\", \"Zip-code\"]\n",
    "pRatings = pd.read_csv (zipfile.open('ml-1m/ratings.dat'), sep='::', engine ='python', names=header_list1)\n",
    "pMovies = pd.read_csv (zipfile.open('ml-1m/movies.dat'), sep='::', engine ='python', names=header_list2, encoding = \"ISO-8859-1\")\n",
    "pUsers = pd.read_csv (zipfile.open('ml-1m/users.dat'), sep='::',engine ='python', names=header_list3)\n",
    "pMovies"
   ]
  },
  {
   "cell_type": "code",
   "execution_count": 5,
   "id": "8f18c01b",
   "metadata": {},
   "outputs": [
    {
     "name": "stderr",
     "output_type": "stream",
     "text": [
      "[Stage 0:>                                                          (0 + 1) / 1]\r"
     ]
    },
    {
     "name": "stdout",
     "output_type": "stream",
     "text": [
      "+-------+--------------------+--------------------+\n",
      "|MovieID|               Title|              Genres|\n",
      "+-------+--------------------+--------------------+\n",
      "|      1|    Toy Story (1995)|Animation|Childre...|\n",
      "|      2|      Jumanji (1995)|Adventure|Childre...|\n",
      "|      3|Grumpier Old Men ...|      Comedy|Romance|\n",
      "|      4|Waiting to Exhale...|        Comedy|Drama|\n",
      "|      5|Father of the Bri...|              Comedy|\n",
      "|      6|         Heat (1995)|Action|Crime|Thri...|\n",
      "|      7|      Sabrina (1995)|      Comedy|Romance|\n",
      "|      8| Tom and Huck (1995)|Adventure|Children's|\n",
      "|      9| Sudden Death (1995)|              Action|\n",
      "|     10|    GoldenEye (1995)|Action|Adventure|...|\n",
      "|     11|American Presiden...|Comedy|Drama|Romance|\n",
      "|     12|Dracula: Dead and...|       Comedy|Horror|\n",
      "|     13|        Balto (1995)|Animation|Children's|\n",
      "|     14|        Nixon (1995)|               Drama|\n",
      "|     15|Cutthroat Island ...|Action|Adventure|...|\n",
      "|     16|       Casino (1995)|      Drama|Thriller|\n",
      "|     17|Sense and Sensibi...|       Drama|Romance|\n",
      "|     18|   Four Rooms (1995)|            Thriller|\n",
      "|     19|Ace Ventura: When...|              Comedy|\n",
      "|     20|  Money Train (1995)|              Action|\n",
      "+-------+--------------------+--------------------+\n",
      "only showing top 20 rows\n",
      "\n"
     ]
    },
    {
     "name": "stderr",
     "output_type": "stream",
     "text": [
      "                                                                                \r"
     ]
    }
   ],
   "source": [
    "#Pandas to spark dataframe\n",
    "\n",
    "Ratings = spark.createDataFrame(pRatings)\n",
    "Movies = spark.createDataFrame(pMovies)\n",
    "Users = spark.createDataFrame(pUsers)\n",
    "    \n",
    "Movies.show()"
   ]
  },
  {
   "cell_type": "markdown",
   "id": "aea4b44a",
   "metadata": {},
   "source": [
    "#### Top-rated movies by all users"
   ]
  },
  {
   "cell_type": "code",
   "execution_count": 6,
   "id": "0194f881",
   "metadata": {},
   "outputs": [
    {
     "name": "stderr",
     "output_type": "stream",
     "text": [
      "21/12/28 12:48:52 WARN TaskSetManager: Stage 1 contains a task of very large size (3864 KiB). The maximum recommended task size is 1000 KiB.\n",
      "[Stage 2:===================================================>   (189 + 4) / 200]\r"
     ]
    },
    {
     "name": "stdout",
     "output_type": "stream",
     "text": [
      "+-------+-----------------+\n",
      "|MovieID|avg(Rating)      |\n",
      "+-------+-----------------+\n",
      "|3656   |5.0              |\n",
      "|3172   |5.0              |\n",
      "|3881   |5.0              |\n",
      "|1830   |5.0              |\n",
      "|787    |5.0              |\n",
      "|3382   |5.0              |\n",
      "|3233   |5.0              |\n",
      "|3280   |5.0              |\n",
      "|989    |5.0              |\n",
      "|3607   |5.0              |\n",
      "|3245   |4.8              |\n",
      "|53     |4.75             |\n",
      "|2503   |4.666666666666667|\n",
      "|2905   |4.608695652173913|\n",
      "|2019   |4.560509554140127|\n",
      "|318    |4.554557700942973|\n",
      "|858    |4.524966261808367|\n",
      "|745    |4.52054794520548 |\n",
      "|50     |4.517106001121705|\n",
      "|527    |4.510416666666667|\n",
      "+-------+-----------------+\n",
      "only showing top 20 rows\n",
      "\n"
     ]
    },
    {
     "name": "stderr",
     "output_type": "stream",
     "text": [
      "                                                                                \r"
     ]
    }
   ],
   "source": [
    "#Top-rated movies \n",
    "Ratings.groupBy(\"MovieID\")\\\n",
    "    .agg({'Rating': 'avg'})\\\n",
    "    .sort('avg(Rating)', ascending=False)\\\n",
    "    .show(20, False)"
   ]
  },
  {
   "cell_type": "markdown",
   "id": "ccbde365",
   "metadata": {},
   "source": [
    "#### Top-rated movies grouped by gender, by age group, and by occupation, respectively"
   ]
  },
  {
   "cell_type": "code",
   "execution_count": 7,
   "id": "1920e177",
   "metadata": {},
   "outputs": [
    {
     "name": "stderr",
     "output_type": "stream",
     "text": [
      "21/12/28 12:49:03 WARN TaskSetManager: Stage 3 contains a task of very large size (3864 KiB). The maximum recommended task size is 1000 KiB.\n",
      "[Stage 4:>                                                          (0 + 4) / 4]\r"
     ]
    },
    {
     "name": "stdout",
     "output_type": "stream",
     "text": [
      "+------+-------+------+---------+------+---+----------+--------+\n",
      "|UserID|MovieID|Rating|Timestamp|Gender|Age|Occupation|Zip-code|\n",
      "+------+-------+------+---------+------+---+----------+--------+\n",
      "|26    |3421   |3     |978141452|M     |25 |7         |23112   |\n",
      "|26    |3422   |3     |978271825|M     |25 |7         |23112   |\n",
      "|26    |1179   |4     |978274105|M     |25 |7         |23112   |\n",
      "|26    |3423   |3     |978147079|M     |25 |7         |23112   |\n",
      "|26    |719    |3     |978271742|M     |25 |7         |23112   |\n",
      "|26    |2622   |3     |978275603|M     |25 |7         |23112   |\n",
      "|26    |648    |3     |978139685|M     |25 |7         |23112   |\n",
      "|26    |3426   |3     |978271666|M     |25 |7         |23112   |\n",
      "|26    |2628   |2     |978143313|M     |25 |7         |23112   |\n",
      "|26    |1682   |5     |978138796|M     |25 |7         |23112   |\n",
      "|26    |3287   |2     |978140681|M     |25 |7         |23112   |\n",
      "|26    |2558   |3     |978271539|M     |25 |7         |23112   |\n",
      "|26    |216    |2     |978145295|M     |25 |7         |23112   |\n",
      "|26    |217    |3     |978271309|M     |25 |7         |23112   |\n",
      "|26    |1689   |2     |978140284|M     |25 |7         |23112   |\n",
      "|26    |2053   |1     |978145681|M     |25 |7         |23112   |\n",
      "|26    |2054   |3     |978143348|M     |25 |7         |23112   |\n",
      "|26    |3500   |2     |978144939|M     |25 |7         |23112   |\n",
      "|26    |2059   |1     |978139535|M     |25 |7         |23112   |\n",
      "|26    |724    |3     |978145618|M     |25 |7         |23112   |\n",
      "+------+-------+------+---------+------+---+----------+--------+\n",
      "only showing top 20 rows\n",
      "\n"
     ]
    },
    {
     "name": "stderr",
     "output_type": "stream",
     "text": [
      "                                                                                \r"
     ]
    }
   ],
   "source": [
    "#Generating new dataframe ratings by user\n",
    "from pyspark.sql.functions import col, udf, split, explode, first\n",
    "\n",
    "Users = Users.withColumnRenamed(\"UserID\", \"UserID1\")\n",
    "userRatings = Ratings.join(Users,Ratings.UserID ==  Users.UserID1,\"inner\")\\\n",
    "    .drop('UserID1')\n",
    "userRatings.show(truncate=False)"
   ]
  },
  {
   "cell_type": "code",
   "execution_count": 8,
   "id": "5722bfb0",
   "metadata": {},
   "outputs": [
    {
     "name": "stderr",
     "output_type": "stream",
     "text": [
      "21/12/28 12:49:05 WARN TaskSetManager: Stage 6 contains a task of very large size (3864 KiB). The maximum recommended task size is 1000 KiB.\n",
      "[Stage 9:==================================================>    (182 + 4) / 200]\r"
     ]
    },
    {
     "name": "stdout",
     "output_type": "stream",
     "text": [
      "+-------+------+-----------+\n",
      "|MovieID|Gender|avg(Rating)|\n",
      "+-------+------+-----------+\n",
      "|3280   |M     |5.0        |\n",
      "|3817   |F     |5.0        |\n",
      "|439    |M     |5.0        |\n",
      "|3382   |F     |5.0        |\n",
      "|3172   |M     |5.0        |\n",
      "|2332   |F     |5.0        |\n",
      "|1071   |F     |5.0        |\n",
      "|1780   |F     |5.0        |\n",
      "|1450   |F     |5.0        |\n",
      "|989    |M     |5.0        |\n",
      "|1420   |F     |5.0        |\n",
      "|985    |M     |5.0        |\n",
      "|3656   |M     |5.0        |\n",
      "|3881   |F     |5.0        |\n",
      "|3245   |F     |5.0        |\n",
      "|53     |F     |5.0        |\n",
      "|687    |F     |5.0        |\n",
      "|2981   |F     |5.0        |\n",
      "|2675   |F     |5.0        |\n",
      "|3607   |F     |5.0        |\n",
      "+-------+------+-----------+\n",
      "only showing top 20 rows\n",
      "\n"
     ]
    },
    {
     "name": "stderr",
     "output_type": "stream",
     "text": [
      "                                                                                \r"
     ]
    }
   ],
   "source": [
    "#Top-rated movies grouped by gender, by age group, and by occupation, respectively\n",
    "#movie, gender, score\n",
    "userRatings.groupBy(\"MovieID\", \"Gender\")\\\n",
    "    .agg({\"Rating\": \"avg\"})\\\n",
    "    .sort(\"avg(Rating)\", ascending=False)\\\n",
    "    .show(20, False)"
   ]
  },
  {
   "cell_type": "code",
   "execution_count": 9,
   "id": "9a763702",
   "metadata": {},
   "outputs": [
    {
     "name": "stderr",
     "output_type": "stream",
     "text": [
      "21/12/28 12:49:17 WARN TaskSetManager: Stage 11 contains a task of very large size (3864 KiB). The maximum recommended task size is 1000 KiB.\n",
      "[Stage 13:====================================================> (193 + 5) / 200]\r"
     ]
    },
    {
     "name": "stdout",
     "output_type": "stream",
     "text": [
      "+-------+---+-----------+\n",
      "|MovieID|Age|avg(Rating)|\n",
      "+-------+---+-----------+\n",
      "|613    |1  |5.0        |\n",
      "|1899   |56 |5.0        |\n",
      "|3048   |18 |5.0        |\n",
      "|3823   |56 |5.0        |\n",
      "|3318   |1  |5.0        |\n",
      "|38     |50 |5.0        |\n",
      "|1067   |1  |5.0        |\n",
      "|3092   |56 |5.0        |\n",
      "|3640   |25 |5.0        |\n",
      "|3192   |50 |5.0        |\n",
      "|3532   |56 |5.0        |\n",
      "|3781   |1  |5.0        |\n",
      "|167    |25 |5.0        |\n",
      "|570    |1  |5.0        |\n",
      "|3464   |50 |5.0        |\n",
      "|1809   |45 |5.0        |\n",
      "|1002   |50 |5.0        |\n",
      "|581    |1  |5.0        |\n",
      "|1202   |1  |5.0        |\n",
      "|1053   |50 |5.0        |\n",
      "+-------+---+-----------+\n",
      "only showing top 20 rows\n",
      "\n"
     ]
    },
    {
     "name": "stderr",
     "output_type": "stream",
     "text": [
      "                                                                                \r"
     ]
    }
   ],
   "source": [
    "#movie, age group, score\n",
    "userRatings.groupBy(\"MovieID\", \"Age\")\\\n",
    "    .agg({\"Rating\": \"AVG\"})\\\n",
    "    .sort(\"avg(Rating)\", ascending=False)\\\n",
    "    .show(20, False)"
   ]
  },
  {
   "cell_type": "code",
   "execution_count": 10,
   "id": "7d67e2be",
   "metadata": {},
   "outputs": [
    {
     "name": "stderr",
     "output_type": "stream",
     "text": [
      "21/12/28 12:49:24 WARN TaskSetManager: Stage 15 contains a task of very large size (3864 KiB). The maximum recommended task size is 1000 KiB.\n",
      "[Stage 17:===================================================>  (192 + 4) / 200]\r"
     ]
    },
    {
     "name": "stdout",
     "output_type": "stream",
     "text": [
      "+-------+----------+-----------+\n",
      "|MovieID|occupation|avg(Rating)|\n",
      "+-------+----------+-----------+\n",
      "|2249   |10        |5.0        |\n",
      "|3741   |10        |5.0        |\n",
      "|3311   |20        |5.0        |\n",
      "|946    |18        |5.0        |\n",
      "|2442   |5         |5.0        |\n",
      "|1539   |20        |5.0        |\n",
      "|567    |14        |5.0        |\n",
      "|2345   |6         |5.0        |\n",
      "|668    |5         |5.0        |\n",
      "|1549   |0         |5.0        |\n",
      "|2654   |10        |5.0        |\n",
      "|1899   |2         |5.0        |\n",
      "|1725   |13        |5.0        |\n",
      "|2185   |12        |5.0        |\n",
      "|279    |20        |5.0        |\n",
      "|3038   |19        |5.0        |\n",
      "|3925   |19        |5.0        |\n",
      "|906    |10        |5.0        |\n",
      "|967    |15        |5.0        |\n",
      "|2776   |2         |5.0        |\n",
      "+-------+----------+-----------+\n",
      "only showing top 20 rows\n",
      "\n"
     ]
    },
    {
     "name": "stderr",
     "output_type": "stream",
     "text": [
      "                                                                                \r"
     ]
    }
   ],
   "source": [
    "#movie, occupation, score\n",
    "userRatings.groupBy(\"MovieID\", \"occupation\")\\\n",
    "    .agg({\"Rating\": \"avg\"})\\\n",
    "    .sort(\"avg(Rating)\", ascending=False)\\\n",
    "    .show(20, False)"
   ]
  },
  {
   "cell_type": "markdown",
   "id": "062574d4",
   "metadata": {},
   "source": [
    "#### Average rating score of each user for all movies, and grouped by genre, respectively"
   ]
  },
  {
   "cell_type": "code",
   "execution_count": 11,
   "id": "c3814a34",
   "metadata": {},
   "outputs": [
    {
     "name": "stderr",
     "output_type": "stream",
     "text": [
      "21/12/28 12:49:32 WARN TaskSetManager: Stage 19 contains a task of very large size (3864 KiB). The maximum recommended task size is 1000 KiB.\n",
      "[Stage 20:====================================================> (194 + 4) / 200]\r"
     ]
    },
    {
     "name": "stdout",
     "output_type": "stream",
     "text": [
      "+------+-------+------+----------+------+---+----------+--------+--------------+------+\n",
      "|UserID|MovieID|Rating|Timestamp |Gender|Age|Occupation|Zip-code|Title         |Genres|\n",
      "+------+-------+------+----------+------+---+----------+--------+--------------+------+\n",
      "|1447  |26     |5     |981019950 |M     |18 |4         |80521   |Othello (1995)|Drama |\n",
      "|4139  |26     |4     |965350650 |M     |56 |14        |40207   |Othello (1995)|Drama |\n",
      "|229   |26     |4     |1039503573|M     |18 |10        |04576   |Othello (1995)|Drama |\n",
      "|3940  |26     |4     |965752989 |M     |35 |20        |32708   |Othello (1995)|Drama |\n",
      "|1778  |26     |4     |975557687 |M     |18 |4         |94704   |Othello (1995)|Drama |\n",
      "|3507  |26     |3     |966999088 |M     |25 |0         |02472   |Othello (1995)|Drama |\n",
      "|5083  |26     |5     |962407158 |M     |25 |4         |16803   |Othello (1995)|Drama |\n",
      "|4294  |26     |3     |1022309751|M     |1  |10        |75633   |Othello (1995)|Drama |\n",
      "|3253  |26     |4     |968283674 |F     |35 |4         |26505   |Othello (1995)|Drama |\n",
      "|5630  |26     |4     |980085292 |M     |35 |17        |06854   |Othello (1995)|Drama |\n",
      "|5755  |26     |4     |958281788 |F     |35 |2         |78744   |Othello (1995)|Drama |\n",
      "|4508  |26     |2     |964984466 |M     |25 |20        |15701   |Othello (1995)|Drama |\n",
      "|748   |26     |5     |975463153 |M     |25 |0         |60098   |Othello (1995)|Drama |\n",
      "|4887  |26     |3     |962740870 |M     |18 |2         |19072   |Othello (1995)|Drama |\n",
      "|4957  |26     |4     |962907801 |M     |25 |2         |48197   |Othello (1995)|Drama |\n",
      "|3320  |26     |4     |967922072 |M     |25 |1         |56082   |Othello (1995)|Drama |\n",
      "|5543  |26     |4     |959512257 |M     |25 |17        |97401   |Othello (1995)|Drama |\n",
      "|5916  |26     |2     |957320613 |M     |50 |20        |48230   |Othello (1995)|Drama |\n",
      "|3563  |26     |5     |966785305 |M     |25 |2         |33133   |Othello (1995)|Drama |\n",
      "|1354  |26     |3     |978298712 |F     |25 |2         |94040   |Othello (1995)|Drama |\n",
      "+------+-------+------+----------+------+---+----------+--------+--------------+------+\n",
      "only showing top 20 rows\n",
      "\n"
     ]
    },
    {
     "name": "stderr",
     "output_type": "stream",
     "text": [
      "                                                                                \r"
     ]
    }
   ],
   "source": [
    "#Generating new dataframe movies user rating  \n",
    "Movies = Movies.withColumnRenamed(\"MovieID\", \"MovieID1\")\n",
    "movieUserRatings = userRatings.join(Movies, userRatings.MovieID ==  Movies.MovieID1,\"inner\")\\\n",
    "    .drop('MovieID1')\n",
    "movieUserRatings.show(truncate=False)"
   ]
  },
  {
   "cell_type": "code",
   "execution_count": 12,
   "id": "0edbf055",
   "metadata": {},
   "outputs": [
    {
     "name": "stderr",
     "output_type": "stream",
     "text": [
      "21/12/28 12:49:38 WARN TaskSetManager: Stage 23 contains a task of very large size (3864 KiB). The maximum recommended task size is 1000 KiB.\n",
      "[Stage 28:=====================================================>(197 + 3) / 200]\r"
     ]
    },
    {
     "name": "stdout",
     "output_type": "stream",
     "text": [
      "+------+------------------+\n",
      "|UserID|avg(Rating)       |\n",
      "+------+------------------+\n",
      "|283   |4.962962962962963 |\n",
      "|2339  |4.956521739130435 |\n",
      "|3324  |4.904761904761905 |\n",
      "|3902  |4.890909090909091 |\n",
      "|446   |4.8431372549019605|\n",
      "|447   |4.837837837837838 |\n",
      "|4649  |4.818181818181818 |\n",
      "|4634  |4.813725490196078 |\n",
      "|1131  |4.796116504854369 |\n",
      "|4925  |4.761904761904762 |\n",
      "|4755  |4.76              |\n",
      "|5069  |4.76              |\n",
      "|4801  |4.73469387755102  |\n",
      "|682   |4.733333333333333 |\n",
      "|1670  |4.714285714285714 |\n",
      "|91    |4.704545454545454 |\n",
      "|3461  |4.702702702702703 |\n",
      "|5768  |4.702702702702703 |\n",
      "|5984  |4.7               |\n",
      "|1021  |4.694656488549619 |\n",
      "+------+------------------+\n",
      "only showing top 20 rows\n",
      "\n"
     ]
    },
    {
     "name": "stderr",
     "output_type": "stream",
     "text": [
      "                                                                                \r"
     ]
    }
   ],
   "source": [
    "#Average rating score of each user for all movies, and grouped by genre, respectively\n",
    "#user, score\n",
    "movieUserRatings.groupBy(\"UserID\")\\\n",
    "    .agg({\"Rating\": \"avg\"})\\\n",
    "    .sort(\"avg(Rating)\", ascending=False)\\\n",
    "    .show(20, False)"
   ]
  },
  {
   "cell_type": "code",
   "execution_count": 13,
   "id": "0bd96133",
   "metadata": {},
   "outputs": [
    {
     "name": "stderr",
     "output_type": "stream",
     "text": [
      "21/12/28 12:49:51 WARN TaskSetManager: Stage 29 contains a task of very large size (3864 KiB). The maximum recommended task size is 1000 KiB.\n",
      "[Stage 34:=================================================>    (185 + 4) / 200]\r"
     ]
    },
    {
     "name": "stdout",
     "output_type": "stream",
     "text": [
      "+------+-----------------------------------+-----------+\n",
      "|UserID|Genres                             |avg(Rating)|\n",
      "+------+-----------------------------------+-----------+\n",
      "|3916  |Sci-Fi                             |5.0        |\n",
      "|137   |Adventure|Comedy|Sci-Fi            |5.0        |\n",
      "|1601  |Action|Horror|Sci-Fi               |5.0        |\n",
      "|4083  |Action|Adventure|Romance|Sci-Fi|War|5.0        |\n",
      "|3513  |Horror                             |5.0        |\n",
      "|5063  |Action|Adventure|Romance|Sci-Fi|War|5.0        |\n",
      "|5270  |Comedy|Crime|Fantasy               |5.0        |\n",
      "|1875  |Action|Adventure|Romance|Sci-Fi|War|5.0        |\n",
      "|3292  |Action|Drama|Romance               |5.0        |\n",
      "|3140  |Action|Adventure|Romance|Sci-Fi|War|5.0        |\n",
      "|4832  |Film-Noir|Sci-Fi                   |5.0        |\n",
      "|2454  |Action|Adventure|Romance|Sci-Fi|War|5.0        |\n",
      "|3721  |Crime|Thriller                     |5.0        |\n",
      "|4245  |Action|Adventure|Romance|Sci-Fi|War|5.0        |\n",
      "|3147  |Action|Adventure|Romance|Thriller  |5.0        |\n",
      "|3435  |Action|Adventure|Romance|Sci-Fi|War|5.0        |\n",
      "|3711  |Animation|Children's               |5.0        |\n",
      "|4741  |Crime|Drama                        |5.0        |\n",
      "|1268  |Film-Noir|Sci-Fi                   |5.0        |\n",
      "|446   |Comedy                             |5.0        |\n",
      "+------+-----------------------------------+-----------+\n",
      "only showing top 20 rows\n",
      "\n"
     ]
    },
    {
     "name": "stderr",
     "output_type": "stream",
     "text": [
      "                                                                                \r"
     ]
    }
   ],
   "source": [
    "#user, genre, score\n",
    "movieUserRatings.groupBy(\"UserID\", \"Genres\")\\\n",
    "    .agg({\"Rating\": \"avg\"})\\\n",
    "    .sort(\"avg(Rating)\", ascending=False)\\\n",
    "    .show(20, False)"
   ]
  },
  {
   "cell_type": "markdown",
   "id": "86a414df",
   "metadata": {},
   "source": [
    "#### Top-’similar’ users based on the cosine similarity of previous ratings each user has given. Sorted in descending order of ‘user’ similarity score."
   ]
  },
  {
   "cell_type": "code",
   "execution_count": 14,
   "id": "b27fe5a3",
   "metadata": {},
   "outputs": [
    {
     "name": "stderr",
     "output_type": "stream",
     "text": [
      "21/12/28 12:50:02 WARN TaskSetManager: Stage 35 contains a task of very large size (3864 KiB). The maximum recommended task size is 1000 KiB.\n",
      "[Stage 39:===================================================>  (191 + 4) / 200]\r"
     ]
    },
    {
     "name": "stdout",
     "output_type": "stream",
     "text": [
      "+------+--------------------+\n",
      "|UserID|            Ratings2|\n",
      "+------+--------------------+\n",
      "|    26|[4, 2, 3, 2, 3, 3...|\n",
      "|    29|[2, 5, 3, 2, 4, 3...|\n",
      "|   474|[4, 5, 5, 1, 3, 5...|\n",
      "|  1697|[5, 4, 4, 4, 4, 4...|\n",
      "|  1950|[3, 2, 3, 5, 3, 3...|\n",
      "|  2040|[4, 1, 1, 3, 5, 5...|\n",
      "|  2453|[5, 4, 4, 3, 2, 2...|\n",
      "|  2509|[2, 1, 4, 4, 4, 3...|\n",
      "|  2529|[4, 4, 4, 3, 3, 5...|\n",
      "|  4823|[4, 4, 4, 4, 3, 3...|\n",
      "|  1677|[5, 4, 1, 2, 4, 4...|\n",
      "|  1806|[4, 4, 5, 4, 5, 4...|\n",
      "|  2250|[4, 5, 2, 5, 1, 4...|\n",
      "|  2927|[4, 3, 4, 3, 5, 3...|\n",
      "|  3506|[4, 5, 4, 5, 5, 3...|\n",
      "|  3764|[3, 5, 5, 2, 5, 4...|\n",
      "|  4590|[3, 2, 4, 5, 3, 5...|\n",
      "|  5556|[4, 3, 2, 3, 2, 3...|\n",
      "|  3091|[5, 1, 4, 3, 4, 4...|\n",
      "|   964|[4, 3, 3, 4, 3, 4...|\n",
      "+------+--------------------+\n",
      "only showing top 20 rows\n",
      "\n"
     ]
    },
    {
     "name": "stderr",
     "output_type": "stream",
     "text": [
      "                                                                                \r"
     ]
    }
   ],
   "source": [
    "from pyspark.sql import functions as F\n",
    "userBased1 = movieUserRatings.groupby(\"UserID\")\\\n",
    "                              .agg(F.collect_list(\"Rating\").alias(\"Ratings1\"))\n",
    "\n",
    "userBased2 = movieUserRatings.groupby(\"UserID\")\\\n",
    "                              .agg(F.collect_list(\"Rating\").alias(\"Ratings2\"))\n",
    "userBased2.show()"
   ]
  },
  {
   "cell_type": "code",
   "execution_count": 15,
   "id": "46b7c427",
   "metadata": {},
   "outputs": [
    {
     "name": "stderr",
     "output_type": "stream",
     "text": [
      "21/12/28 12:50:13 WARN TaskSetManager: Stage 42 contains a task of very large size (3864 KiB). The maximum recommended task size is 1000 KiB.\n",
      "[Stage 46:====================================================> (193 + 4) / 200]\r"
     ]
    },
    {
     "name": "stdout",
     "output_type": "stream",
     "text": [
      "+------+---+----------+------------------+\n",
      "|UserID|Age|Occupation|       avg(Rating)|\n",
      "+------+---+----------+------------------+\n",
      "|   283| 25|         0| 4.962962962962963|\n",
      "|  2339| 56|         3| 4.956521739130435|\n",
      "|  3324| 35|        17| 4.904761904761905|\n",
      "|  3902| 25|         5| 4.890909090909091|\n",
      "|   446| 50|         0|4.8431372549019605|\n",
      "|   447| 45|        11| 4.837837837837838|\n",
      "|  4649| 56|        13| 4.818181818181818|\n",
      "|  4634| 50|        20| 4.813725490196078|\n",
      "|  1131| 56|        13| 4.796116504854369|\n",
      "|  4925| 35|         6| 4.761904761904762|\n",
      "|  5069| 56|         0|              4.76|\n",
      "|  4755| 56|         7|              4.76|\n",
      "|  4801| 25|         4|  4.73469387755102|\n",
      "|   682| 25|         4| 4.733333333333333|\n",
      "|  1670| 56|        13| 4.714285714285714|\n",
      "|    91| 35|         7| 4.704545454545454|\n",
      "|  3461| 35|         0| 4.702702702702703|\n",
      "|  5768|  1|         7| 4.702702702702703|\n",
      "|  5984| 25|         1|               4.7|\n",
      "|  1021| 35|         0| 4.694656488549619|\n",
      "+------+---+----------+------------------+\n",
      "only showing top 20 rows\n",
      "\n"
     ]
    },
    {
     "name": "stderr",
     "output_type": "stream",
     "text": [
      "                                                                                \r"
     ]
    }
   ],
   "source": [
    "userBased3 = movieUserRatings.select(\"UserID\", \"Age\", \"Occupation\", \"Rating\")\\\n",
    "                            .groupby(\"UserID\",\"Age\", \"Occupation\")\\\n",
    "                            .agg({\"Rating\": \"avg\"})\\\n",
    "                            .sort(\"avg(Rating)\", ascending=False)\n",
    "userBased3.show()"
   ]
  },
  {
   "cell_type": "code",
   "execution_count": 16,
   "id": "d08815a1",
   "metadata": {},
   "outputs": [
    {
     "name": "stderr",
     "output_type": "stream",
     "text": [
      "21/12/28 12:50:24 WARN TaskSetManager: Stage 48 contains a task of very large size (3864 KiB). The maximum recommended task size is 1000 KiB.\n",
      "21/12/28 12:50:38 WARN TaskSetManager: Stage 54 contains a task of very large size (3864 KiB). The maximum recommended task size is 1000 KiB.\n",
      "[Stage 58:===================================================>  (189 + 4) / 200]\r"
     ]
    },
    {
     "name": "stdout",
     "output_type": "stream",
     "text": [
      "+-------+-------+------------------+\n",
      "|UserID1|UserID2| cosine_similarity|\n",
      "+-------+-------+------------------+\n",
      "|     26|     26|               1.0|\n",
      "|     26|     29|0.9159281935970004|\n",
      "|     26|   1697|0.9413624426947305|\n",
      "|     26|   1950|0.9073710145623568|\n",
      "|     26|   2040|              null|\n",
      "|     26|   2453|0.9086757824609223|\n",
      "|     26|   2529|0.9170126568304348|\n",
      "|     26|   3091|0.9282404191423106|\n",
      "|     26|   3506|0.9286935505748676|\n",
      "|     26|   4823|0.8750061515700919|\n",
      "|     26|   5556|0.9323289920821245|\n",
      "|     26|    474|0.8954791004116868|\n",
      "|     26|    964|0.9328019735787175|\n",
      "|     26|   1806|0.9223192159494613|\n",
      "|     26|   4894|              null|\n",
      "|     26|   1677|              null|\n",
      "|     26|   5385|              null|\n",
      "|     26|   2509|              null|\n",
      "|     26|   2214| 0.936572670617149|\n",
      "|     26|   2927|0.9142506694329033|\n",
      "+-------+-------+------------------+\n",
      "only showing top 20 rows\n",
      "\n"
     ]
    },
    {
     "name": "stderr",
     "output_type": "stream",
     "text": [
      "                                                                                \r"
     ]
    }
   ],
   "source": [
    "userBased1 = userBased1.withColumnRenamed(\"UserID\", \"UserID1\")\n",
    "userBased2 = userBased2.withColumnRenamed(\"UserID\", \"UserID2\")\n",
    "\n",
    "size = userBased1.limit(1).select(F.size('Ratings1')).first()[0]\n",
    "crossUser = userBased1.crossJoin(userBased2)\n",
    "\n",
    "# Get cosine similarity\n",
    "userResult = crossUser.select('UserID1','UserID2',\n",
    "                       sum([F.col('Ratings1')[i] * F.col('Ratings2')[i] for i in range(size)]).alias('dot_product'),\n",
    "                       F.sqrt(sum([F.col('Ratings1')[i] * F.col('Ratings1')[i] for i in range(size)])).alias('norm1'),\n",
    "                       F.sqrt(sum([F.col('Ratings2')[i] * F.col('Ratings2')[i] for i in range(size)])).alias('norm2'))\\\n",
    "                        .selectExpr('UserID1', 'UserID2', 'dot_product / norm1 / norm2 as cosine_similarity')\n",
    "userResult.show()"
   ]
  },
  {
   "cell_type": "markdown",
   "id": "732080bd",
   "metadata": {},
   "source": [
    "#### Top-’similar’ movies based on the cosine similarity of previous ratings each movie received. Sorted in descending order of ‘item’ similarity score."
   ]
  },
  {
   "cell_type": "code",
   "execution_count": 20,
   "id": "536d49a1",
   "metadata": {},
   "outputs": [
    {
     "name": "stderr",
     "output_type": "stream",
     "text": [
      "21/12/28 12:53:00 WARN TaskSetManager: Stage 85 contains a task of very large size (3864 KiB). The maximum recommended task size is 1000 KiB.\n",
      "[Stage 86:=====================================================>(198 + 2) / 200]\r"
     ]
    },
    {
     "name": "stdout",
     "output_type": "stream",
     "text": [
      "+-------+--------------------+\n",
      "|MovieID|            Ratings2|\n",
      "+-------+--------------------+\n",
      "|     26|[4, 4, 2, 4, 5, 4...|\n",
      "|     29|[4, 5, 4, 4, 5, 5...|\n",
      "|    474|[4, 5, 4, 4, 4, 4...|\n",
      "|    964|[5, 2, 3, 3, 3, 4...|\n",
      "|   1677|[2, 3, 3, 3, 3, 4...|\n",
      "|   1806|[2, 1, 3, 5, 2, 3...|\n",
      "|   1950|[4, 5, 5, 5, 5, 5...|\n",
      "|   2040|[3, 2, 2, 1, 3, 3...|\n",
      "|   2214|                 [3]|\n",
      "|   2250|[3, 4, 5, 3, 3, 4...|\n",
      "|   2453|[2, 1, 3, 4, 4, 3...|\n",
      "|   2509|[2, 4, 3, 2, 2, 2...|\n",
      "|   2529|[5, 5, 4, 4, 5, 1...|\n",
      "|   2927|[5, 3, 4, 5, 5, 5...|\n",
      "|   3091|[4, 5, 4, 3, 4, 5...|\n",
      "|   3506|[4, 3, 3, 3, 4, 3...|\n",
      "|   3764|[3, 1, 3, 2, 2, 1...|\n",
      "|     65|[1, 4, 1, 1, 3, 1...|\n",
      "|    191|[3, 2, 2, 2, 2, 3...|\n",
      "|    418|[5, 4, 2, 1, 2, 2...|\n",
      "+-------+--------------------+\n",
      "only showing top 20 rows\n",
      "\n"
     ]
    },
    {
     "name": "stderr",
     "output_type": "stream",
     "text": [
      "                                                                                \r"
     ]
    }
   ],
   "source": [
    "movieBased1 = movieUserRatings.groupby(\"MovieID\")\\\n",
    "                              .agg(F.collect_list(\"Rating\").alias(\"Ratings1\"))\n",
    "movieBased2 = movieUserRatings.groupby(\"MovieID\")\\\n",
    "                              .agg(F.collect_list(\"Rating\").alias(\"Ratings2\"))\n",
    "movieBased2.show()"
   ]
  },
  {
   "cell_type": "code",
   "execution_count": 22,
   "id": "17e63f88",
   "metadata": {},
   "outputs": [
    {
     "name": "stderr",
     "output_type": "stream",
     "text": [
      "21/12/28 13:08:43 WARN TaskSetManager: Stage 105 contains a task of very large size (3864 KiB). The maximum recommended task size is 1000 KiB.\n",
      "21/12/28 13:08:56 ERROR CodeGenerator: failed to compile: org.codehaus.janino.InternalCompilerException: Compiling \"GeneratedClass\" in \"generated.java\": Code of method \"processNext()V\" of class \"org.apache.spark.sql.catalyst.expressions.GeneratedClass$GeneratedIteratorForCodegenStage21\" grows beyond 64 KB\n",
      "org.codehaus.janino.InternalCompilerException: Compiling \"GeneratedClass\" in \"generated.java\": Code of method \"processNext()V\" of class \"org.apache.spark.sql.catalyst.expressions.GeneratedClass$GeneratedIteratorForCodegenStage21\" grows beyond 64 KB\n",
      "\tat org.codehaus.janino.UnitCompiler.compile2(UnitCompiler.java:366)\n",
      "\tat org.codehaus.janino.UnitCompiler.access$000(UnitCompiler.java:226)\n",
      "\tat org.codehaus.janino.UnitCompiler$1.visitCompilationUnit(UnitCompiler.java:336)\n",
      "\tat org.codehaus.janino.UnitCompiler$1.visitCompilationUnit(UnitCompiler.java:333)\n",
      "\tat org.codehaus.janino.Java$CompilationUnit.accept(Java.java:363)\n",
      "\tat org.codehaus.janino.UnitCompiler.compileUnit(UnitCompiler.java:333)\n",
      "\tat org.codehaus.janino.SimpleCompiler.cook(SimpleCompiler.java:235)\n",
      "\tat org.codehaus.janino.SimpleCompiler.compileToClassLoader(SimpleCompiler.java:464)\n",
      "\tat org.codehaus.janino.ClassBodyEvaluator.compileToClass(ClassBodyEvaluator.java:314)\n",
      "\tat org.codehaus.janino.ClassBodyEvaluator.cook(ClassBodyEvaluator.java:237)\n",
      "\tat org.codehaus.janino.SimpleCompiler.cook(SimpleCompiler.java:205)\n",
      "\tat org.codehaus.commons.compiler.Cookable.cook(Cookable.java:80)\n",
      "\tat org.apache.spark.sql.catalyst.expressions.codegen.CodeGenerator$.org$apache$spark$sql$catalyst$expressions$codegen$CodeGenerator$$doCompile(CodeGenerator.scala:1370)\n",
      "\tat org.apache.spark.sql.catalyst.expressions.codegen.CodeGenerator$$anon$1.load(CodeGenerator.scala:1467)\n",
      "\tat org.apache.spark.sql.catalyst.expressions.codegen.CodeGenerator$$anon$1.load(CodeGenerator.scala:1464)\n",
      "\tat org.sparkproject.guava.cache.LocalCache$LoadingValueReference.loadFuture(LocalCache.java:3599)\n",
      "\tat org.sparkproject.guava.cache.LocalCache$Segment.loadSync(LocalCache.java:2379)\n",
      "\tat org.sparkproject.guava.cache.LocalCache$Segment.lockedGetOrLoad(LocalCache.java:2342)\n",
      "\tat org.sparkproject.guava.cache.LocalCache$Segment.get(LocalCache.java:2257)\n",
      "\tat org.sparkproject.guava.cache.LocalCache.get(LocalCache.java:4000)\n",
      "\tat org.sparkproject.guava.cache.LocalCache.getOrLoad(LocalCache.java:4004)\n",
      "\tat org.sparkproject.guava.cache.LocalCache$LocalLoadingCache.get(LocalCache.java:4874)\n",
      "\tat org.apache.spark.sql.catalyst.expressions.codegen.CodeGenerator$.compile(CodeGenerator.scala:1318)\n",
      "\tat org.apache.spark.sql.execution.WholeStageCodegenExec.liftedTree1$1(WholeStageCodegenExec.scala:695)\n",
      "\tat org.apache.spark.sql.execution.WholeStageCodegenExec.doExecute(WholeStageCodegenExec.scala:694)\n",
      "\tat org.apache.spark.sql.execution.SparkPlan.$anonfun$execute$1(SparkPlan.scala:175)\n",
      "\tat org.apache.spark.sql.execution.SparkPlan.$anonfun$executeQuery$1(SparkPlan.scala:213)\n",
      "\tat org.apache.spark.rdd.RDDOperationScope$.withScope(RDDOperationScope.scala:151)\n",
      "\tat org.apache.spark.sql.execution.SparkPlan.executeQuery(SparkPlan.scala:210)\n",
      "\tat org.apache.spark.sql.execution.SparkPlan.execute(SparkPlan.scala:171)\n",
      "\tat org.apache.spark.sql.execution.SparkPlan.getByteArrayRdd(SparkPlan.scala:316)\n",
      "\tat org.apache.spark.sql.execution.SparkPlan.executeTake(SparkPlan.scala:434)\n",
      "\tat org.apache.spark.sql.execution.SparkPlan.executeTake(SparkPlan.scala:420)\n",
      "\tat org.apache.spark.sql.execution.CollectLimitExec.executeCollect(limit.scala:47)\n",
      "\tat org.apache.spark.sql.Dataset.collectFromPlan(Dataset.scala:3625)\n",
      "\tat org.apache.spark.sql.Dataset.$anonfun$head$1(Dataset.scala:2695)\n",
      "\tat org.apache.spark.sql.Dataset.$anonfun$withAction$1(Dataset.scala:3616)\n",
      "\tat org.apache.spark.sql.execution.SQLExecution$.$anonfun$withNewExecutionId$5(SQLExecution.scala:100)\n",
      "\tat org.apache.spark.sql.execution.SQLExecution$.withSQLConfPropagated(SQLExecution.scala:160)\n",
      "\tat org.apache.spark.sql.execution.SQLExecution$.$anonfun$withNewExecutionId$1(SQLExecution.scala:87)\n",
      "\tat org.apache.spark.sql.SparkSession.withActive(SparkSession.scala:763)\n",
      "\tat org.apache.spark.sql.execution.SQLExecution$.withNewExecutionId(SQLExecution.scala:64)\n",
      "\tat org.apache.spark.sql.Dataset.withAction(Dataset.scala:3614)\n",
      "\tat org.apache.spark.sql.Dataset.head(Dataset.scala:2695)\n",
      "\tat org.apache.spark.sql.Dataset.take(Dataset.scala:2902)\n",
      "\tat org.apache.spark.sql.Dataset.getRows(Dataset.scala:300)\n",
      "\tat org.apache.spark.sql.Dataset.showString(Dataset.scala:337)\n",
      "\tat sun.reflect.NativeMethodAccessorImpl.invoke0(Native Method)\n",
      "\tat sun.reflect.NativeMethodAccessorImpl.invoke(NativeMethodAccessorImpl.java:62)\n",
      "\tat sun.reflect.DelegatingMethodAccessorImpl.invoke(DelegatingMethodAccessorImpl.java:43)\n",
      "\tat java.lang.reflect.Method.invoke(Method.java:498)\n",
      "\tat py4j.reflection.MethodInvoker.invoke(MethodInvoker.java:244)\n",
      "\tat py4j.reflection.ReflectionEngine.invoke(ReflectionEngine.java:357)\n",
      "\tat py4j.Gateway.invoke(Gateway.java:282)\n",
      "\tat py4j.commands.AbstractCommand.invokeMethod(AbstractCommand.java:132)\n",
      "\tat py4j.commands.CallCommand.execute(CallCommand.java:79)\n",
      "\tat py4j.GatewayConnection.run(GatewayConnection.java:238)\n",
      "\tat java.lang.Thread.run(Thread.java:748)\n",
      "Caused by: org.codehaus.janino.InternalCompilerException: Code of method \"processNext()V\" of class \"org.apache.spark.sql.catalyst.expressions.GeneratedClass$GeneratedIteratorForCodegenStage21\" grows beyond 64 KB\n",
      "\tat org.codehaus.janino.CodeContext.makeSpace(CodeContext.java:1051)\n",
      "\tat org.codehaus.janino.CodeContext.write(CodeContext.java:932)\n",
      "\tat org.codehaus.janino.UnitCompiler.writeOpcode(UnitCompiler.java:12101)\n",
      "\tat org.codehaus.janino.UnitCompiler.store(UnitCompiler.java:11772)\n",
      "\tat org.codehaus.janino.UnitCompiler.store(UnitCompiler.java:11756)\n",
      "\tat org.codehaus.janino.UnitCompiler.compile2(UnitCompiler.java:2597)\n",
      "\tat org.codehaus.janino.UnitCompiler.access$2700(UnitCompiler.java:226)\n",
      "\tat org.codehaus.janino.UnitCompiler$6.visitLocalVariableDeclarationStatement(UnitCompiler.java:1506)\n",
      "\tat org.codehaus.janino.UnitCompiler$6.visitLocalVariableDeclarationStatement(UnitCompiler.java:1490)\n",
      "\tat org.codehaus.janino.Java$LocalVariableDeclarationStatement.accept(Java.java:3712)\n",
      "\tat org.codehaus.janino.UnitCompiler.compile(UnitCompiler.java:1490)\n",
      "\tat org.codehaus.janino.UnitCompiler.compileStatements(UnitCompiler.java:1573)\n",
      "\tat org.codehaus.janino.UnitCompiler.compile2(UnitCompiler.java:1559)\n",
      "\tat org.codehaus.janino.UnitCompiler.access$1700(UnitCompiler.java:226)\n",
      "\tat org.codehaus.janino.UnitCompiler$6.visitBlock(UnitCompiler.java:1496)\n",
      "\tat org.codehaus.janino.UnitCompiler$6.visitBlock(UnitCompiler.java:1490)\n",
      "\tat org.codehaus.janino.Java$Block.accept(Java.java:2969)\n",
      "\tat org.codehaus.janino.UnitCompiler.compile(UnitCompiler.java:1490)\n",
      "\tat org.codehaus.janino.UnitCompiler.compile2(UnitCompiler.java:2486)\n",
      "\tat org.codehaus.janino.UnitCompiler.access$1900(UnitCompiler.java:226)\n",
      "\tat org.codehaus.janino.UnitCompiler$6.visitIfStatement(UnitCompiler.java:1498)\n",
      "\tat org.codehaus.janino.UnitCompiler$6.visitIfStatement(UnitCompiler.java:1490)\n",
      "\tat org.codehaus.janino.Java$IfStatement.accept(Java.java:3140)\n",
      "\tat org.codehaus.janino.UnitCompiler.compile(UnitCompiler.java:1490)\n",
      "\tat org.codehaus.janino.UnitCompiler.compileStatements(UnitCompiler.java:1573)\n",
      "\tat org.codehaus.janino.UnitCompiler.compile2(UnitCompiler.java:1559)\n",
      "\tat org.codehaus.janino.UnitCompiler.access$1700(UnitCompiler.java:226)\n",
      "\tat org.codehaus.janino.UnitCompiler$6.visitBlock(UnitCompiler.java:1496)\n",
      "\tat org.codehaus.janino.UnitCompiler$6.visitBlock(UnitCompiler.java:1490)\n",
      "\tat org.codehaus.janino.Java$Block.accept(Java.java:2969)\n",
      "\tat org.codehaus.janino.UnitCompiler.compile(UnitCompiler.java:1490)\n",
      "\tat org.codehaus.janino.UnitCompiler.compile2(UnitCompiler.java:2478)\n",
      "\tat org.codehaus.janino.UnitCompiler.access$1900(UnitCompiler.java:226)\n",
      "\tat org.codehaus.janino.UnitCompiler$6.visitIfStatement(UnitCompiler.java:1498)\n",
      "\tat org.codehaus.janino.UnitCompiler$6.visitIfStatement(UnitCompiler.java:1490)\n",
      "\tat org.codehaus.janino.Java$IfStatement.accept(Java.java:3140)\n",
      "\tat org.codehaus.janino.UnitCompiler.compile(UnitCompiler.java:1490)\n",
      "\tat org.codehaus.janino.UnitCompiler.compileStatements(UnitCompiler.java:1573)\n",
      "\tat org.codehaus.janino.UnitCompiler.compile2(UnitCompiler.java:1559)\n",
      "\tat org.codehaus.janino.UnitCompiler.access$1700(UnitCompiler.java:226)\n",
      "\tat org.codehaus.janino.UnitCompiler$6.visitBlock(UnitCompiler.java:1496)\n",
      "\tat org.codehaus.janino.UnitCompiler$6.visitBlock(UnitCompiler.java:1490)\n",
      "\tat org.codehaus.janino.Java$Block.accept(Java.java:2969)\n",
      "\tat org.codehaus.janino.UnitCompiler.compile(UnitCompiler.java:1490)\n",
      "\tat org.codehaus.janino.UnitCompiler.compile2(UnitCompiler.java:2478)\n",
      "\tat org.codehaus.janino.UnitCompiler.access$1900(UnitCompiler.java:226)\n",
      "\tat org.codehaus.janino.UnitCompiler$6.visitIfStatement(UnitCompiler.java:1498)\n",
      "\tat org.codehaus.janino.UnitCompiler$6.visitIfStatement(UnitCompiler.java:1490)\n",
      "\tat org.codehaus.janino.Java$IfStatement.accept(Java.java:3140)\n",
      "\tat org.codehaus.janino.UnitCompiler.compile(UnitCompiler.java:1490)\n",
      "\tat org.codehaus.janino.UnitCompiler.compileStatements(UnitCompiler.java:1573)\n",
      "\tat org.codehaus.janino.UnitCompiler.compile2(UnitCompiler.java:1559)\n",
      "\tat org.codehaus.janino.UnitCompiler.access$1700(UnitCompiler.java:226)\n",
      "\tat org.codehaus.janino.UnitCompiler$6.visitBlock(UnitCompiler.java:1496)\n",
      "\tat org.codehaus.janino.UnitCompiler$6.visitBlock(UnitCompiler.java:1490)\n",
      "\tat org.codehaus.janino.Java$Block.accept(Java.java:2969)\n",
      "\tat org.codehaus.janino.UnitCompiler.compile(UnitCompiler.java:1490)\n",
      "\tat org.codehaus.janino.UnitCompiler.compile2(UnitCompiler.java:1848)\n",
      "\tat org.codehaus.janino.UnitCompiler.access$2200(UnitCompiler.java:226)\n",
      "\tat org.codehaus.janino.UnitCompiler$6.visitWhileStatement(UnitCompiler.java:1501)\n",
      "\tat org.codehaus.janino.UnitCompiler$6.visitWhileStatement(UnitCompiler.java:1490)\n",
      "\tat org.codehaus.janino.Java$WhileStatement.accept(Java.java:3245)\n",
      "\tat org.codehaus.janino.UnitCompiler.compile(UnitCompiler.java:1490)\n",
      "\tat org.codehaus.janino.UnitCompiler.compileStatements(UnitCompiler.java:1573)\n",
      "\tat org.codehaus.janino.UnitCompiler.compile(UnitCompiler.java:3420)\n",
      "\tat org.codehaus.janino.UnitCompiler.compileDeclaredMethods(UnitCompiler.java:1362)\n",
      "\tat org.codehaus.janino.UnitCompiler.compileDeclaredMethods(UnitCompiler.java:1335)\n",
      "\tat org.codehaus.janino.UnitCompiler.compile2(UnitCompiler.java:807)\n",
      "\tat org.codehaus.janino.UnitCompiler.compile2(UnitCompiler.java:975)\n",
      "\tat org.codehaus.janino.UnitCompiler.access$700(UnitCompiler.java:226)\n",
      "\tat org.codehaus.janino.UnitCompiler$2.visitMemberClassDeclaration(UnitCompiler.java:392)\n",
      "\tat org.codehaus.janino.UnitCompiler$2.visitMemberClassDeclaration(UnitCompiler.java:384)\n",
      "\tat org.codehaus.janino.Java$MemberClassDeclaration.accept(Java.java:1445)\n",
      "\tat org.codehaus.janino.UnitCompiler.compile(UnitCompiler.java:384)\n",
      "\tat org.codehaus.janino.UnitCompiler.compileDeclaredMemberTypes(UnitCompiler.java:1312)\n",
      "\tat org.codehaus.janino.UnitCompiler.compile2(UnitCompiler.java:833)\n",
      "\tat org.codehaus.janino.UnitCompiler.compile2(UnitCompiler.java:410)\n",
      "\tat org.codehaus.janino.UnitCompiler.access$400(UnitCompiler.java:226)\n",
      "\tat org.codehaus.janino.UnitCompiler$2.visitPackageMemberClassDeclaration(UnitCompiler.java:389)\n",
      "\tat org.codehaus.janino.UnitCompiler$2.visitPackageMemberClassDeclaration(UnitCompiler.java:384)\n",
      "\tat org.codehaus.janino.Java$PackageMemberClassDeclaration.accept(Java.java:1594)\n",
      "\tat org.codehaus.janino.UnitCompiler.compile(UnitCompiler.java:384)\n",
      "\tat org.codehaus.janino.UnitCompiler.compile2(UnitCompiler.java:362)\n",
      "\t... 57 more\n",
      "21/12/28 13:08:56 WARN WholeStageCodegenExec: Whole-stage codegen disabled for plan (id=21):\n",
      " *(21) Project [cast(MovieID1#588L as string) AS MovieID1#652, cast(MovieID2#591L as string) AS MovieID2#653, cast(((cast((((((((((((((((((((((((((((((((((((((((((((((((((((((((((((((((((((((((((((((((((((((((((((((((((((((Ratings1#560[0] * Ratings2#574[0]) + 0) + (Ratings1#560[1] * Ratings2#574[1])) + (Ratings1#560[2] * Ratings2#574[2])) + (Ratings1#560[3] * Ratings2#574[3])) + (Ratings1#560[4] * Ratings2#574[4])) + (Ratings1#560[5] * Ratings2#574[5])) + (Ratings1#560[6] * Ratings2#574[6])) + (Ratings1#560[7] * Ratings2#574[7])) + (Ratings1#560[8] * Ratings2#574[8])) + (Ratings1#560[9] * Ratings2#574[9])) + (Ratings1#560[10] * Ratings2#574[10])) + (Ratings1#560[11] * Ratings2#574[11])) + (Ratings1#560[12] * Ratings2#574[12])) + (Ratings1#560[13] * Ratings2#574[13])) + (Ratings1#560[14] * Ratings2#574[14])) + (Ratings1#560[15] * Ratings2#574[15])) + (Ratings1#560[16] * Ratings2#574[16])) + (Ratings1#560[17] * Ratings2#574[17])) + (Ratings1#560[18] * Ratings2#574[18])) + (Ratings1#560[19] * Ratings2#574[19])) + (Ratings1#560[20] * Ratings2#574[20])) + (Ratings1#560[21] * Ratings2#574[21])) + (Ratings1#560[22] * Ratings2#574[22])) + (Ratings1#560[23] * Ratings2#574[23])) + (Ratings1#560[24] * Ratings2#574[24])) + (Ratings1#560[25] * Ratings2#574[25])) + (Ratings1#560[26] * Ratings2#574[26])) + (Ratings1#560[27] * Ratings2#574[27])) + (Ratings1#560[28] * Ratings2#574[28])) + (Ratings1#560[29] * Ratings2#574[29])) + (Ratings1#560[30] * Ratings2#574[30])) + (Ratings1#560[31] * Ratings2#574[31])) + (Ratings1#560[32] * Ratings2#574[32])) + (Ratings1#560[33] * Ratings2#574[33])) + (Ratings1#560[34] * Ratings2#574[34])) + (Ratings1#560[35] * Ratings2#574[35])) + (Ratings1#560[36] * Ratings2#574[36])) + (Ratings1#560[37] * Ratings2#574[37])) + (Ratings1#560[38] * Ratings2#574[38])) + (Ratings1#560[39] * Ratings2#574[39])) + (Ratings1#560[40] * Ratings2#574[40])) + (Ratings1#560[41] * Ratings2#574[41])) + (Ratings1#560[42] * Ratings2#574[42])) + (Ratings1#560[43] * Ratings2#574[43])) + (Ratings1#560[44] * Ratings2#574[44])) + (Ratings1#560[45] * Ratings2#574[45])) + (Ratings1#560[46] * Ratings2#574[46])) + (Ratings1#560[47] * Ratings2#574[47])) + (Ratings1#560[48] * Ratings2#574[48])) + (Ratings1#560[49] * Ratings2#574[49])) + (Ratings1#560[50] * Ratings2#574[50])) + (Ratings1#560[51] * Ratings2#574[51])) + (Ratings1#560[52] * Ratings2#574[52])) + (Ratings1#560[53] * Ratings2#574[53])) + (Ratings1#560[54] * Ratings2#574[54])) + (Ratings1#560[55] * Ratings2#574[55])) + (Ratings1#560[56] * Ratings2#574[56])) + (Ratings1#560[57] * Ratings2#574[57])) + (Ratings1#560[58] * Ratings2#574[58])) + (Ratings1#560[59] * Ratings2#574[59])) + (Ratings1#560[60] * Ratings2#574[60])) + (Ratings1#560[61] * Ratings2#574[61])) + (Ratings1#560[62] * Ratings2#574[62])) + (Ratings1#560[63] * Ratings2#574[63])) + (Ratings1#560[64] * Ratings2#574[64])) + (Ratings1#560[65] * Ratings2#574[65])) + (Ratings1#560[66] * Ratings2#574[66])) + (Ratings1#560[67] * Ratings2#574[67])) + (Ratings1#560[68] * Ratings2#574[68])) + (Ratings1#560[69] * Ratings2#574[69])) + (Ratings1#560[70] * Ratings2#574[70])) + (Ratings1#560[71] * Ratings2#574[71])) + (Ratings1#560[72] * Ratings2#574[72])) + (Ratings1#560[73] * Ratings2#574[73])) + (Ratings1#560[74] * Ratings2#574[74])) + (Ratings1#560[75] * Ratings2#574[75])) + (Ratings1#560[76] * Ratings2#574[76])) + (Ratings1#560[77] * Ratings2#574[77])) + (Ratings1#560[78] * Ratings2#574[78])) + (Ratings1#560[79] * Ratings2#574[79])) + (Ratings1#560[80] * Ratings2#574[80])) + (Ratings1#560[81] * Ratings2#574[81])) + (Ratings1#560[82] * Ratings2#574[82])) + (Ratings1#560[83] * Ratings2#574[83])) + (Ratings1#560[84] * Ratings2#574[84])) + (Ratings1#560[85] * Ratings2#574[85])) + (Ratings1#560[86] * Ratings2#574[86])) + (Ratings1#560[87] * Ratings2#574[87])) + (Ratings1#560[88] * Ratings2#574[88])) + (Ratings1#560[89] * Ratings2#574[89])) + (Ratings1#560[90] * Ratings2#574[90])) + (Ratings1#560[91] * Ratings2#574[91])) + (Ratings1#560[92] * Ratings2#574[92])) + (Ratings1#560[93] * Ratings2#574[93])) + (Ratings1#560[94] * Ratings2#574[94])) + (Ratings1#560[95] * Ratings2#574[95])) + (Ratings1#560[96] * Ratings2#574[96])) + (Ratings1#560[97] * Ratings2#574[97])) + (Ratings1#560[98] * Ratings2#574[98])) + (Ratings1#560[99] * Ratings2#574[99])) as double) / SQRT(cast((((((((((((((((((((((((((((((((((((((((((((((((((((((((((((((((((((((((((((((((((((((((((((((((((((((Ratings1#560[0] * Ratings1#560[0]) + 0) + (Ratings1#560[1] * Ratings1#560[1])) + (Ratings1#560[2] * Ratings1#560[2])) + (Ratings1#560[3] * Ratings1#560[3])) + (Ratings1#560[4] * Ratings1#560[4])) + (Ratings1#560[5] * Ratings1#560[5])) + (Ratings1#560[6] * Ratings1#560[6])) + (Ratings1#560[7] * Ratings1#560[7])) + (Ratings1#560[8] * Ratings1#560[8])) + (Ratings1#560[9] * Ratings1#560[9])) + (Ratings1#560[10] * Ratings1#560[10])) + (Ratings1#560[11] * Ratings1#560[11])) + (Ratings1#560[12] * Ratings1#560[12])) + (Ratings1#560[13] * Ratings1#560[13])) + (Ratings1#560[14] * Ratings1#560[14])) + (Ratings1#560[15] * Ratings1#560[15])) + (Ratings1#560[16] * Ratings1#560[16])) + (Ratings1#560[17] * Ratings1#560[17])) + (Ratings1#560[18] * Ratings1#560[18])) + (Ratings1#560[19] * Ratings1#560[19])) + (Ratings1#560[20] * Ratings1#560[20])) + (Ratings1#560[21] * Ratings1#560[21])) + (Ratings1#560[22] * Ratings1#560[22])) + (Ratings1#560[23] * Ratings1#560[23])) + (Ratings1#560[24] * Ratings1#560[24])) + (Ratings1#560[25] * Ratings1#560[25])) + (Ratings1#560[26] * Ratings1#560[26])) + (Ratings1#560[27] * Ratings1#560[27])) + (Ratings1#560[28] * Ratings1#560[28])) + (Ratings1#560[29] * Ratings1#560[29])) + (Ratings1#560[30] * Ratings1#560[30])) + (Ratings1#560[31] * Ratings1#560[31])) + (Ratings1#560[32] * Ratings1#560[32])) + (Ratings1#560[33] * Ratings1#560[33])) + (Ratings1#560[34] * Ratings1#560[34])) + (Ratings1#560[35] * Ratings1#560[35])) + (Ratings1#560[36] * Ratings1#560[36])) + (Ratings1#560[37] * Ratings1#560[37])) + (Ratings1#560[38] * Ratings1#560[38])) + (Ratings1#560[39] * Ratings1#560[39])) + (Ratings1#560[40] * Ratings1#560[40])) + (Ratings1#560[41] * Ratings1#560[41])) + (Ratings1#560[42] * Ratings1#560[42])) + (Ratings1#560[43] * Ratings1#560[43])) + (Ratings1#560[44] * Ratings1#560[44])) + (Ratings1#560[45] * Ratings1#560[45])) + (Ratings1#560[46] * Ratings1#560[46])) + (Ratings1#560[47] * Ratings1#560[47])) + (Ratings1#560[48] * Ratings1#560[48])) + (Ratings1#560[49] * Ratings1#560[49])) + (Ratings1#560[50] * Ratings1#560[50])) + (Ratings1#560[51] * Ratings1#560[51])) + (Ratings1#560[52] * Ratings1#560[52])) + (Ratings1#560[53] * Ratings1#560[53])) + (Ratings1#560[54] * Ratings1#560[54])) + (Ratings1#560[55] * Ratings1#560[55])) + (Ratings1#560[56] * Ratings1#560[56])) + (Ratings1#560[57] * Ratings1#560[57])) + (Ratings1#560[58] * Ratings1#560[58])) + (Ratings1#560[59] * Ratings1#560[59])) + (Ratings1#560[60] * Ratings1#560[60])) + (Ratings1#560[61] * Ratings1#560[61])) + (Ratings1#560[62] * Ratings1#560[62])) + (Ratings1#560[63] * Ratings1#560[63])) + (Ratings1#560[64] * Ratings1#560[64])) + (Ratings1#560[65] * Ratings1#560[65])) + (Ratings1#560[66] * Ratings1#560[66])) + (Ratings1#560[67] * Ratings1#560[67])) + (Ratings1#560[68] * Ratings1#560[68])) + (Ratings1#560[69] * Ratings1#560[69])) + (Ratings1#560[70] * Ratings1#560[70])) + (Ratings1#560[71] * Ratings1#560[71])) + (Ratings1#560[72] * Ratings1#560[72])) + (Ratings1#560[73] * Ratings1#560[73])) + (Ratings1#560[74] * Ratings1#560[74])) + (Ratings1#560[75] * Ratings1#560[75])) + (Ratings1#560[76] * Ratings1#560[76])) + (Ratings1#560[77] * Ratings1#560[77])) + (Ratings1#560[78] * Ratings1#560[78])) + (Ratings1#560[79] * Ratings1#560[79])) + (Ratings1#560[80] * Ratings1#560[80])) + (Ratings1#560[81] * Ratings1#560[81])) + (Ratings1#560[82] * Ratings1#560[82])) + (Ratings1#560[83] * Ratings1#560[83])) + (Ratings1#560[84] * Ratings1#560[84])) + (Ratings1#560[85] * Ratings1#560[85])) + (Ratings1#560[86] * Ratings1#560[86])) + (Ratings1#560[87] * Ratings1#560[87])) + (Ratings1#560[88] * Ratings1#560[88])) + (Ratings1#560[89] * Ratings1#560[89])) + (Ratings1#560[90] * Ratings1#560[90])) + (Ratings1#560[91] * Ratings1#560[91])) + (Ratings1#560[92] * Ratings1#560[92])) + (Ratings1#560[93] * Ratings1#560[93])) + (Ratings1#560[94] * Ratings1#560[94])) + (Ratings1#560[95] * Ratings1#560[95])) + (Ratings1#560[96] * Ratings1#560[96])) + (Ratings1#560[97] * Ratings1#560[97])) + (Ratings1#560[98] * Ratings1#560[98])) + (Ratings1#560[99] * Ratings1#560[99])) as double))) / SQRT(cast((((((((((((((((((((((((((((((((((((((((((((((((((((((((((((((((((((((((((((((((((((((((((((((((((((((Ratings2#574[0] * Ratings2#574[0]) + 0) + (Ratings2#574[1] * Ratings2#574[1])) + (Ratings2#574[2] * Ratings2#574[2])) + (Ratings2#574[3] * Ratings2#574[3])) + (Ratings2#574[4] * Ratings2#574[4])) + (Ratings2#574[5] * Ratings2#574[5])) + (Ratings2#574[6] * Ratings2#574[6])) + (Ratings2#574[7] * Ratings2#574[7])) + (Ratings2#574[8] * Ratings2#574[8])) + (Ratings2#574[9] * Ratings2#574[9])) + (Ratings2#574[10] * Ratings2#574[10])) + (Ratings2#574[11] * Ratings2#574[11])) + (Ratings2#574[12] * Ratings2#574[12])) + (Ratings2#574[13] * Ratings2#574[13])) + (Ratings2#574[14] * Ratings2#574[14])) + (Ratings2#574[15] * Ratings2#574[15])) + (Ratings2#574[16] * Ratings2#574[16])) + (Ratings2#574[17] * Ratings2#574[17])) + (Ratings2#574[18] * Ratings2#574[18])) + (Ratings2#574[19] * Ratings2#574[19])) + (Ratings2#574[20] * Ratings2#574[20])) + (Ratings2#574[21] * Ratings2#574[21])) + (Ratings2#574[22] * Ratings2#574[22])) + (Ratings2#574[23] * Ratings2#574[23])) + (Ratings2#574[24] * Ratings2#574[24])) + (Ratings2#574[25] * Ratings2#574[25])) + (Ratings2#574[26] * Ratings2#574[26])) + (Ratings2#574[27] * Ratings2#574[27])) + (Ratings2#574[28] * Ratings2#574[28])) + (Ratings2#574[29] * Ratings2#574[29])) + (Ratings2#574[30] * Ratings2#574[30])) + (Ratings2#574[31] * Ratings2#574[31])) + (Ratings2#574[32] * Ratings2#574[32])) + (Ratings2#574[33] * Ratings2#574[33])) + (Ratings2#574[34] * Ratings2#574[34])) + (Ratings2#574[35] * Ratings2#574[35])) + (Ratings2#574[36] * Ratings2#574[36])) + (Ratings2#574[37] * Ratings2#574[37])) + (Ratings2#574[38] * Ratings2#574[38])) + (Ratings2#574[39] * Ratings2#574[39])) + (Ratings2#574[40] * Ratings2#574[40])) + (Ratings2#574[41] * Ratings2#574[41])) + (Ratings2#574[42] * Ratings2#574[42])) + (Ratings2#574[43] * Ratings2#574[43])) + (Ratings2#574[44] * Ratings2#574[44])) + (Ratings2#574[45] * Ratings2#574[45])) + (Ratings2#574[46] * Ratings2#574[46])) + (Ratings2#574[47] * Ratings2#574[47])) + (Ratings2#574[48] * Ratings2#574[48])) + (Ratings2#574[49] * Ratings2#574[49])) + (Ratings2#574[50] * Ratings2#574[50])) + (Ratings2#574[51] * Ratings2#574[51])) + (Ratings2#574[52] * Ratings2#574[52])) + (Ratings2#574[53] * Ratings2#574[53])) + (Ratings2#574[54] * Ratings2#574[54])) + (Ratings2#574[55] * Ratings2#574[55])) + (Ratings2#574[56] * Ratings2#574[56])) + (Ratings2#574[57] * Ratings2#574[57])) + (Ratings2#574[58] * Ratings2#574[58])) + (Ratings2#574[59] * Ratings2#574[59])) + (Ratings2#574[60] * Ratings2#574[60])) + (Ratings2#574[61] * Ratings2#574[61])) + (Ratings2#574[62] * Ratings2#574[62])) + (Ratings2#574[63] * Ratings2#574[63])) + (Ratings2#574[64] * Ratings2#574[64])) + (Ratings2#574[65] * Ratings2#574[65])) + (Ratings2#574[66] * Ratings2#574[66])) + (Ratings2#574[67] * Ratings2#574[67])) + (Ratings2#574[68] * Ratings2#574[68])) + (Ratings2#574[69] * Ratings2#574[69])) + (Ratings2#574[70] * Ratings2#574[70])) + (Ratings2#574[71] * Ratings2#574[71])) + (Ratings2#574[72] * Ratings2#574[72])) + (Ratings2#574[73] * Ratings2#574[73])) + (Ratings2#574[74] * Ratings2#574[74])) + (Ratings2#574[75] * Ratings2#574[75])) + (Ratings2#574[76] * Ratings2#574[76])) + (Ratings2#574[77] * Ratings2#574[77])) + (Ratings2#574[78] * Ratings2#574[78])) + (Ratings2#574[79] * Ratings2#574[79])) + (Ratings2#574[80] * Ratings2#574[80])) + (Ratings2#574[81] * Ratings2#574[81])) + (Ratings2#574[82] * Ratings2#574[82])) + (Ratings2#574[83] * Ratings2#574[83])) + (Ratings2#574[84] * Ratings2#574[84])) + (Ratings2#574[85] * Ratings2#574[85])) + (Ratings2#574[86] * Ratings2#574[86])) + (Ratings2#574[87] * Ratings2#574[87])) + (Ratings2#574[88] * Ratings2#574[88])) + (Ratings2#574[89] * Ratings2#574[89])) + (Ratings2#574[90] * Ratings2#574[90])) + (Ratings2#574[91] * Ratings2#574[91])) + (Ratings2#574[92] * Ratings2#574[92])) + (Ratings2#574[93] * Ratings2#574[93])) + (Ratings2#574[94] * Ratings2#574[94])) + (Ratings2#574[95] * Ratings2#574[95])) + (Ratings2#574[96] * Ratings2#574[96])) + (Ratings2#574[97] * Ratings2#574[97])) + (Ratings2#574[98] * Ratings2#574[98])) + (Ratings2#574[99] * Ratings2#574[99])) as double))) as string) AS cosine_similarity#654]\n",
      "+- CartesianProduct\n",
      "   :- *(10) Project [MovieID#1L AS MovieID1#588L, Ratings1#560]\n",
      "   :  +- ObjectHashAggregate(keys=[MovieID#1L], functions=[collect_list(Rating#2L, 0, 0)], output=[MovieID#1L, Ratings1#560])\n",
      "   :     +- ObjectHashAggregate(keys=[MovieID#1L], functions=[partial_collect_list(Rating#2L, 0, 0)], output=[MovieID#1L, buf#597])\n",
      "   :        +- *(9) Project [MovieID#1L, Rating#2L]\n",
      "   :           +- *(9) SortMergeJoin [MovieID#1L], [MovieID1#222L], Inner\n",
      "   :              :- *(6) Sort [MovieID#1L ASC NULLS FIRST], false, 0\n",
      "   :              :  +- Exchange hashpartitioning(MovieID#1L, 200), true, [id=#2975]\n",
      "   :              :     +- *(5) Project [MovieID#1L, Rating#2L]\n",
      "   :              :        +- *(5) SortMergeJoin [UserID#0L], [UserID1#58L], Inner\n",
      "   :              :           :- *(2) Sort [UserID#0L ASC NULLS FIRST], false, 0\n",
      "   :              :           :  +- Exchange hashpartitioning(UserID#0L, 200), true, [id=#2961]\n",
      "   :              :           :     +- *(1) Project [UserID#0L, MovieID#1L, Rating#2L]\n",
      "   :              :           :        +- *(1) Filter (isnotnull(UserID#0L) AND isnotnull(MovieID#1L))\n",
      "   :              :           :           +- *(1) Scan ExistingRDD[UserID#0L,MovieID#1L,Rating#2L,Timestamp#3L]\n",
      "   :              :           +- *(4) Sort [UserID1#58L ASC NULLS FIRST], false, 0\n",
      "   :              :              +- Exchange hashpartitioning(UserID1#58L, 200), true, [id=#2967]\n",
      "   :              :                 +- *(3) Project [UserID#14L AS UserID1#58L]\n",
      "   :              :                    +- *(3) Filter isnotnull(UserID#14L)\n",
      "   :              :                       +- *(3) Scan ExistingRDD[UserID#14L,Gender#15,Age#16L,Occupation#17L,Zip-code#18]\n",
      "   :              +- *(8) Sort [MovieID1#222L ASC NULLS FIRST], false, 0\n",
      "   :                 +- Exchange hashpartitioning(MovieID1#222L, 200), true, [id=#2981]\n",
      "   :                    +- *(7) Project [MovieID#8L AS MovieID1#222L]\n",
      "   :                       +- *(7) Filter isnotnull(MovieID#8L)\n",
      "   :                          +- *(7) Scan ExistingRDD[MovieID#8L,Title#9,Genres#10]\n",
      "   +- *(20) Project [MovieID#1L AS MovieID2#591L, Ratings2#574]\n",
      "      +- ObjectHashAggregate(keys=[MovieID#1L], functions=[collect_list(Rating#2L, 0, 0)], output=[MovieID#1L, Ratings2#574])\n",
      "         +- ObjectHashAggregate(keys=[MovieID#1L], functions=[partial_collect_list(Rating#2L, 0, 0)], output=[MovieID#1L, buf#584])\n",
      "            +- *(19) Project [MovieID#1L, Rating#2L]\n",
      "               +- *(19) SortMergeJoin [MovieID#1L], [MovieID1#222L], Inner\n",
      "                  :- *(16) Sort [MovieID#1L ASC NULLS FIRST], false, 0\n",
      "                  :  +- ReusedExchange [MovieID#1L, Rating#2L], Exchange hashpartitioning(MovieID#1L, 200), true, [id=#2975]\n",
      "                  +- *(18) Sort [MovieID1#222L ASC NULLS FIRST], false, 0\n",
      "                     +- ReusedExchange [MovieID1#222L], Exchange hashpartitioning(MovieID1#222L, 200), true, [id=#2981]\n",
      "\n",
      "21/12/28 13:08:57 WARN TaskSetManager: Stage 113 contains a task of very large size (3864 KiB). The maximum recommended task size is 1000 KiB.\n",
      "[Stage 114:=================================================>   (188 + 4) / 200]\r"
     ]
    },
    {
     "name": "stdout",
     "output_type": "stream",
     "text": [
      "+--------+--------+------------------+\n",
      "|MovieID1|MovieID2| cosine_similarity|\n",
      "+--------+--------+------------------+\n",
      "|      26|      26|1.0000000000000002|\n",
      "|      26|      29|0.9326760467251204|\n",
      "|      26|     474|0.9373893041819876|\n",
      "|      26|     964|              null|\n",
      "|      26|    1677|              null|\n",
      "|      26|    1806|0.8944765914657672|\n",
      "|      26|    1950| 0.954862337256213|\n",
      "|      26|    2040| 0.920760943037605|\n",
      "|      26|    2214|              null|\n",
      "|      26|    2250|              null|\n",
      "|      26|    2453|0.9114702178469216|\n",
      "|      26|    2509|              null|\n",
      "|      26|    2529|0.9276966087822656|\n",
      "|      26|    2927|              null|\n",
      "|      26|    3091|0.9467018069193637|\n",
      "|      26|    3506|0.9313570792579194|\n",
      "|      26|    3764|0.9086157403590003|\n",
      "|      29|      26|0.9326760467251203|\n",
      "|      29|      29|1.0000000000000002|\n",
      "|      29|     474|0.9475759647269894|\n",
      "+--------+--------+------------------+\n",
      "only showing top 20 rows\n",
      "\n"
     ]
    },
    {
     "name": "stderr",
     "output_type": "stream",
     "text": [
      "                                                                                \r"
     ]
    }
   ],
   "source": [
    "movieBased1 = movieBased1.withColumnRenamed(\"MovieID\", \"MovieID1\")\n",
    "movieBased2 = movieBased2.withColumnRenamed(\"MovieID\", \"MovieID2\")\n",
    "\n",
    "size = movieBased1.limit(1).select(F.size('Ratings1')).first()[0]\n",
    "crossMovie = movieBased1.crossJoin(movieBased2)\n",
    "\n",
    "# Get cosine similarity\n",
    "movieResult = crossMovie.select('MovieID1','MovieID2',\n",
    "                       sum([F.col('Ratings1')[i] * F.col('Ratings2')[i] for i in range(size)]).alias('dot_product'),\n",
    "                       F.sqrt(sum([F.col('Ratings1')[i] * F.col('Ratings1')[i] for i in range(size)])).alias('norm1'),\n",
    "                       F.sqrt(sum([F.col('Ratings2')[i] * F.col('Ratings2')[i] for i in range(size)])).alias('norm2'))\\\n",
    "                        .selectExpr('MovieID1', 'MovieID2', 'dot_product / norm1 / norm2 as cosine_similarity')\n",
    "movieResult.show()"
   ]
  }
 ],
 "metadata": {
  "kernelspec": {
   "display_name": "Python 3 (ipykernel)",
   "language": "python",
   "name": "python3"
  },
  "language_info": {
   "codemirror_mode": {
    "name": "ipython",
    "version": 3
   },
   "file_extension": ".py",
   "mimetype": "text/x-python",
   "name": "python",
   "nbconvert_exporter": "python",
   "pygments_lexer": "ipython3",
   "version": "3.9.2"
  }
 },
 "nbformat": 4,
 "nbformat_minor": 5
}
