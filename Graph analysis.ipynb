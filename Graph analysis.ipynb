{
 "cells": [
  {
   "cell_type": "code",
   "execution_count": 1,
   "id": "219985c5",
   "metadata": {},
   "outputs": [
    {
     "name": "stderr",
     "output_type": "stream",
     "text": [
      "23/12/30 15:04:22 WARN NativeCodeLoader: Unable to load native-hadoop library for your platform... using builtin-java classes where applicable\n",
      "Using Spark's default log4j profile: org/apache/spark/log4j-defaults.properties\n",
      "Setting default log level to \"WARN\".\n",
      "To adjust logging level use sc.setLogLevel(newLevel). For SparkR, use setLogLevel(newLevel).\n"
     ]
    }
   ],
   "source": [
    "from pyspark.sql import SparkSession\n",
    "\n",
    "spark = SparkSession.\\\n",
    "        builder.\\\n",
    "        appName(\"HM5\").\\\n",
    "        master(\"spark://spark-master:7077\").\\\n",
    "        config(\"spark.executor.memory\", \"1g\").\\\n",
    "        getOrCreate()"
   ]
  },
  {
   "cell_type": "code",
   "execution_count": 2,
   "id": "a37ebe63",
   "metadata": {},
   "outputs": [],
   "source": [
    "import numpy as np\n",
    "import pandas as pd"
   ]
  },
  {
   "cell_type": "code",
   "execution_count": 3,
   "id": "2c47287a",
   "metadata": {},
   "outputs": [
    {
     "data": {
      "text/html": [
       "<div>\n",
       "<style scoped>\n",
       "    .dataframe tbody tr th:only-of-type {\n",
       "        vertical-align: middle;\n",
       "    }\n",
       "\n",
       "    .dataframe tbody tr th {\n",
       "        vertical-align: top;\n",
       "    }\n",
       "\n",
       "    .dataframe thead th {\n",
       "        text-align: right;\n",
       "    }\n",
       "</style>\n",
       "<table border=\"1\" class=\"dataframe\">\n",
       "  <thead>\n",
       "    <tr style=\"text-align: right;\">\n",
       "      <th></th>\n",
       "      <th>FromNodeId</th>\n",
       "      <th>ToNodeId</th>\n",
       "    </tr>\n",
       "  </thead>\n",
       "  <tbody>\n",
       "    <tr>\n",
       "      <th>0</th>\n",
       "      <td>0</td>\n",
       "      <td>11342</td>\n",
       "    </tr>\n",
       "    <tr>\n",
       "      <th>1</th>\n",
       "      <td>0</td>\n",
       "      <td>824020</td>\n",
       "    </tr>\n",
       "    <tr>\n",
       "      <th>2</th>\n",
       "      <td>0</td>\n",
       "      <td>867923</td>\n",
       "    </tr>\n",
       "    <tr>\n",
       "      <th>3</th>\n",
       "      <td>0</td>\n",
       "      <td>891835</td>\n",
       "    </tr>\n",
       "    <tr>\n",
       "      <th>4</th>\n",
       "      <td>11342</td>\n",
       "      <td>0</td>\n",
       "    </tr>\n",
       "    <tr>\n",
       "      <th>...</th>\n",
       "      <td>...</td>\n",
       "      <td>...</td>\n",
       "    </tr>\n",
       "    <tr>\n",
       "      <th>5105034</th>\n",
       "      <td>916425</td>\n",
       "      <td>547323</td>\n",
       "    </tr>\n",
       "    <tr>\n",
       "      <th>5105035</th>\n",
       "      <td>916425</td>\n",
       "      <td>604833</td>\n",
       "    </tr>\n",
       "    <tr>\n",
       "      <th>5105036</th>\n",
       "      <td>916425</td>\n",
       "      <td>632916</td>\n",
       "    </tr>\n",
       "    <tr>\n",
       "      <th>5105037</th>\n",
       "      <td>916425</td>\n",
       "      <td>637936</td>\n",
       "    </tr>\n",
       "    <tr>\n",
       "      <th>5105038</th>\n",
       "      <td>916425</td>\n",
       "      <td>837379</td>\n",
       "    </tr>\n",
       "  </tbody>\n",
       "</table>\n",
       "<p>5105039 rows × 2 columns</p>\n",
       "</div>"
      ],
      "text/plain": [
       "         FromNodeId  ToNodeId\n",
       "0                 0     11342\n",
       "1                 0    824020\n",
       "2                 0    867923\n",
       "3                 0    891835\n",
       "4             11342         0\n",
       "...             ...       ...\n",
       "5105034      916425    547323\n",
       "5105035      916425    604833\n",
       "5105036      916425    632916\n",
       "5105037      916425    637936\n",
       "5105038      916425    837379\n",
       "\n",
       "[5105039 rows x 2 columns]"
      ]
     },
     "execution_count": 3,
     "metadata": {},
     "output_type": "execute_result"
    }
   ],
   "source": [
    "read_data = pd.read_csv(r'google-data/web-Google.txt', sep='\\t')\n",
    "read_data"
   ]
  },
  {
   "cell_type": "code",
   "execution_count": 4,
   "id": "c6b0638b",
   "metadata": {},
   "outputs": [
    {
     "name": "stderr",
     "output_type": "stream",
     "text": [
      "/usr/local/lib/python3.9/dist-packages/pyspark/sql/pandas/types.py:238: FutureWarning: is_datetime64tz_dtype is deprecated and will be removed in a future version. Check `isinstance(dtype, pd.DatetimeTZDtype)` instead.\n",
      "  if is_datetime64tz_dtype(s.dtype):\n",
      "23/12/30 15:07:13 WARN TaskSetManager: Stage 0 contains a task of very large size (14310 KiB). The maximum recommended task size is 1000 KiB.\n",
      "                                                                                \r"
     ]
    },
    {
     "name": "stdout",
     "output_type": "stream",
     "text": [
      "+----------+--------+\n",
      "|FromNodeId|ToNodeId|\n",
      "+----------+--------+\n",
      "|         0|   11342|\n",
      "|         0|  824020|\n",
      "|         0|  867923|\n",
      "|         0|  891835|\n",
      "|     11342|       0|\n",
      "|     11342|   27469|\n",
      "|     11342|   38716|\n",
      "|     11342|  309564|\n",
      "|     11342|  322178|\n",
      "|     11342|  387543|\n",
      "|     11342|  427436|\n",
      "|     11342|  538214|\n",
      "|     11342|  638706|\n",
      "|     11342|  645018|\n",
      "|     11342|  835220|\n",
      "|     11342|  856657|\n",
      "|     11342|  867923|\n",
      "|     11342|  891835|\n",
      "|    824020|       0|\n",
      "|    824020|   91807|\n",
      "+----------+--------+\n",
      "only showing top 20 rows\n",
      "\n"
     ]
    },
    {
     "name": "stderr",
     "output_type": "stream",
     "text": [
      "23/12/30 15:07:18 WARN TaskSetManager: Stage 1 contains a task of very large size (14310 KiB). The maximum recommended task size is 1000 KiB.\n",
      "[Stage 2:>                                                          (0 + 1) / 1]\r"
     ]
    },
    {
     "name": "stdout",
     "output_type": "stream",
     "text": [
      "(5105039, 2)\n"
     ]
    },
    {
     "name": "stderr",
     "output_type": "stream",
     "text": [
      "                                                                                \r"
     ]
    }
   ],
   "source": [
    "#Spark dataframe\n",
    "pd.DataFrame.iteritems = pd.DataFrame.items\n",
    "data = spark.createDataFrame(read_data)\n",
    "data.show()\n",
    "print((data.count(), len(data.columns)))"
   ]
  },
  {
   "cell_type": "markdown",
   "id": "a06d7b1e",
   "metadata": {},
   "source": [
    "#### List of web pages with the number of outlinks, sorted in descending order of the out-degrees."
   ]
  },
  {
   "cell_type": "code",
   "execution_count": 5,
   "id": "6c8fa407",
   "metadata": {},
   "outputs": [
    {
     "name": "stderr",
     "output_type": "stream",
     "text": [
      "23/12/30 15:07:25 WARN TaskSetManager: Stage 3 contains a task of very large size (14310 KiB). The maximum recommended task size is 1000 KiB.\n",
      "[Stage 4:===================================================>   (186 + 5) / 200]\r"
     ]
    },
    {
     "name": "stdout",
     "output_type": "stream",
     "text": [
      "+----------+----------+\n",
      "|FromNodeId|out-degree|\n",
      "+----------+----------+\n",
      "|506742    |456       |\n",
      "|203748    |372       |\n",
      "|305229    |372       |\n",
      "|768091    |330       |\n",
      "|808643    |277       |\n",
      "|412410    |268       |\n",
      "|600479    |265       |\n",
      "|376428    |258       |\n",
      "|156950    |257       |\n",
      "|885728    |256       |\n",
      "|667584    |253       |\n",
      "|685695    |248       |\n",
      "|282140    |247       |\n",
      "|598188    |245       |\n",
      "|579314    |244       |\n",
      "|411593    |231       |\n",
      "|321091    |229       |\n",
      "|838278    |225       |\n",
      "|302733    |216       |\n",
      "|915273    |213       |\n",
      "+----------+----------+\n",
      "only showing top 20 rows\n",
      "\n"
     ]
    },
    {
     "name": "stderr",
     "output_type": "stream",
     "text": [
      "                                                                                \r"
     ]
    }
   ],
   "source": [
    "import pyspark.sql.functions as sf\n",
    "\n",
    "data.groupBy(\"FromNodeId\")\\\n",
    "        .agg(sf.count('FromNodeId').alias('out-degree'))\\\n",
    "        .sort('out-degree', ascending=False)\\\n",
    "        .show(20, False)"
   ]
  },
  {
   "cell_type": "markdown",
   "id": "f91fa1f5",
   "metadata": {},
   "source": [
    "#### InLink distribution of the top linked web pages, sorted in descending order of the in-degrees."
   ]
  },
  {
   "cell_type": "code",
   "execution_count": 6,
   "id": "8fdf4ca4",
   "metadata": {},
   "outputs": [
    {
     "name": "stderr",
     "output_type": "stream",
     "text": [
      "23/12/30 15:07:38 WARN TaskSetManager: Stage 5 contains a task of very large size (14310 KiB). The maximum recommended task size is 1000 KiB.\n",
      "[Stage 6:=========================================>             (152 + 4) / 200]\r"
     ]
    },
    {
     "name": "stdout",
     "output_type": "stream",
     "text": [
      "+--------+---------+\n",
      "|ToNodeId|in-degree|\n",
      "+--------+---------+\n",
      "|537039  |6326     |\n",
      "|597621  |5354     |\n",
      "|504140  |5271     |\n",
      "|751384  |5182     |\n",
      "|32163   |5097     |\n",
      "|885605  |4847     |\n",
      "|163075  |4731     |\n",
      "|819223  |4620     |\n",
      "|605856  |4550     |\n",
      "|828963  |4484     |\n",
      "|551829  |4220     |\n",
      "|41909   |4219     |\n",
      "|558791  |4206     |\n",
      "|459074  |4187     |\n",
      "|407610  |4180     |\n",
      "|213432  |4084     |\n",
      "|765334  |4015     |\n",
      "|384666  |4010     |\n",
      "|173976  |3988     |\n",
      "|687325  |3956     |\n",
      "+--------+---------+\n",
      "only showing top 20 rows\n",
      "\n"
     ]
    },
    {
     "name": "stderr",
     "output_type": "stream",
     "text": [
      "                                                                                \r"
     ]
    }
   ],
   "source": [
    "data.groupBy(\"ToNodeId\")\\\n",
    "        .agg(sf.count('ToNodeId').alias('in-degree'))\\\n",
    "        .sort('in-degree', ascending=False)\\\n",
    "        .show(20, False)"
   ]
  },
  {
   "cell_type": "markdown",
   "id": "66b091f7",
   "metadata": {},
   "source": [
    "#### Given a node v, please output the list of nodes that v points to, and the list of nodes that points to v."
   ]
  },
  {
   "cell_type": "code",
   "execution_count": 7,
   "id": "2b940152",
   "metadata": {},
   "outputs": [
    {
     "name": "stdout",
     "output_type": "stream",
     "text": [
      "Please enter the node v: 597621\n"
     ]
    },
    {
     "name": "stdout",
     "output_type": "stream",
     "text": [
      "list of nodes that v points to\n"
     ]
    },
    {
     "name": "stderr",
     "output_type": "stream",
     "text": [
      "23/12/30 15:08:19 WARN TaskSetManager: Stage 7 contains a task of very large size (14310 KiB). The maximum recommended task size is 1000 KiB.\n",
      "23/12/30 15:08:19 WARN TaskSetManager: Stage 8 contains a task of very large size (14310 KiB). The maximum recommended task size is 1000 KiB.\n"
     ]
    },
    {
     "name": "stdout",
     "output_type": "stream",
     "text": [
      "+----------+--------+\n",
      "|FromNodeId|ToNodeId|\n",
      "+----------+--------+\n",
      "|597621    |2937    |\n",
      "|597621    |89958   |\n",
      "|597621    |107219  |\n",
      "|597621    |137136  |\n",
      "|597621    |163524  |\n",
      "|597621    |178815  |\n",
      "|597621    |190733  |\n",
      "|597621    |206688  |\n",
      "|597621    |397349  |\n",
      "|597621    |518625  |\n",
      "|597621    |564202  |\n",
      "|597621    |564998  |\n",
      "|597621    |654863  |\n",
      "|597621    |660384  |\n",
      "|597621    |718679  |\n",
      "|597621    |727948  |\n",
      "|597621    |729403  |\n",
      "|597621    |769429  |\n",
      "|597621    |783319  |\n",
      "|597621    |857417  |\n",
      "+----------+--------+\n",
      "only showing top 20 rows\n",
      "\n",
      "list of nodes that points to v\n",
      "+----------+--------+\n",
      "|FromNodeId|ToNodeId|\n",
      "+----------+--------+\n",
      "|2         |597621  |\n",
      "|30957     |597621  |\n",
      "|357310    |597621  |\n",
      "|423174    |597621  |\n",
      "|430119    |597621  |\n",
      "|462435    |597621  |\n",
      "|472889    |597621  |\n",
      "|565424    |597621  |\n",
      "|581609    |597621  |\n",
      "|644135    |597621  |\n",
      "|858904    |597621  |\n",
      "|416       |597621  |\n",
      "|199663    |597621  |\n",
      "|46237     |597621  |\n",
      "|219020    |597621  |\n",
      "|567756    |597621  |\n",
      "|105553    |597621  |\n",
      "|738032    |597621  |\n",
      "|1308      |597621  |\n",
      "|897260    |597621  |\n",
      "+----------+--------+\n",
      "only showing top 20 rows\n",
      "\n"
     ]
    }
   ],
   "source": [
    "while True:\n",
    "    try:\n",
    "        node = int(input(\"Please enter the node v:\"))\n",
    "    except ValueError:\n",
    "        print(\"Your input is not valid.\")\n",
    "        continue\n",
    "    if node < 0:\n",
    "        continue\n",
    "    else:\n",
    "        break\n",
    "print('list of nodes that v points to')\n",
    "data.filter(data.FromNodeId == node)\\\n",
    "          .show(truncate=False)\n",
    "print('list of nodes that points to v')\n",
    "data.filter(data.ToNodeId == node)\\\n",
    "          .show(truncate=False)"
   ]
  }
 ],
 "metadata": {
  "kernelspec": {
   "display_name": "Python 3 (ipykernel)",
   "language": "python",
   "name": "python3"
  },
  "language_info": {
   "codemirror_mode": {
    "name": "ipython",
    "version": 3
   },
   "file_extension": ".py",
   "mimetype": "text/x-python",
   "name": "python",
   "nbconvert_exporter": "python",
   "pygments_lexer": "ipython3",
   "version": "3.9.2"
  }
 },
 "nbformat": 4,
 "nbformat_minor": 5
}
