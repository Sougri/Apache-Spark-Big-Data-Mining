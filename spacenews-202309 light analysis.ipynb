{
 "cells": [
  {
   "cell_type": "code",
   "execution_count": 1,
   "id": "c3365f6a",
   "metadata": {},
   "outputs": [
    {
     "name": "stderr",
     "output_type": "stream",
     "text": [
      "23/11/02 12:18:02 WARN NativeCodeLoader: Unable to load native-hadoop library for your platform... using builtin-java classes where applicable\n",
      "Using Spark's default log4j profile: org/apache/spark/log4j-defaults.properties\n",
      "Setting default log level to \"WARN\".\n",
      "To adjust logging level use sc.setLogLevel(newLevel). For SparkR, use setLogLevel(newLevel).\n"
     ]
    }
   ],
   "source": [
    "from pyspark.sql import SparkSession\n",
    "\n",
    "spark = SparkSession.\\\n",
    "        builder.\\\n",
    "        appName(\"HM1\").\\\n",
    "        master(\"spark://spark-master:7077\").\\\n",
    "        config(\"spark.executor.memory\", \"512m\").\\\n",
    "        getOrCreate()"
   ]
  },
  {
   "cell_type": "code",
   "execution_count": 2,
   "id": "8b61e130",
   "metadata": {},
   "outputs": [],
   "source": [
    "#!pip3 install pandas"
   ]
  },
  {
   "cell_type": "code",
   "execution_count": 3,
   "id": "f86aaa99",
   "metadata": {},
   "outputs": [
    {
     "name": "stderr",
     "output_type": "stream",
     "text": [
      "/tmp/ipykernel_41/3838846475.py:8: FutureWarning: The argument 'date_parser' is deprecated and will be removed in a future version. Please use 'date_format' instead, or read your data in as 'object' dtype and then call 'to_datetime'.\n",
      "  read_data = pd.read_csv(r\"data/spacenews-202309.csv\", parse_dates=['date'], date_parser=custom_date_parser)\n"
     ]
    },
    {
     "data": {
      "text/html": [
       "<div>\n",
       "<style scoped>\n",
       "    .dataframe tbody tr th:only-of-type {\n",
       "        vertical-align: middle;\n",
       "    }\n",
       "\n",
       "    .dataframe tbody tr th {\n",
       "        vertical-align: top;\n",
       "    }\n",
       "\n",
       "    .dataframe thead th {\n",
       "        text-align: right;\n",
       "    }\n",
       "</style>\n",
       "<table border=\"1\" class=\"dataframe\">\n",
       "  <thead>\n",
       "    <tr style=\"text-align: right;\">\n",
       "      <th></th>\n",
       "      <th>title</th>\n",
       "      <th>url</th>\n",
       "      <th>content</th>\n",
       "      <th>author</th>\n",
       "      <th>date</th>\n",
       "      <th>postexcerpt</th>\n",
       "    </tr>\n",
       "  </thead>\n",
       "  <tbody>\n",
       "    <tr>\n",
       "      <th>0</th>\n",
       "      <td>HawkEye 360 reaches inflection point on path t...</td>\n",
       "      <td>https://spacenews.com/hawkeye-360-reaches-infl...</td>\n",
       "      <td>PARIS — With a recent funding round and growin...</td>\n",
       "      <td>Jeff Foust</td>\n",
       "      <td>2023-09-14</td>\n",
       "      <td>NaN</td>\n",
       "    </tr>\n",
       "    <tr>\n",
       "      <th>1</th>\n",
       "      <td>SES Q&amp;A | Leveling up multi-orbit connectivity</td>\n",
       "      <td>https://spacenews.com/ses-qa-leveling-up-multi...</td>\n",
       "      <td>Multi-orbit satellite operator SES is on the v...</td>\n",
       "      <td>Jason Rainbow</td>\n",
       "      <td>2023-09-13</td>\n",
       "      <td>NaN</td>\n",
       "    </tr>\n",
       "    <tr>\n",
       "      <th>2</th>\n",
       "      <td>Rapid Starlink iteration poses challenges for ...</td>\n",
       "      <td>https://spacenews.com/rapid-starlink-iteration...</td>\n",
       "      <td>TAMPA, Fla. — SpaceX’s ability to quickly chan...</td>\n",
       "      <td>Jason Rainbow</td>\n",
       "      <td>2023-09-13</td>\n",
       "      <td>NaN</td>\n",
       "    </tr>\n",
       "    <tr>\n",
       "      <th>3</th>\n",
       "      <td>Space Force to release guidelines for the use ...</td>\n",
       "      <td>https://spacenews.com/space-force-to-release-g...</td>\n",
       "      <td>WASHINGTON — U.S. Chief of Space Operations Ge...</td>\n",
       "      <td>Sandra Erwin</td>\n",
       "      <td>2023-09-13</td>\n",
       "      <td>NaN</td>\n",
       "    </tr>\n",
       "    <tr>\n",
       "      <th>4</th>\n",
       "      <td>ULA has ‘no issues’ with Space Force plan to s...</td>\n",
       "      <td>https://spacenews.com/ula-has-no-issues-with-s...</td>\n",
       "      <td>WASHINGTON — United Launch Alliance, one of ju...</td>\n",
       "      <td>Sandra Erwin</td>\n",
       "      <td>2023-09-13</td>\n",
       "      <td>NaN</td>\n",
       "    </tr>\n",
       "    <tr>\n",
       "      <th>...</th>\n",
       "      <td>...</td>\n",
       "      <td>...</td>\n",
       "      <td>...</td>\n",
       "      <td>...</td>\n",
       "      <td>...</td>\n",
       "      <td>...</td>\n",
       "    </tr>\n",
       "    <tr>\n",
       "      <th>19579</th>\n",
       "      <td>Kendall lays out Pentagon thinking on future s...</td>\n",
       "      <td>https://spacenews.com/frank-kendall-at-wsbr/</td>\n",
       "      <td>\\nFrank Kendall, the Pentagon’s top acquisitio...</td>\n",
       "      <td>SpaceNews Staff</td>\n",
       "      <td>2016-02-25</td>\n",
       "      <td>Frank Kendall, the Pentagon’s top acquisition ...</td>\n",
       "    </tr>\n",
       "    <tr>\n",
       "      <th>19580</th>\n",
       "      <td>A larger share of NOAA’s declining space budge...</td>\n",
       "      <td>https://spacenews.com/a-larger-share-of-noaas-...</td>\n",
       "      <td>Updated Feb. 10 at 10:18 p.m. Eastern The U.S....</td>\n",
       "      <td>Debra Werner</td>\n",
       "      <td>2016-02-10</td>\n",
       "      <td>The U.S. National Oceanic and Atmospheric Admi...</td>\n",
       "    </tr>\n",
       "    <tr>\n",
       "      <th>19581</th>\n",
       "      <td>Think Tank Turns Its Attention To Mars As 2016...</td>\n",
       "      <td>https://spacenews.com/think-tank-turns-its-att...</td>\n",
       "      <td>WASHINGTON — As NASA develops a long-term stra...</td>\n",
       "      <td>Jeff Foust</td>\n",
       "      <td>2015-06-11</td>\n",
       "      <td>As NASA develops a long-term strategy to suppo...</td>\n",
       "    </tr>\n",
       "    <tr>\n",
       "      <th>19582</th>\n",
       "      <td>House Bill Leaves Last Three JPSS Satellites i...</td>\n",
       "      <td>https://spacenews.com/no-money-for-noaa-weathe...</td>\n",
       "      <td>WASHINGTON — A spending bill the House passed ...</td>\n",
       "      <td>Dan Leone</td>\n",
       "      <td>2015-06-04</td>\n",
       "      <td>A spending bill the House passed June 3 would ...</td>\n",
       "    </tr>\n",
       "    <tr>\n",
       "      <th>19583</th>\n",
       "      <td>Championing a Climate Change for Commercial We...</td>\n",
       "      <td>https://spacenews.com/championing-a-changing-c...</td>\n",
       "      <td>U.S. Rep. Jim Bridenstine (R-Okla.) is a growi...</td>\n",
       "      <td>Jeff Foust</td>\n",
       "      <td>2015-02-18</td>\n",
       "      <td>Rep. Jim Bridenstine, who emerged in 2014 as a...</td>\n",
       "    </tr>\n",
       "  </tbody>\n",
       "</table>\n",
       "<p>19584 rows × 6 columns</p>\n",
       "</div>"
      ],
      "text/plain": [
       "                                                   title  \\\n",
       "0      HawkEye 360 reaches inflection point on path t...   \n",
       "1         SES Q&A | Leveling up multi-orbit connectivity   \n",
       "2      Rapid Starlink iteration poses challenges for ...   \n",
       "3      Space Force to release guidelines for the use ...   \n",
       "4      ULA has ‘no issues’ with Space Force plan to s...   \n",
       "...                                                  ...   \n",
       "19579  Kendall lays out Pentagon thinking on future s...   \n",
       "19580  A larger share of NOAA’s declining space budge...   \n",
       "19581  Think Tank Turns Its Attention To Mars As 2016...   \n",
       "19582  House Bill Leaves Last Three JPSS Satellites i...   \n",
       "19583  Championing a Climate Change for Commercial We...   \n",
       "\n",
       "                                                     url  \\\n",
       "0      https://spacenews.com/hawkeye-360-reaches-infl...   \n",
       "1      https://spacenews.com/ses-qa-leveling-up-multi...   \n",
       "2      https://spacenews.com/rapid-starlink-iteration...   \n",
       "3      https://spacenews.com/space-force-to-release-g...   \n",
       "4      https://spacenews.com/ula-has-no-issues-with-s...   \n",
       "...                                                  ...   \n",
       "19579       https://spacenews.com/frank-kendall-at-wsbr/   \n",
       "19580  https://spacenews.com/a-larger-share-of-noaas-...   \n",
       "19581  https://spacenews.com/think-tank-turns-its-att...   \n",
       "19582  https://spacenews.com/no-money-for-noaa-weathe...   \n",
       "19583  https://spacenews.com/championing-a-changing-c...   \n",
       "\n",
       "                                                 content           author  \\\n",
       "0      PARIS — With a recent funding round and growin...       Jeff Foust   \n",
       "1      Multi-orbit satellite operator SES is on the v...    Jason Rainbow   \n",
       "2      TAMPA, Fla. — SpaceX’s ability to quickly chan...    Jason Rainbow   \n",
       "3      WASHINGTON — U.S. Chief of Space Operations Ge...     Sandra Erwin   \n",
       "4      WASHINGTON — United Launch Alliance, one of ju...     Sandra Erwin   \n",
       "...                                                  ...              ...   \n",
       "19579  \\nFrank Kendall, the Pentagon’s top acquisitio...  SpaceNews Staff   \n",
       "19580  Updated Feb. 10 at 10:18 p.m. Eastern The U.S....     Debra Werner   \n",
       "19581  WASHINGTON — As NASA develops a long-term stra...       Jeff Foust   \n",
       "19582  WASHINGTON — A spending bill the House passed ...        Dan Leone   \n",
       "19583  U.S. Rep. Jim Bridenstine (R-Okla.) is a growi...       Jeff Foust   \n",
       "\n",
       "            date                                        postexcerpt  \n",
       "0     2023-09-14                                                NaN  \n",
       "1     2023-09-13                                                NaN  \n",
       "2     2023-09-13                                                NaN  \n",
       "3     2023-09-13                                                NaN  \n",
       "4     2023-09-13                                                NaN  \n",
       "...          ...                                                ...  \n",
       "19579 2016-02-25  Frank Kendall, the Pentagon’s top acquisition ...  \n",
       "19580 2016-02-10  The U.S. National Oceanic and Atmospheric Admi...  \n",
       "19581 2015-06-11  As NASA develops a long-term strategy to suppo...  \n",
       "19582 2015-06-04  A spending bill the House passed June 3 would ...  \n",
       "19583 2015-02-18  Rep. Jim Bridenstine, who emerged in 2014 as a...  \n",
       "\n",
       "[19584 rows x 6 columns]"
      ]
     },
     "execution_count": 3,
     "metadata": {},
     "output_type": "execute_result"
    }
   ],
   "source": [
    "import pandas as pd\n",
    "from datetime import datetime\n",
    "\n",
    "#parse the date format and the csv file into pandas DataFrame\n",
    "\n",
    "custom_date_parser = lambda x: datetime.strptime(x, \"%B %d, %Y\")\n",
    "\n",
    "read_data = pd.read_csv(r\"data/spacenews-202309.csv\", parse_dates=['date'], date_parser=custom_date_parser)\n",
    "read_data"
   ]
  },
  {
   "cell_type": "code",
   "execution_count": 4,
   "id": "f72862c5",
   "metadata": {},
   "outputs": [
    {
     "data": {
      "text/plain": [
       "title                  object\n",
       "url                    object\n",
       "content                object\n",
       "author                 object\n",
       "date           datetime64[ns]\n",
       "postexcerpt            object\n",
       "dtype: object"
      ]
     },
     "execution_count": 4,
     "metadata": {},
     "output_type": "execute_result"
    }
   ],
   "source": [
    "read_data.dtypes"
   ]
  },
  {
   "cell_type": "markdown",
   "id": "42c414c2",
   "metadata": {},
   "source": [
    "#### List the records that the term “Space” (uppercase and lowercase included) occurs both in ‘Title’ and ‘Postexcerpt’"
   ]
  },
  {
   "cell_type": "code",
   "execution_count": 5,
   "id": "0b383c1c",
   "metadata": {},
   "outputs": [
    {
     "name": "stderr",
     "output_type": "stream",
     "text": [
      "23/11/02 12:18:20 WARN TaskSetManager: Stage 0 contains a task of very large size (19966 KiB). The maximum recommended task size is 1000 KiB.\n",
      "[Stage 0:>                                                          (0 + 1) / 1]\r"
     ]
    },
    {
     "name": "stdout",
     "output_type": "stream",
     "text": [
      "+--------------------+--------------------+--------------------+-------------+----------+-----------+\n",
      "|               Title|                 Url|             Content|       Author|      Date|Postexcerpt|\n",
      "+--------------------+--------------------+--------------------+-------------+----------+-----------+\n",
      "|HawkEye 360 reach...|https://spacenews...|PARIS — With a re...|   Jeff Foust|2023-09-14|        NaN|\n",
      "|SES Q&A | Levelin...|https://spacenews...|Multi-orbit satel...|Jason Rainbow|2023-09-13|        NaN|\n",
      "|Rapid Starlink it...|https://spacenews...|TAMPA, Fla. — Spa...|Jason Rainbow|2023-09-13|        NaN|\n",
      "|Space Force to re...|https://spacenews...|WASHINGTON — U.S....| Sandra Erwin|2023-09-13|        NaN|\n",
      "|ULA has ‘no issue...|https://spacenews...|WASHINGTON — Unit...| Sandra Erwin|2023-09-13|        NaN|\n",
      "|Microsoft and Esr...|https://spacenews...|PARIS – To speed ...| Debra Werner|2023-09-13|        NaN|\n",
      "|Intelsat and Aaly...|https://spacenews...|SAN FRANCISCO – G...| Debra Werner|2023-09-13|        NaN|\n",
      "|Axiom Space names...|https://spacenews...|PARIS — NASA and ...|   Jeff Foust|2023-09-13|        NaN|\n",
      "|Starlink and SES ...|https://spacenews...|TAMPA, Fla. — Spa...|Jason Rainbow|2023-09-13|        NaN|\n",
      "|Small satellite m...|https://spacenews...|TAMPA, Fla. — Swi...|Jason Rainbow|2023-09-13|        NaN|\n",
      "+--------------------+--------------------+--------------------+-------------+----------+-----------+\n",
      "only showing top 10 rows\n",
      "\n"
     ]
    },
    {
     "name": "stderr",
     "output_type": "stream",
     "text": [
      "                                                                                \r"
     ]
    }
   ],
   "source": [
    "from pyspark import SparkFiles\n",
    "from pyspark.sql.types import *\n",
    "news_data_schema = StructType([StructField(\"Title\", StringType(), True)\\\n",
    "                               ,StructField(\"Url\", StringType(), True)\\\n",
    "                               ,StructField(\"Content\", StringType(), True)\\\n",
    "                               ,StructField(\"Author\", StringType(), True)\\\n",
    "                               ,StructField(\"Date\", DateType(), True)\\\n",
    "                               ,StructField(\"Postexcerpt\", StringType(), True)])\n",
    "\n",
    "news_data = spark.createDataFrame(read_data, schema = news_data_schema)\n",
    "news_data.show(n=10)"
   ]
  },
  {
   "cell_type": "code",
   "execution_count": 6,
   "id": "3fceceee",
   "metadata": {},
   "outputs": [
    {
     "name": "stderr",
     "output_type": "stream",
     "text": [
      "23/11/02 12:18:25 WARN TaskSetManager: Stage 1 contains a task of very large size (19966 KiB). The maximum recommended task size is 1000 KiB.\n",
      "23/11/02 12:18:31 WARN TaskSetManager: Stage 2 contains a task of very large size (22850 KiB). The maximum recommended task size is 1000 KiB.\n",
      "[Stage 2:=============================>                             (1 + 1) / 2]\r"
     ]
    },
    {
     "name": "stdout",
     "output_type": "stream",
     "text": [
      "+--------------------+--------------------+--------------------+-------------+----------+--------------------+\n",
      "|               Title|                 Url|             Content|       Author|      Date|         Postexcerpt|\n",
      "+--------------------+--------------------+--------------------+-------------+----------+--------------------+\n",
      "|‘State of the spa...|https://spacenews...|WASHINGTON — For ...| Sandra Erwin|2022-08-24|The \"State of the...|\n",
      "|Washington state ...|https://spacenews...|SAN FRANCISCO – W...| Debra Werner|2022-02-22|Washington state’...|\n",
      "|State Fight: Shor...|https://spacenews...|Terran Orbital, w...|Jason Rainbow|2022-02-20|The Sunshine Stat...|\n",
      "|State Fight: New ...|https://spacenews...|Federal space fun...| Debra Werner|2022-02-19|New Mexico was no...|\n",
      "|State Fight: A co...|https://spacenews...|Cities, counties ...| Debra Werner|2022-02-17|With California l...|\n",
      "|Industry offers c...|https://spacenews...|ORLANDO, Fla. — A...|   Jeff Foust|2022-01-17|After a year that...|\n",
      "|Utah State Univer...|https://spacenews...|WASHINGTON — The ...| Sandra Erwin|2021-11-15|The Air Force Res...|\n",
      "|OneWeb and AT&T p...|https://spacenews...|TAMPA, Fla. — AT&...|Jason Rainbow|2021-09-08|AT&T has agreed t...|\n",
      "|Report concludes ...|https://spacenews...|WASHINGTON — The ...|   Jeff Foust|2020-11-30|The ousted direct...|\n",
      "|FCC’s approval of...|https://spacenews...|WASHINGTON — The ...| Sandra Erwin|2020-04-20|DoD opposes the F...|\n",
      "|ESA to request $1...|https://spacenews...|HELSINKI —  The E...| Andrew Jones|2019-10-17|The European Spac...|\n",
      "|United States and...|https://spacenews...|WASHINGTON — The ...|   Jeff Foust|2019-05-10|The governments o...|\n",
      "|US State Departme...|https://spacenews...|WASHINGTON — The ...|  Caleb Henry|2018-10-05|The U.S. State De...|\n",
      "|In space and cybe...|https://spacenews...|WASHINGTON — It s...| Sandra Erwin|2018-01-10|The United States...|\n",
      "|Arizona state tre...|https://spacenews...|WASHINGTON — The ...|   Jeff Foust|2017-11-30|The White House a...|\n",
      "|Georgia passes bi...|https://spacenews...|Georgia’s legisla...|   Jeff Foust|2017-03-23|The Georgia House...|\n",
      "|Russia open to in...|https://spacenews...|WASHINGTON — The ...|   Jeff Foust|2017-02-01|The Russian ambas...|\n",
      "|Utah State’s Spac...|https://spacenews...|HUNTSVILLE, Ala. ...|   Mike Gruss|2016-08-17|The U.S. Missile ...|\n",
      "|McCain, McCarthy ...|https://spacenews...|Two leading membe...|   Jeff Foust|2016-01-27|Wednesday's brief...|\n",
      "|Q&A with Frank Di...|https://spacenews...|Profile | Frank D...|   Jeff Foust|2015-09-29|Frank DiBello bot...|\n",
      "+--------------------+--------------------+--------------------+-------------+----------+--------------------+\n",
      "only showing top 20 rows\n",
      "\n"
     ]
    },
    {
     "name": "stderr",
     "output_type": "stream",
     "text": [
      "                                                                                \r"
     ]
    }
   ],
   "source": [
    "#List of term \"Space\" records\n",
    "\n",
    "news_data.filter((news_data.Title.rlike(\"(?i)^*state\")) & (news_data.Postexcerpt.rlike(\"(?i)^*state\"))).show()"
   ]
  },
  {
   "cell_type": "code",
   "execution_count": 7,
   "id": "30c338b2",
   "metadata": {},
   "outputs": [
    {
     "name": "stderr",
     "output_type": "stream",
     "text": [
      "23/11/02 12:18:36 WARN TaskSetManager: Stage 3 contains a task of very large size (19966 KiB). The maximum recommended task size is 1000 KiB.\n",
      "                                                                                \r"
     ]
    },
    {
     "data": {
      "text/plain": [
       "38"
      ]
     },
     "execution_count": 7,
     "metadata": {},
     "output_type": "execute_result"
    }
   ],
   "source": [
    "news_data.filter( (news_data.Title.rlike(\"(?i)^*state\")) & (news_data.Postexcerpt.rlike(\"(?i)^*state\")) ).count()"
   ]
  },
  {
   "cell_type": "code",
   "execution_count": 8,
   "id": "be6ade60",
   "metadata": {},
   "outputs": [
    {
     "data": {
      "text/plain": [
       "'print(news_data.filter(news_data.Title.contains(\"State\")).count(), news_data.filter(news_data.Title.contains(\"state\")).count())'"
      ]
     },
     "execution_count": 8,
     "metadata": {},
     "output_type": "execute_result"
    }
   ],
   "source": [
    "\"\"\"print(news_data.filter(news_data.Title.contains(\"State\")).count(), news_data.filter(news_data.Title.contains(\"state\")).count())\"\"\""
   ]
  },
  {
   "cell_type": "code",
   "execution_count": 9,
   "id": "4e9581b8",
   "metadata": {},
   "outputs": [
    {
     "data": {
      "text/plain": [
       "'print(news_data.filter(news_data.Title.rlike(\"(?i)^*state\")).count())\\nnews_data.filter(news_data.Title.rlike(\"(?i)^*state\")).show()'"
      ]
     },
     "execution_count": 9,
     "metadata": {},
     "output_type": "execute_result"
    }
   ],
   "source": [
    "\"\"\"print(news_data.filter(news_data.Title.rlike(\"(?i)^*state\")).count())\n",
    "news_data.filter(news_data.Title.rlike(\"(?i)^*state\")).show()\"\"\""
   ]
  },
  {
   "cell_type": "code",
   "execution_count": 10,
   "id": "13323755",
   "metadata": {},
   "outputs": [
    {
     "name": "stderr",
     "output_type": "stream",
     "text": [
      "23/11/02 12:18:39 WARN TaskSetManager: Stage 5 contains a task of very large size (19966 KiB). The maximum recommended task size is 1000 KiB.\n"
     ]
    },
    {
     "name": "stdout",
     "output_type": "stream",
     "text": [
      "+------------------------------------------------------------------------------------------+\n",
      "|Title                                                                                     |\n",
      "+------------------------------------------------------------------------------------------+\n",
      "|hawkeye 360 reaches inflection point on path to profitability                             |\n",
      "|ses q a leveling up multi orbit connectivity                                              |\n",
      "|rapid starlink iteration poses challenges for resellers                                   |\n",
      "|space force to release guidelines for the use of commercial satellite services            |\n",
      "|ula has no issues with space force plan to select three national security launch providers|\n",
      "+------------------------------------------------------------------------------------------+\n",
      "only showing top 5 rows\n",
      "\n"
     ]
    },
    {
     "name": "stderr",
     "output_type": "stream",
     "text": [
      "                                                                                \r"
     ]
    }
   ],
   "source": [
    "import string\n",
    "import re\n",
    "import pyspark.sql.functions as func\n",
    "#Remove punctuations and extra white space\n",
    "\n",
    "def remove_punctuations(text):\n",
    "    text = text.lower()\n",
    "    text = re.sub(r'[^A-Za-z0-9]+', ' ', text)\n",
    "    text = re.sub(\"\\s+\", \" \", text)\n",
    "    text = text.strip()\n",
    "    return text\n",
    "\n",
    "udf_remove_punctuations = func.udf(lambda x:remove_punctuations(x),StringType())\n",
    "news_data = news_data.withColumn('Content', udf_remove_punctuations(func.col('Content')))\n",
    "news_data = news_data.withColumn('Title', udf_remove_punctuations(func.col('Title')))\n",
    "news_data.select('Title').show(5, False)"
   ]
  },
  {
   "cell_type": "markdown",
   "id": "a709ec9d",
   "metadata": {},
   "source": [
    "#### Count the words in the field: ‘Title’, and list the most frequent words according to the term frequency in descending order, in total, and per day respectively"
   ]
  },
  {
   "cell_type": "code",
   "execution_count": 11,
   "id": "114ea353",
   "metadata": {},
   "outputs": [
    {
     "name": "stderr",
     "output_type": "stream",
     "text": [
      "23/11/02 12:18:40 WARN TaskSetManager: Stage 6 contains a task of very large size (19966 KiB). The maximum recommended task size is 1000 KiB.\n",
      "[Stage 7:======================================================>(198 + 2) / 200]\r"
     ]
    },
    {
     "name": "stdout",
     "output_type": "stream",
     "text": [
      "+----------+-----+\n",
      "|word      |count|\n",
      "+----------+-----+\n",
      "|to        |6356 |\n",
      "|space     |4701 |\n",
      "|for       |4372 |\n",
      "|s         |3648 |\n",
      "|in        |2491 |\n",
      "|of        |2462 |\n",
      "|satellite |2349 |\n",
      "|launch    |2296 |\n",
      "|nasa      |2272 |\n",
      "|on        |2115 |\n",
      "|the       |1552 |\n",
      "|force     |1449 |\n",
      "|u         |1432 |\n",
      "|and       |1405 |\n",
      "|with      |1181 |\n",
      "|a         |1144 |\n",
      "|new       |1068 |\n",
      "|satellites|992  |\n",
      "|spacex    |969  |\n",
      "|commercial|947  |\n",
      "+----------+-----+\n",
      "only showing top 20 rows\n",
      "\n"
     ]
    },
    {
     "name": "stderr",
     "output_type": "stream",
     "text": [
      "                                                                                \r"
     ]
    }
   ],
   "source": [
    "#Most frequent words in total for the column Title\n",
    "\n",
    "news_data.withColumn('word', func.explode(func.split(func.col('Title'), ' ')))\\\n",
    "    .groupBy('word')\\\n",
    "    .count()\\\n",
    "    .sort('count', ascending=False)\\\n",
    "    .show(20, False)"
   ]
  },
  {
   "cell_type": "code",
   "execution_count": 12,
   "id": "1edf598c",
   "metadata": {},
   "outputs": [
    {
     "name": "stderr",
     "output_type": "stream",
     "text": [
      "23/11/02 12:18:50 WARN TaskSetManager: Stage 8 contains a task of very large size (19966 KiB). The maximum recommended task size is 1000 KiB.\n",
      "[Stage 9:===================================================>   (187 + 5) / 200]\r"
     ]
    },
    {
     "name": "stdout",
     "output_type": "stream",
     "text": [
      "+----------+----------+-----+\n",
      "|Date      |word      |count|\n",
      "+----------+----------+-----+\n",
      "|2011-10-01|space     |50   |\n",
      "|2011-10-01|to        |40   |\n",
      "|2011-10-01|s         |38   |\n",
      "|2011-10-01|the       |27   |\n",
      "|2011-10-01|in        |27   |\n",
      "|2011-10-01|nasa      |26   |\n",
      "|2011-10-01|for       |23   |\n",
      "|2011-10-01|florida   |20   |\n",
      "|2011-10-01|on        |18   |\n",
      "|2011-10-01|u         |18   |\n",
      "|2011-10-01|satellite |17   |\n",
      "|2011-10-01|post      |17   |\n",
      "|2011-10-01|today     |17   |\n",
      "|2013-12-16|in        |15   |\n",
      "|2011-10-01|of        |15   |\n",
      "|2011-10-01|news      |14   |\n",
      "|2011-10-01|washington|14   |\n",
      "|2012-12-17|the       |14   |\n",
      "|2012-12-17|in        |13   |\n",
      "|2013-12-16|year      |13   |\n",
      "+----------+----------+-----+\n",
      "only showing top 20 rows\n",
      "\n"
     ]
    },
    {
     "name": "stderr",
     "output_type": "stream",
     "text": [
      "                                                                                \r"
     ]
    }
   ],
   "source": [
    "#Most frequent words per day in the column Title\n",
    "\n",
    "news_data.withColumn('word', func.explode(func.split(func.col('Title'), ' ')))\\\n",
    "    .groupBy(func.date_format('Date','yyyy-MM-dd').alias('Date'), 'word')\\\n",
    "    .count()\\\n",
    "    .sort('count', ascending=False)\\\n",
    "    .show(20, False)"
   ]
  },
  {
   "cell_type": "markdown",
   "id": "6f8a52d6",
   "metadata": {},
   "source": [
    "#### Count the words in the fields: ‘Content’, and list the most frequent words according to the term frequency in descending order, in total, and per day respectively"
   ]
  },
  {
   "cell_type": "code",
   "execution_count": 13,
   "id": "ba41820e",
   "metadata": {},
   "outputs": [
    {
     "name": "stderr",
     "output_type": "stream",
     "text": [
      "23/11/02 12:18:56 WARN TaskSetManager: Stage 10 contains a task of very large size (19966 KiB). The maximum recommended task size is 1000 KiB.\n",
      "[Stage 11:===================================================>  (192 + 3) / 200]\r"
     ]
    },
    {
     "name": "stdout",
     "output_type": "stream",
     "text": [
      "+------+------+\n",
      "|word  |count |\n",
      "+------+------+\n",
      "|the   |753165|\n",
      "|to    |383449|\n",
      "|of    |316428|\n",
      "|and   |279567|\n",
      "|a     |279116|\n",
      "|in    |244349|\n",
      "|that  |164331|\n",
      "|for   |162311|\n",
      "|s     |159822|\n",
      "|is    |133168|\n",
      "|space |122458|\n",
      "|said  |121372|\n",
      "|on    |101829|\n",
      "|with  |84307 |\n",
      "|it    |81813 |\n",
      "|as    |71785 |\n",
      "|we    |71301 |\n",
      "|will  |70310 |\n",
      "|be    |70056 |\n",
      "|launch|67979 |\n",
      "+------+------+\n",
      "only showing top 20 rows\n",
      "\n"
     ]
    },
    {
     "name": "stderr",
     "output_type": "stream",
     "text": [
      "                                                                                \r"
     ]
    }
   ],
   "source": [
    "#Most frequent words in total for the column Content\n",
    "\n",
    "news_data.withColumn('word', func.explode(func.split(func.col('Content'), ' ')))\\\n",
    "    .groupBy('word')\\\n",
    "    .count()\\\n",
    "    .sort('count', ascending=False)\\\n",
    "    .show(20, False)"
   ]
  },
  {
   "cell_type": "code",
   "execution_count": 14,
   "id": "e3eaa353",
   "metadata": {},
   "outputs": [
    {
     "name": "stderr",
     "output_type": "stream",
     "text": [
      "23/11/02 12:19:05 WARN TaskSetManager: Stage 12 contains a task of very large size (19966 KiB). The maximum recommended task size is 1000 KiB.\n",
      "[Stage 13:====================================================> (193 + 4) / 200]\r"
     ]
    },
    {
     "name": "stdout",
     "output_type": "stream",
     "text": [
      "+----------+------------+-----+\n",
      "|Date      |word        |count|\n",
      "+----------+------------+-----+\n",
      "|2023-09-14|plan        |1    |\n",
      "|2023-09-14|valuable    |1    |\n",
      "|2023-09-14|advanced    |1    |\n",
      "|2023-09-14|conservative|1    |\n",
      "|2023-09-14|keeps       |1    |\n",
      "|2023-09-14|highlighted |1    |\n",
      "|2023-09-14|private     |2    |\n",
      "|2023-09-14|2026        |1    |\n",
      "|2023-09-14|them        |1    |\n",
      "|2023-09-14|12          |2    |\n",
      "|2023-09-14|world       |1    |\n",
      "|2023-09-14|ipo         |2    |\n",
      "|2023-09-14|could       |1    |\n",
      "|2023-09-14|good        |1    |\n",
      "|2023-09-14|layer       |1    |\n",
      "|2023-09-14|depend      |1    |\n",
      "|2023-09-14|they        |1    |\n",
      "|2023-09-14|led         |1    |\n",
      "|2023-09-14|two         |3    |\n",
      "|2023-09-14|radio       |2    |\n",
      "+----------+------------+-----+\n",
      "only showing top 20 rows\n",
      "\n"
     ]
    },
    {
     "name": "stderr",
     "output_type": "stream",
     "text": [
      "                                                                                \r"
     ]
    }
   ],
   "source": [
    "#Most frequent words per day in the column Content\n",
    "\n",
    "news_data.withColumn('word', func.explode(func.split(func.col('Content'), ' ')))\\\n",
    "    .groupBy(func.date_format('Date','yyyy-MM-dd').alias('Date'), 'word')\\\n",
    "    .count()\\\n",
    "    .sort('Date', ascending=False)\\\n",
    "    .show(20, False)"
   ]
  },
  {
   "cell_type": "markdown",
   "id": "1b7a4eea",
   "metadata": {},
   "source": [
    "#### Calculate the average number of percentage of published articles in a day, and by authors in a day, respectively"
   ]
  },
  {
   "cell_type": "code",
   "execution_count": 15,
   "id": "9320de59",
   "metadata": {},
   "outputs": [
    {
     "name": "stderr",
     "output_type": "stream",
     "text": [
      "23/11/02 12:19:29 WARN TaskSetManager: Stage 14 contains a task of very large size (19966 KiB). The maximum recommended task size is 1000 KiB.\n",
      "[Stage 15:===============================================>      (176 + 5) / 200]\r"
     ]
    },
    {
     "name": "stdout",
     "output_type": "stream",
     "text": [
      "+----------+--------------------+\n",
      "|      Date|          percentage|\n",
      "+----------+--------------------+\n",
      "|2011-10-01|  0.0090890522875817|\n",
      "|2012-09-26|0.001327614379084...|\n",
      "|2013-09-23|0.001327614379084...|\n",
      "|2012-10-29|0.001276552287581...|\n",
      "|2012-11-12|0.001276552287581...|\n",
      "|2012-10-23|0.001174428104575...|\n",
      "|2021-08-24|0.001021241830065...|\n",
      "|2022-04-04|0.001021241830065...|\n",
      "|2012-09-27|0.001021241830065...|\n",
      "|2013-12-16|0.001021241830065...|\n",
      "|2014-09-08|9.701797385620915E-4|\n",
      "|2012-01-23|9.701797385620915E-4|\n",
      "|2019-04-08|9.191176470588235E-4|\n",
      "|2011-05-02|9.191176470588235E-4|\n",
      "|2011-02-14|9.191176470588235E-4|\n",
      "|2018-08-08|9.191176470588235E-4|\n",
      "|2012-12-17|8.680555555555555E-4|\n",
      "|2011-08-29|8.680555555555555E-4|\n",
      "|2017-04-05|8.680555555555555E-4|\n",
      "|2018-04-17|8.680555555555555E-4|\n",
      "+----------+--------------------+\n",
      "only showing top 20 rows\n",
      "\n"
     ]
    },
    {
     "name": "stderr",
     "output_type": "stream",
     "text": [
      "                                                                                \r"
     ]
    }
   ],
   "source": [
    "from pyspark.sql.window import Window\n",
    "\n",
    "# Percentage of published articles in a day\n",
    "\n",
    "news_data.groupBy(func.date_format('Date','yyyy-MM-dd').alias('Date'))\\\n",
    "    .count()\\\n",
    "    .withColumn('percentage', func.col('count')/19584)\\\n",
    "    .sort('count', ascending=False)\\\n",
    "    .select(\"Date\", \"percentage\").show()"
   ]
  },
  {
   "cell_type": "code",
   "execution_count": 16,
   "id": "606c514b",
   "metadata": {},
   "outputs": [
    {
     "data": {
      "text/plain": [
       "\"news_data.groupBy(func.date_format('Date','yyyy-MM-dd').alias('Date'), 'Author')    .count()    .withColumn('percentage', func.col('count')/19584)    .sort('Date', ascending=False)    .show()\""
      ]
     },
     "execution_count": 16,
     "metadata": {},
     "output_type": "execute_result"
    }
   ],
   "source": [
    "\"\"\"news_data.groupBy(func.date_format('Date','yyyy-MM-dd').alias('Date'), 'Author')\\\n",
    "    .count()\\\n",
    "    .withColumn('percentage', func.col('count')/19584)\\\n",
    "    .sort('Date', ascending=False)\\\n",
    "    .show()\"\"\""
   ]
  },
  {
   "cell_type": "code",
   "execution_count": 17,
   "id": "31d42819",
   "metadata": {},
   "outputs": [
    {
     "name": "stderr",
     "output_type": "stream",
     "text": [
      "23/11/02 12:19:33 WARN TaskSetManager: Stage 16 contains a task of very large size (19966 KiB). The maximum recommended task size is 1000 KiB.\n",
      "23/11/02 12:19:35 WARN TaskSetManager: Stage 18 contains a task of very large size (19966 KiB). The maximum recommended task size is 1000 KiB.\n",
      "[Stage 19:==================================================>   (187 + 4) / 200]\r"
     ]
    },
    {
     "name": "stdout",
     "output_type": "stream",
     "text": [
      "+----------+-----+--------------------+-----+\n",
      "|      Date|Total|              Author|count|\n",
      "+----------+-----+--------------------+-----+\n",
      "|2011-10-01|  178|                  AP|    1|\n",
      "|2011-10-01|  178|         Amy Klamper|    1|\n",
      "|2011-10-01|  178|         RIA Novotsi|    1|\n",
      "|2011-10-01|  178|          SpaceX.com|    1|\n",
      "|2011-10-01|  178|            CBS News|    2|\n",
      "|2011-10-01|  178|                 BBC|    1|\n",
      "|2011-10-01|  178| Las Cruces Sun-News|    2|\n",
      "|2011-10-01|  178|         RIA Novosti|    8|\n",
      "|2011-10-01|  178|The Associated Press|    1|\n",
      "|2011-10-01|  178|AP via Baltimore Sun|    1|\n",
      "|2011-10-01|  178|The Huntsville Times|    2|\n",
      "|2011-10-01|  178|Courthouse News S...|    1|\n",
      "|2011-10-01|  178| The Washington Post|    8|\n",
      "|2011-10-01|  178|           Roll Call|    1|\n",
      "|2011-10-01|  178| Winnipeg Free Press|    1|\n",
      "|2011-10-01|  178|            BBC News|    2|\n",
      "|2011-10-01|  178|              Xinhua|    4|\n",
      "|2011-10-01|  178|       Florida Today|   15|\n",
      "|2011-10-01|  178|              Yonhap|    1|\n",
      "|2011-10-01|  178|     Spaceflight Now|    2|\n",
      "+----------+-----+--------------------+-----+\n",
      "only showing top 20 rows\n",
      "\n"
     ]
    },
    {
     "name": "stderr",
     "output_type": "stream",
     "text": [
      "                                                                                \r"
     ]
    }
   ],
   "source": [
    "A = news_data.groupBy(func.date_format('Date','yyyy-MM-dd').alias('Date')).agg(func.count(\"*\").alias(\"Total\"))\n",
    "B = news_data.groupBy(func.date_format('Date','yyyy-MM-dd').alias('Date'), 'Author').count()\n",
    "C = A.join(B, ['Date']).sort('Total', ascending=False)\n",
    "C.show()"
   ]
  },
  {
   "cell_type": "code",
   "execution_count": 18,
   "id": "63e6fc2e",
   "metadata": {},
   "outputs": [
    {
     "name": "stderr",
     "output_type": "stream",
     "text": [
      "23/11/02 12:19:44 WARN TaskSetManager: Stage 20 contains a task of very large size (19966 KiB). The maximum recommended task size is 1000 KiB.\n",
      "23/11/02 12:19:46 WARN TaskSetManager: Stage 22 contains a task of very large size (19966 KiB). The maximum recommended task size is 1000 KiB.\n",
      "[Stage 23:================================================>     (181 + 3) / 200]\r"
     ]
    },
    {
     "name": "stdout",
     "output_type": "stream",
     "text": [
      "+----------+--------------------+--------------------+\n",
      "|      Date|              Author|          Percentage|\n",
      "+----------+--------------------+--------------------+\n",
      "|2011-10-01|        Forbes India|0.005617977528089...|\n",
      "|2011-10-01|   Los Angeles Times|0.011235955056179775|\n",
      "|2011-10-01| Las Cruces Sun-News|0.011235955056179775|\n",
      "|2011-10-01| Winnipeg Free Press|0.005617977528089...|\n",
      "|2011-10-01| The Daily Telegraph|0.005617977528089...|\n",
      "|2011-10-01|           MSNBC.com|0.005617977528089...|\n",
      "|2011-10-01|     SpaceRef Canada|0.005617977528089...|\n",
      "|2011-10-01|               Wired|0.016853932584269662|\n",
      "|2011-10-01|                 AFP| 0.02247191011235955|\n",
      "|2011-10-01|            ABC News|0.005617977528089...|\n",
      "|2011-10-01|         Denise Chow|0.005617977528089...|\n",
      "|2011-10-01|Los Angeles Daily...|0.005617977528089...|\n",
      "|2011-10-01|           ITAR-TASS|0.016853932584269662|\n",
      "|2011-10-01|          SpaceX.com|0.005617977528089...|\n",
      "|2011-10-01|     The Japan Times|0.005617977528089...|\n",
      "|2011-10-01|         VentureBeat|0.005617977528089...|\n",
      "|2011-10-01|     SpaceNews Staff|0.016853932584269662|\n",
      "|2011-10-01|  Spaceflightnow.com|0.011235955056179775|\n",
      "|2011-10-01|                WFTV|0.005617977528089...|\n",
      "|2011-10-01|            CBS News|0.011235955056179775|\n",
      "+----------+--------------------+--------------------+\n",
      "only showing top 20 rows\n",
      "\n"
     ]
    },
    {
     "name": "stderr",
     "output_type": "stream",
     "text": [
      "                                                                                \r"
     ]
    }
   ],
   "source": [
    "# Percentage of published articles by Author\n",
    "\n",
    "C.withColumn('Percentage', func.col('count')/func.col('Total')).select(\"Date\", \"Author\", \"Percentage\").show()"
   ]
  },
  {
   "cell_type": "code",
   "execution_count": null,
   "id": "7140a058",
   "metadata": {},
   "outputs": [],
   "source": []
  }
 ],
 "metadata": {
  "kernelspec": {
   "display_name": "Python 3 (ipykernel)",
   "language": "python",
   "name": "python3"
  },
  "language_info": {
   "codemirror_mode": {
    "name": "ipython",
    "version": 3
   },
   "file_extension": ".py",
   "mimetype": "text/x-python",
   "name": "python",
   "nbconvert_exporter": "python",
   "pygments_lexer": "ipython3",
   "version": "3.9.2"
  }
 },
 "nbformat": 4,
 "nbformat_minor": 5
}
