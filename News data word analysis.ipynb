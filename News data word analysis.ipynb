{
 "cells": [
  {
   "cell_type": "code",
   "execution_count": 1,
   "id": "108d74cd",
   "metadata": {},
   "outputs": [
    {
     "name": "stderr",
     "output_type": "stream",
     "text": [
      "23/11/21 10:40:14 WARN NativeCodeLoader: Unable to load native-hadoop library for your platform... using builtin-java classes where applicable\n",
      "Using Spark's default log4j profile: org/apache/spark/log4j-defaults.properties\n",
      "Setting default log level to \"WARN\".\n",
      "To adjust logging level use sc.setLogLevel(newLevel). For SparkR, use setLogLevel(newLevel).\n"
     ]
    }
   ],
   "source": [
    "from pyspark.sql import SparkSession\n",
    "\n",
    "spark = SparkSession.\\\n",
    "        builder.\\\n",
    "        appName(\"HM2-1\").\\\n",
    "        master(\"spark://spark-master:7077\").\\\n",
    "        config(\"spark.executor.memory\", \"2g\").\\\n",
    "        getOrCreate()"
   ]
  },
  {
   "cell_type": "code",
   "execution_count": 2,
   "id": "dc6627bb",
   "metadata": {},
   "outputs": [
    {
     "name": "stderr",
     "output_type": "stream",
     "text": [
      "/tmp/ipykernel_12/3720108920.py:8: FutureWarning: The argument 'date_parser' is deprecated and will be removed in a future version. Please use 'date_format' instead, or read your data in as 'object' dtype and then call 'to_datetime'.\n",
      "  news_data = pd.read_csv(\"https://archive.ics.uci.edu/ml/machine-learning-databases/00432/Data/News_Final.csv\", parse_dates=['PublishDate'], date_parser=custom_date_parser)\n"
     ]
    },
    {
     "data": {
      "text/html": [
       "<div>\n",
       "<style scoped>\n",
       "    .dataframe tbody tr th:only-of-type {\n",
       "        vertical-align: middle;\n",
       "    }\n",
       "\n",
       "    .dataframe tbody tr th {\n",
       "        vertical-align: top;\n",
       "    }\n",
       "\n",
       "    .dataframe thead th {\n",
       "        text-align: right;\n",
       "    }\n",
       "</style>\n",
       "<table border=\"1\" class=\"dataframe\">\n",
       "  <thead>\n",
       "    <tr style=\"text-align: right;\">\n",
       "      <th></th>\n",
       "      <th>IDLink</th>\n",
       "      <th>Title</th>\n",
       "      <th>Headline</th>\n",
       "      <th>Source</th>\n",
       "      <th>Topic</th>\n",
       "      <th>PublishDate</th>\n",
       "      <th>SentimentTitle</th>\n",
       "      <th>SentimentHeadline</th>\n",
       "      <th>Facebook</th>\n",
       "      <th>GooglePlus</th>\n",
       "      <th>LinkedIn</th>\n",
       "    </tr>\n",
       "  </thead>\n",
       "  <tbody>\n",
       "    <tr>\n",
       "      <th>0</th>\n",
       "      <td>99248.0</td>\n",
       "      <td>Obama Lays Wreath at Arlington National Cemetery</td>\n",
       "      <td>Obama Lays Wreath at Arlington National Cemete...</td>\n",
       "      <td>USA TODAY</td>\n",
       "      <td>obama</td>\n",
       "      <td>2002-04-02 00:00:00</td>\n",
       "      <td>0.000000</td>\n",
       "      <td>-0.053300</td>\n",
       "      <td>-1</td>\n",
       "      <td>-1</td>\n",
       "      <td>-1</td>\n",
       "    </tr>\n",
       "    <tr>\n",
       "      <th>1</th>\n",
       "      <td>10423.0</td>\n",
       "      <td>A Look at the Health of the Chinese Economy</td>\n",
       "      <td>Tim Haywood, investment director business-unit...</td>\n",
       "      <td>Bloomberg</td>\n",
       "      <td>economy</td>\n",
       "      <td>2008-09-20 00:00:00</td>\n",
       "      <td>0.208333</td>\n",
       "      <td>-0.156386</td>\n",
       "      <td>-1</td>\n",
       "      <td>-1</td>\n",
       "      <td>-1</td>\n",
       "    </tr>\n",
       "    <tr>\n",
       "      <th>2</th>\n",
       "      <td>18828.0</td>\n",
       "      <td>Nouriel Roubini: Global Economy Not Back to 2008</td>\n",
       "      <td>Nouriel Roubini, NYU professor and chairman at...</td>\n",
       "      <td>Bloomberg</td>\n",
       "      <td>economy</td>\n",
       "      <td>2012-01-28 00:00:00</td>\n",
       "      <td>-0.425210</td>\n",
       "      <td>0.139754</td>\n",
       "      <td>-1</td>\n",
       "      <td>-1</td>\n",
       "      <td>-1</td>\n",
       "    </tr>\n",
       "    <tr>\n",
       "      <th>3</th>\n",
       "      <td>27788.0</td>\n",
       "      <td>Finland GDP Expands In Q4</td>\n",
       "      <td>Finland's economy expanded marginally in the t...</td>\n",
       "      <td>RTT News</td>\n",
       "      <td>economy</td>\n",
       "      <td>2015-03-01 00:06:00</td>\n",
       "      <td>0.000000</td>\n",
       "      <td>0.026064</td>\n",
       "      <td>-1</td>\n",
       "      <td>-1</td>\n",
       "      <td>-1</td>\n",
       "    </tr>\n",
       "    <tr>\n",
       "      <th>4</th>\n",
       "      <td>27789.0</td>\n",
       "      <td>Tourism, govt spending buoys Thai economy in J...</td>\n",
       "      <td>Tourism and public spending continued to boost...</td>\n",
       "      <td>The Nation - Thailand&amp;#39;s English news</td>\n",
       "      <td>economy</td>\n",
       "      <td>2015-03-01 00:11:00</td>\n",
       "      <td>0.000000</td>\n",
       "      <td>0.141084</td>\n",
       "      <td>-1</td>\n",
       "      <td>-1</td>\n",
       "      <td>-1</td>\n",
       "    </tr>\n",
       "    <tr>\n",
       "      <th>...</th>\n",
       "      <td>...</td>\n",
       "      <td>...</td>\n",
       "      <td>...</td>\n",
       "      <td>...</td>\n",
       "      <td>...</td>\n",
       "      <td>...</td>\n",
       "      <td>...</td>\n",
       "      <td>...</td>\n",
       "      <td>...</td>\n",
       "      <td>...</td>\n",
       "      <td>...</td>\n",
       "    </tr>\n",
       "    <tr>\n",
       "      <th>93234</th>\n",
       "      <td>61851.0</td>\n",
       "      <td>Stocks rise as investors key in on US economy ...</td>\n",
       "      <td>The June employment report is viewed as a cruc...</td>\n",
       "      <td>MarketWatch</td>\n",
       "      <td>economy</td>\n",
       "      <td>2016-07-07 15:31:05</td>\n",
       "      <td>0.104284</td>\n",
       "      <td>0.044943</td>\n",
       "      <td>-1</td>\n",
       "      <td>3</td>\n",
       "      <td>5</td>\n",
       "    </tr>\n",
       "    <tr>\n",
       "      <th>93235</th>\n",
       "      <td>61865.0</td>\n",
       "      <td>Russian PM proposes to use conservative and to...</td>\n",
       "      <td>In addition, establish stimulating economic po...</td>\n",
       "      <td>TASS</td>\n",
       "      <td>economy</td>\n",
       "      <td>2016-07-07 15:31:10</td>\n",
       "      <td>0.072194</td>\n",
       "      <td>0.000000</td>\n",
       "      <td>-1</td>\n",
       "      <td>0</td>\n",
       "      <td>1</td>\n",
       "    </tr>\n",
       "    <tr>\n",
       "      <th>93236</th>\n",
       "      <td>104793.0</td>\n",
       "      <td>Palestinian Government Uses Foreign Aid To Pay...</td>\n",
       "      <td>The Palestinian government spends nearly $140 ...</td>\n",
       "      <td>Daily Caller</td>\n",
       "      <td>palestine</td>\n",
       "      <td>2016-07-07 15:38:26</td>\n",
       "      <td>0.291667</td>\n",
       "      <td>-0.139754</td>\n",
       "      <td>5</td>\n",
       "      <td>1</td>\n",
       "      <td>0</td>\n",
       "    </tr>\n",
       "    <tr>\n",
       "      <th>93237</th>\n",
       "      <td>104794.0</td>\n",
       "      <td>Palestine Youth Orchestra prepares for first U...</td>\n",
       "      <td>Palestine Youth Orchestra prepares for first U...</td>\n",
       "      <td>Ahram Online</td>\n",
       "      <td>palestine</td>\n",
       "      <td>2016-07-07 15:59:22</td>\n",
       "      <td>0.121534</td>\n",
       "      <td>0.092313</td>\n",
       "      <td>0</td>\n",
       "      <td>0</td>\n",
       "      <td>0</td>\n",
       "    </tr>\n",
       "    <tr>\n",
       "      <th>93238</th>\n",
       "      <td>61870.0</td>\n",
       "      <td>Sausalito businesswoman wins $10000 in Microso...</td>\n",
       "      <td>Goldstein, the proprietor of the TG Travel Gro...</td>\n",
       "      <td>East Bay Times</td>\n",
       "      <td>microsoft</td>\n",
       "      <td>2016-07-07 16:16:11</td>\n",
       "      <td>0.000000</td>\n",
       "      <td>0.054554</td>\n",
       "      <td>-1</td>\n",
       "      <td>1</td>\n",
       "      <td>0</td>\n",
       "    </tr>\n",
       "  </tbody>\n",
       "</table>\n",
       "<p>93239 rows × 11 columns</p>\n",
       "</div>"
      ],
      "text/plain": [
       "         IDLink                                              Title  \\\n",
       "0       99248.0   Obama Lays Wreath at Arlington National Cemetery   \n",
       "1       10423.0        A Look at the Health of the Chinese Economy   \n",
       "2       18828.0   Nouriel Roubini: Global Economy Not Back to 2008   \n",
       "3       27788.0                          Finland GDP Expands In Q4   \n",
       "4       27789.0  Tourism, govt spending buoys Thai economy in J...   \n",
       "...         ...                                                ...   \n",
       "93234   61851.0  Stocks rise as investors key in on US economy ...   \n",
       "93235   61865.0  Russian PM proposes to use conservative and to...   \n",
       "93236  104793.0  Palestinian Government Uses Foreign Aid To Pay...   \n",
       "93237  104794.0  Palestine Youth Orchestra prepares for first U...   \n",
       "93238   61870.0  Sausalito businesswoman wins $10000 in Microso...   \n",
       "\n",
       "                                                Headline  \\\n",
       "0      Obama Lays Wreath at Arlington National Cemete...   \n",
       "1      Tim Haywood, investment director business-unit...   \n",
       "2      Nouriel Roubini, NYU professor and chairman at...   \n",
       "3      Finland's economy expanded marginally in the t...   \n",
       "4      Tourism and public spending continued to boost...   \n",
       "...                                                  ...   \n",
       "93234  The June employment report is viewed as a cruc...   \n",
       "93235  In addition, establish stimulating economic po...   \n",
       "93236  The Palestinian government spends nearly $140 ...   \n",
       "93237  Palestine Youth Orchestra prepares for first U...   \n",
       "93238  Goldstein, the proprietor of the TG Travel Gro...   \n",
       "\n",
       "                                         Source      Topic  \\\n",
       "0                                     USA TODAY      obama   \n",
       "1                                     Bloomberg    economy   \n",
       "2                                     Bloomberg    economy   \n",
       "3                                      RTT News    economy   \n",
       "4      The Nation - Thailand&#39;s English news    economy   \n",
       "...                                         ...        ...   \n",
       "93234                               MarketWatch    economy   \n",
       "93235                                      TASS    economy   \n",
       "93236                              Daily Caller  palestine   \n",
       "93237                              Ahram Online  palestine   \n",
       "93238                            East Bay Times  microsoft   \n",
       "\n",
       "              PublishDate  SentimentTitle  SentimentHeadline  Facebook  \\\n",
       "0     2002-04-02 00:00:00        0.000000          -0.053300        -1   \n",
       "1     2008-09-20 00:00:00        0.208333          -0.156386        -1   \n",
       "2     2012-01-28 00:00:00       -0.425210           0.139754        -1   \n",
       "3     2015-03-01 00:06:00        0.000000           0.026064        -1   \n",
       "4     2015-03-01 00:11:00        0.000000           0.141084        -1   \n",
       "...                   ...             ...                ...       ...   \n",
       "93234 2016-07-07 15:31:05        0.104284           0.044943        -1   \n",
       "93235 2016-07-07 15:31:10        0.072194           0.000000        -1   \n",
       "93236 2016-07-07 15:38:26        0.291667          -0.139754         5   \n",
       "93237 2016-07-07 15:59:22        0.121534           0.092313         0   \n",
       "93238 2016-07-07 16:16:11        0.000000           0.054554        -1   \n",
       "\n",
       "       GooglePlus  LinkedIn  \n",
       "0              -1        -1  \n",
       "1              -1        -1  \n",
       "2              -1        -1  \n",
       "3              -1        -1  \n",
       "4              -1        -1  \n",
       "...           ...       ...  \n",
       "93234           3         5  \n",
       "93235           0         1  \n",
       "93236           1         0  \n",
       "93237           0         0  \n",
       "93238           1         0  \n",
       "\n",
       "[93239 rows x 11 columns]"
      ]
     },
     "metadata": {},
     "output_type": "display_data"
    }
   ],
   "source": [
    "from pyspark import SparkFiles\n",
    "from pyspark.sql.types import *\n",
    "from datetime import datetime\n",
    "import pandas as pd\n",
    "\n",
    "custom_date_parser = lambda x: datetime.strptime(x, \"%Y-%m-%d %H:%M:%S\")\n",
    "\n",
    "news_data = pd.read_csv(\"https://archive.ics.uci.edu/ml/machine-learning-databases/00432/Data/News_Final.csv\", parse_dates=['PublishDate'], date_parser=custom_date_parser)\n",
    "display(news_data)"
   ]
  },
  {
   "cell_type": "code",
   "execution_count": 3,
   "id": "a8b912ac",
   "metadata": {},
   "outputs": [
    {
     "name": "stderr",
     "output_type": "stream",
     "text": [
      "/usr/local/lib/python3.9/dist-packages/pyspark/sql/pandas/types.py:238: FutureWarning: is_datetime64tz_dtype is deprecated and will be removed in a future version. Check `isinstance(dtype, pd.DatetimeTZDtype)` instead.\n",
      "  if is_datetime64tz_dtype(s.dtype):\n",
      "23/11/21 10:40:38 WARN TaskSetManager: Stage 0 contains a task of very large size (6245 KiB). The maximum recommended task size is 1000 KiB.\n",
      "[Stage 0:>                                                          (0 + 1) / 1]\r"
     ]
    },
    {
     "name": "stdout",
     "output_type": "stream",
     "text": [
      "+-------+--------------------+--------------------+--------------------+---------+-------------------+--------------+-----------------+--------+----------+--------+\n",
      "| IDLink|               Title|            Headline|              Source|    Topic|        PublishDate|SentimentTitle|SentimentHeadline|Facebook|GooglePlus|LinkedIn|\n",
      "+-------+--------------------+--------------------+--------------------+---------+-------------------+--------------+-----------------+--------+----------+--------+\n",
      "|99248.0|Obama Lays Wreath...|Obama Lays Wreath...|           USA TODAY|    obama|2002-04-02 00:00:00|           0.0|      -0.05330018|      -1|        -1|      -1|\n",
      "|10423.0|A Look at the Hea...|Tim Haywood, inve...|           Bloomberg|  economy|2008-09-20 00:00:00|    0.20833333|      -0.15638581|      -1|        -1|      -1|\n",
      "|18828.0|Nouriel Roubini: ...|Nouriel Roubini, ...|           Bloomberg|  economy|2012-01-28 00:00:00|   -0.42521003|       0.13975425|      -1|        -1|      -1|\n",
      "|27788.0|Finland GDP Expan...|Finland's economy...|            RTT News|  economy|2015-03-01 00:06:00|           0.0|        0.0260643|      -1|        -1|      -1|\n",
      "|27789.0|Tourism, govt spe...|Tourism and publi...|The Nation - Thai...|  economy|2015-03-01 00:11:00|           0.0|       0.14108446|      -1|        -1|      -1|\n",
      "|27790.0|Intellitec Soluti...|Over 100 attendee...|               PRWeb|microsoft|2015-03-01 00:19:00|   -0.07537784|      0.036772795|      -1|        -1|      -1|\n",
      "|80690.0| Monday, 29 Feb 2016|RAMALLAH, Februar...|                 NaN|palestine|2016-02-28 14:03:00|           0.0|     -0.005905695|       0|         0|       0|\n",
      "|80762.0|Obama, stars pay ...|First lady Michel...|      Coast Reporter|    obama|2015-03-01 00:45:00|   0.083333336|       0.10300276|      -1|        -1|      -1|\n",
      "|80771.0|Fire claims more ...|A Hancock County ...|   WTHR Indianapolis|palestine|2015-03-01 01:20:00|   -0.17392527|     -0.050184693|      -1|        -1|      -1|\n",
      "|27803.0|Microsoft's new W...|New Delhi, Feb.29...|          New Kerala|microsoft|2015-03-01 01:32:00|  -0.059536207|     -0.081715055|      -1|        -1|      -1|\n",
      "+-------+--------------------+--------------------+--------------------+---------+-------------------+--------------+-----------------+--------+----------+--------+\n",
      "only showing top 10 rows\n",
      "\n"
     ]
    },
    {
     "name": "stderr",
     "output_type": "stream",
     "text": [
      "                                                                                \r"
     ]
    }
   ],
   "source": [
    "news_data_schema = StructType([StructField(\"IDLink\", FloatType(), True)\\\n",
    "                               ,StructField(\"Title\", StringType(), True)\\\n",
    "                               ,StructField(\"Headline\", StringType(), True)\\\n",
    "                               ,StructField(\"Source\", StringType(), True)\\\n",
    "                               ,StructField(\"Topic\", StringType(), True)\\\n",
    "                               ,StructField(\"PublishDate\", TimestampType(), True)\\\n",
    "                               ,StructField(\"SentimentTitle\", FloatType(), True)\\\n",
    "                               ,StructField(\"SentimentHeadline\", FloatType(), True)\\\n",
    "                               ,StructField(\"Facebook\", IntegerType(), True)\\\n",
    "                               ,StructField(\"GooglePlus\", IntegerType(), True)\\\n",
    "                               ,StructField(\"LinkedIn\", IntegerType(), True)])\n",
    "\n",
    "news_data = spark.createDataFrame(news_data, schema = news_data_schema)\n",
    "news_data.show(n=10)"
   ]
  },
  {
   "cell_type": "code",
   "execution_count": 4,
   "id": "b318dc70",
   "metadata": {},
   "outputs": [
    {
     "name": "stderr",
     "output_type": "stream",
     "text": [
      "23/11/21 10:40:42 WARN TaskSetManager: Stage 1 contains a task of very large size (6245 KiB). The maximum recommended task size is 1000 KiB.\n"
     ]
    },
    {
     "name": "stdout",
     "output_type": "stream",
     "text": [
      "+---------------------------------------------------+\n",
      "|Title                                              |\n",
      "+---------------------------------------------------+\n",
      "|obama lays wreath at arlington national cemetery   |\n",
      "|a look at the health of the chinese economy        |\n",
      "|nouriel roubini global economy not back to 2008    |\n",
      "|finland gdp expands in q4                          |\n",
      "|tourism govt spending buoys thai economy in january|\n",
      "+---------------------------------------------------+\n",
      "only showing top 5 rows\n",
      "\n"
     ]
    }
   ],
   "source": [
    "import string\n",
    "import re\n",
    "import pyspark.sql.functions as func\n",
    "\n",
    "#Remove punctuations and extra white space\n",
    "def remove_punctuations(text):\n",
    "    text = text.lower()\n",
    "    text = re.sub(r'[^A-Za-z0-9]+', ' ', text)\n",
    "    text = re.sub(\"\\s+\", \" \", text)\n",
    "    text = text.strip()\n",
    "    return text\n",
    "\n",
    "udf_remove_punctuations = func.udf(lambda x:remove_punctuations(x),StringType())\n",
    "news_data = news_data.withColumn('Headline', udf_remove_punctuations(func.col('Headline')))\n",
    "news_data = news_data.withColumn('Title', udf_remove_punctuations(func.col('Title')))\n",
    "news_data.select('Title').show(5, False)"
   ]
  },
  {
   "cell_type": "markdown",
   "id": "75de5ba2",
   "metadata": {},
   "source": [
    "#### Words count in two fields: ‘Title’ and ‘Headline’ respectively and list of the most frequent words according to the term frequency in descending order, in total, per day, and per topic, respectively"
   ]
  },
  {
   "cell_type": "code",
   "execution_count": 5,
   "id": "807507b6",
   "metadata": {},
   "outputs": [
    {
     "name": "stderr",
     "output_type": "stream",
     "text": [
      "23/11/21 10:40:43 WARN TaskSetManager: Stage 2 contains a task of very large size (6245 KiB). The maximum recommended task size is 1000 KiB.\n",
      "[Stage 3:===============================================>       (173 + 4) / 200]\r"
     ]
    },
    {
     "name": "stdout",
     "output_type": "stream",
     "text": [
      "+---------+-----+\n",
      "|word     |count|\n",
      "+---------+-----+\n",
      "|obama    |27990|\n",
      "|to       |27545|\n",
      "|economy  |26710|\n",
      "|s        |23111|\n",
      "|microsoft|20690|\n",
      "|the      |17785|\n",
      "|in       |16007|\n",
      "|for      |12514|\n",
      "|of       |11463|\n",
      "|on       |10791|\n",
      "|and      |7833 |\n",
      "|a        |7721 |\n",
      "|is       |6669 |\n",
      "|with     |5425 |\n",
      "|palestine|4525 |\n",
      "|as       |4231 |\n",
      "|us       |3873 |\n",
      "|new      |3778 |\n",
      "|says     |3522 |\n",
      "|at       |3521 |\n",
      "+---------+-----+\n",
      "only showing top 20 rows\n",
      "\n"
     ]
    },
    {
     "name": "stderr",
     "output_type": "stream",
     "text": [
      "                                                                                \r"
     ]
    }
   ],
   "source": [
    "#Most frequent words in total for the column Title\n",
    "\n",
    "news_data.withColumn('word', func.explode(func.split(func.col('Title'), ' ')))\\\n",
    "    .groupBy('word')\\\n",
    "    .count()\\\n",
    "    .sort('count', ascending=False)\\\n",
    "    .show(20, False)"
   ]
  },
  {
   "cell_type": "code",
   "execution_count": 6,
   "id": "b07a822b",
   "metadata": {},
   "outputs": [
    {
     "name": "stderr",
     "output_type": "stream",
     "text": [
      "23/11/21 10:40:54 WARN TaskSetManager: Stage 4 contains a task of very large size (6245 KiB). The maximum recommended task size is 1000 KiB.\n",
      "[Stage 5:=====================================================> (193 + 4) / 200]\r"
     ]
    },
    {
     "name": "stdout",
     "output_type": "stream",
     "text": [
      "+----------+---------+-----+\n",
      "|day       |word     |count|\n",
      "+----------+---------+-----+\n",
      "|2016-06-13|microsoft|314  |\n",
      "|2016-01-12|obama    |287  |\n",
      "|2016-03-10|obama    |266  |\n",
      "|2016-03-16|obama    |255  |\n",
      "|2016-01-13|obama    |255  |\n",
      "|2015-12-18|obama    |252  |\n",
      "|2016-06-13|to       |239  |\n",
      "|2016-02-09|obama    |233  |\n",
      "|2016-03-16|to       |229  |\n",
      "|2016-01-12|to       |211  |\n",
      "|2015-11-24|obama    |211  |\n",
      "|2016-01-05|obama    |208  |\n",
      "|2016-01-12|the      |207  |\n",
      "|2016-01-13|s        |203  |\n",
      "|2015-12-01|obama    |202  |\n",
      "|2016-03-15|obama    |201  |\n",
      "|2016-01-28|microsoft|200  |\n",
      "|2016-03-30|microsoft|200  |\n",
      "|2016-03-10|to       |200  |\n",
      "|2016-03-30|to       |198  |\n",
      "+----------+---------+-----+\n",
      "only showing top 20 rows\n",
      "\n"
     ]
    },
    {
     "name": "stderr",
     "output_type": "stream",
     "text": [
      "                                                                                \r"
     ]
    }
   ],
   "source": [
    "#Most frequent words per day in the column Title\n",
    "\n",
    "news_data.withColumn('word', func.explode(func.split(func.col('Title'), ' ')))\\\n",
    "    .groupBy(func.date_format('PublishDate','yyyy-MM-dd').alias('day'), 'word')\\\n",
    "    .count()\\\n",
    "    .sort('count', ascending=False)\\\n",
    "    .show(20, False)"
   ]
  },
  {
   "cell_type": "code",
   "execution_count": 7,
   "id": "2254d9de",
   "metadata": {},
   "outputs": [
    {
     "name": "stderr",
     "output_type": "stream",
     "text": [
      "23/11/21 10:40:59 WARN TaskSetManager: Stage 6 contains a task of very large size (6245 KiB). The maximum recommended task size is 1000 KiB.\n",
      "[Stage 7:================================================>      (175 + 6) / 200]\r"
     ]
    },
    {
     "name": "stdout",
     "output_type": "stream",
     "text": [
      "+---------+---------+-----+\n",
      "|Topic    |word     |count|\n",
      "+---------+---------+-----+\n",
      "|obama    |obama    |27547|\n",
      "|economy  |economy  |26586|\n",
      "|microsoft|microsoft|20677|\n",
      "|obama    |to       |10275|\n",
      "|economy  |s        |9112 |\n",
      "|economy  |the      |8983 |\n",
      "|economy  |to       |8850 |\n",
      "|obama    |s        |8139 |\n",
      "|economy  |in       |6881 |\n",
      "|microsoft|to       |6319 |\n",
      "|microsoft|s        |4815 |\n",
      "|palestine|palestine|4523 |\n",
      "|obama    |the      |4141 |\n",
      "|obama    |in       |4096 |\n",
      "|economy  |of       |4065 |\n",
      "|obama    |on       |4045 |\n",
      "|economy  |for      |3986 |\n",
      "|obama    |for      |3727 |\n",
      "|economy  |on       |3717 |\n",
      "|microsoft|for      |3671 |\n",
      "+---------+---------+-----+\n",
      "only showing top 20 rows\n",
      "\n"
     ]
    },
    {
     "name": "stderr",
     "output_type": "stream",
     "text": [
      "                                                                                \r"
     ]
    }
   ],
   "source": [
    "#Most frequent words per Topic in the column Title\n",
    "\n",
    "news_data.withColumn('word', func.explode(func.split(func.col('Title'), ' ')))\\\n",
    "    .groupBy('Topic', 'word')\\\n",
    "    .count()\\\n",
    "    .sort('count', ascending=False)\\\n",
    "    .show(20, False)"
   ]
  },
  {
   "cell_type": "code",
   "execution_count": 8,
   "id": "64eb672f",
   "metadata": {},
   "outputs": [
    {
     "name": "stderr",
     "output_type": "stream",
     "text": [
      "23/11/21 10:41:02 WARN TaskSetManager: Stage 8 contains a task of very large size (6245 KiB). The maximum recommended task size is 1000 KiB.\n",
      "[Stage 9:============================================>          (162 + 4) / 200]\r"
     ]
    },
    {
     "name": "stdout",
     "output_type": "stream",
     "text": [
      "+---------+------+\n",
      "|word     |count |\n",
      "+---------+------+\n",
      "|the      |155341|\n",
      "|to       |69878 |\n",
      "|of       |61664 |\n",
      "|a        |60868 |\n",
      "|in       |54624 |\n",
      "|and      |48534 |\n",
      "|s        |46430 |\n",
      "|obama    |30900 |\n",
      "|on       |30160 |\n",
      "|is       |26907 |\n",
      "|economy  |26342 |\n",
      "|for      |26016 |\n",
      "|that     |24912 |\n",
      "|microsoft|24852 |\n",
      "|president|23364 |\n",
      "|has      |17011 |\n",
      "|with     |16510 |\n",
      "|quot     |16024 |\n",
      "|as       |15614 |\n",
      "|it       |14513 |\n",
      "+---------+------+\n",
      "only showing top 20 rows\n",
      "\n"
     ]
    },
    {
     "name": "stderr",
     "output_type": "stream",
     "text": [
      "                                                                                \r"
     ]
    }
   ],
   "source": [
    "#Most frequent words in total for the column Headline\n",
    "\n",
    "news_data.withColumn('word', func.explode(func.split(func.col('Headline'), ' ')))\\\n",
    "    .groupBy('word')\\\n",
    "    .count()\\\n",
    "    .sort('count', ascending=False)\\\n",
    "    .show(20, False)"
   ]
  },
  {
   "cell_type": "code",
   "execution_count": 9,
   "id": "156c99b0",
   "metadata": {},
   "outputs": [
    {
     "name": "stderr",
     "output_type": "stream",
     "text": [
      "23/11/21 10:41:06 WARN TaskSetManager: Stage 10 contains a task of very large size (6245 KiB). The maximum recommended task size is 1000 KiB.\n",
      "[Stage 11:============================================>         (164 + 4) / 200]\r"
     ]
    },
    {
     "name": "stdout",
     "output_type": "stream",
     "text": [
      "+----------+----+-----+\n",
      "|day       |word|count|\n",
      "+----------+----+-----+\n",
      "|2016-04-14|the |1199 |\n",
      "|2016-01-12|the |1177 |\n",
      "|2015-12-01|the |1127 |\n",
      "|2016-06-13|the |1105 |\n",
      "|2015-11-24|the |1100 |\n",
      "|2016-03-10|the |1088 |\n",
      "|2016-01-13|the |1085 |\n",
      "|2016-03-16|the |1076 |\n",
      "|2016-06-24|the |1056 |\n",
      "|2016-01-28|the |1013 |\n",
      "|2016-03-15|the |990  |\n",
      "|2015-11-30|the |973  |\n",
      "|2016-03-01|the |958  |\n",
      "|2016-01-19|the |942  |\n",
      "|2015-12-22|the |935  |\n",
      "|2016-03-31|the |932  |\n",
      "|2016-01-05|the |929  |\n",
      "|2016-04-28|the |921  |\n",
      "|2016-05-31|the |914  |\n",
      "|2016-03-30|the |910  |\n",
      "+----------+----+-----+\n",
      "only showing top 20 rows\n",
      "\n"
     ]
    },
    {
     "name": "stderr",
     "output_type": "stream",
     "text": [
      "                                                                                \r"
     ]
    }
   ],
   "source": [
    "#Most frequent words per day in the column Headline\n",
    "\n",
    "news_data.withColumn('word', func.explode(func.split(func.col('Headline'), ' ')))\\\n",
    "    .groupBy(func.date_format('PublishDate','yyyy-MM-dd').alias('day'), 'word')\\\n",
    "    .count()\\\n",
    "    .sort('count', ascending=False)\\\n",
    "    .show(20, False)"
   ]
  },
  {
   "cell_type": "code",
   "execution_count": 10,
   "id": "37ad5a18",
   "metadata": {},
   "outputs": [
    {
     "name": "stderr",
     "output_type": "stream",
     "text": [
      "23/11/21 10:41:11 WARN TaskSetManager: Stage 12 contains a task of very large size (6245 KiB). The maximum recommended task size is 1000 KiB.\n",
      "[Stage 13:===========================================>          (160 + 4) / 200]\r"
     ]
    },
    {
     "name": "stdout",
     "output_type": "stream",
     "text": [
      "+---------+---------+-----+\n",
      "|Topic    |word     |count|\n",
      "+---------+---------+-----+\n",
      "|economy  |the      |67182|\n",
      "|obama    |the      |43426|\n",
      "|obama    |obama    |30422|\n",
      "|microsoft|the      |30135|\n",
      "|economy  |economy  |26041|\n",
      "|microsoft|microsoft|24836|\n",
      "|obama    |to       |24426|\n",
      "|economy  |of       |23387|\n",
      "|economy  |in       |22674|\n",
      "|economy  |to       |22444|\n",
      "|obama    |president|21149|\n",
      "|economy  |a        |20981|\n",
      "|economy  |s        |19165|\n",
      "|obama    |a        |18466|\n",
      "|economy  |and      |18046|\n",
      "|microsoft|to       |17561|\n",
      "|obama    |of       |17405|\n",
      "|obama    |in       |16273|\n",
      "|microsoft|a        |15202|\n",
      "|obama    |s        |14994|\n",
      "+---------+---------+-----+\n",
      "only showing top 20 rows\n",
      "\n"
     ]
    },
    {
     "name": "stderr",
     "output_type": "stream",
     "text": [
      "                                                                                \r"
     ]
    }
   ],
   "source": [
    "#Most frequent words per Topic in the column Headline\n",
    "\n",
    "news_data.withColumn('word', func.explode(func.split(func.col('Headline'), ' ')))\\\n",
    "    .groupBy('Topic', 'word')\\\n",
    "    .count()\\\n",
    "    .sort('count', ascending=False)\\\n",
    "    .show(20, False)"
   ]
  },
  {
   "cell_type": "markdown",
   "id": "a520a0a4",
   "metadata": {},
   "source": [
    "#### Sum and average sentiment score of each topic, respectively"
   ]
  },
  {
   "cell_type": "code",
   "execution_count": 11,
   "id": "6309c386",
   "metadata": {},
   "outputs": [
    {
     "name": "stderr",
     "output_type": "stream",
     "text": [
      "23/11/21 10:41:14 WARN TaskSetManager: Stage 14 contains a task of very large size (6245 KiB). The maximum recommended task size is 1000 KiB.\n"
     ]
    },
    {
     "name": "stdout",
     "output_type": "stream",
     "text": [
      "+---------+-------------------+--------------------+\n",
      "|    Topic|sum(SentimentTitle)| avg(SentimentTitle)|\n",
      "+---------+-------------------+--------------------+\n",
      "|microsoft|  51.56650673694094|0.002359159426157...|\n",
      "|  economy|-350.89723831791343|-0.01034240858046...|\n",
      "|    obama|-27.604435646469938|-9.64852696486191...|\n",
      "|palestine|-177.61514392797835|-0.02008539454121...|\n",
      "+---------+-------------------+--------------------+\n",
      "\n"
     ]
    }
   ],
   "source": [
    "#Sum and average sentiment of each topic\n",
    "news_data.groupBy('Topic').agg(func.sum(news_data.SentimentTitle ),func.avg(news_data.SentimentTitle)).show()"
   ]
  },
  {
   "cell_type": "markdown",
   "id": "b7b3440d",
   "metadata": {},
   "source": [
    "#### Top-100 frequent words and their co-occurrence matrices (100x100), per topic in titles and headlines respectively. Each entry in the matrix contain the co-occurrence frequency in all news titles and headlines, respectively."
   ]
  },
  {
   "cell_type": "code",
   "execution_count": 12,
   "id": "1a2e5734",
   "metadata": {},
   "outputs": [
    {
     "name": "stderr",
     "output_type": "stream",
     "text": [
      "23/11/21 10:41:16 WARN TaskSetManager: Stage 24 contains a task of very large size (6245 KiB). The maximum recommended task size is 1000 KiB.\n",
      "23/11/21 10:41:18 WARN TaskSetManager: Stage 26 contains a task of very large size (6245 KiB). The maximum recommended task size is 1000 KiB.\n"
     ]
    },
    {
     "name": "stdout",
     "output_type": "stream",
     "text": [
      "+---------+-----+\n",
      "|     word|count|\n",
      "+---------+-----+\n",
      "|    obama|27990|\n",
      "|       to|27545|\n",
      "|  economy|26710|\n",
      "|        s|23111|\n",
      "|microsoft|20690|\n",
      "|      the|17785|\n",
      "|       in|16007|\n",
      "|      for|12514|\n",
      "|       of|11463|\n",
      "|       on|10791|\n",
      "|      and| 7833|\n",
      "|        a| 7721|\n",
      "|       is| 6669|\n",
      "|     with| 5425|\n",
      "|palestine| 4525|\n",
      "|       as| 4231|\n",
      "|       us| 3873|\n",
      "|      new| 3778|\n",
      "|     says| 3522|\n",
      "|       at| 3521|\n",
      "+---------+-----+\n",
      "only showing top 20 rows\n",
      "\n"
     ]
    },
    {
     "name": "stderr",
     "output_type": "stream",
     "text": [
      "                                                                                \r"
     ]
    },
    {
     "data": {
      "text/plain": [
       "[Row(word='obama'),\n",
       " Row(word='to'),\n",
       " Row(word='economy'),\n",
       " Row(word='s'),\n",
       " Row(word='microsoft'),\n",
       " Row(word='the'),\n",
       " Row(word='in'),\n",
       " Row(word='for'),\n",
       " Row(word='of'),\n",
       " Row(word='on'),\n",
       " Row(word='and'),\n",
       " Row(word='a'),\n",
       " Row(word='is'),\n",
       " Row(word='with'),\n",
       " Row(word='palestine'),\n",
       " Row(word='as'),\n",
       " Row(word='us'),\n",
       " Row(word='new'),\n",
       " Row(word='says'),\n",
       " Row(word='at'),\n",
       " Row(word='president'),\n",
       " Row(word='will'),\n",
       " Row(word='economic'),\n",
       " Row(word='china'),\n",
       " Row(word='windows'),\n",
       " Row(word='2016'),\n",
       " Row(word='10'),\n",
       " Row(word='from'),\n",
       " Row(word='global'),\n",
       " Row(word='by'),\n",
       " Row(word='t'),\n",
       " Row(word='trump'),\n",
       " Row(word='be'),\n",
       " Row(word='about'),\n",
       " Row(word='up'),\n",
       " Row(word='growth'),\n",
       " Row(word='not'),\n",
       " Row(word='how'),\n",
       " Row(word='it'),\n",
       " Row(word='over'),\n",
       " Row(word='more'),\n",
       " Row(word='palestinian'),\n",
       " Row(word='israel'),\n",
       " Row(word='after'),\n",
       " Row(word='its'),\n",
       " Row(word='are'),\n",
       " Row(word='state'),\n",
       " Row(word='world'),\n",
       " Row(word='what'),\n",
       " Row(word='why'),\n",
       " Row(word='has'),\n",
       " Row(word='but'),\n",
       " Row(word='can'),\n",
       " Row(word='one'),\n",
       " Row(word='could'),\n",
       " Row(word='year'),\n",
       " Row(word='brexit'),\n",
       " Row(word='first'),\n",
       " Row(word='barack'),\n",
       " Row(word='uk'),\n",
       " Row(word='xbox'),\n",
       " Row(word='surface'),\n",
       " Row(word='clinton'),\n",
       " Row(word='that'),\n",
       " Row(word='quot'),\n",
       " Row(word='u'),\n",
       " Row(word='this'),\n",
       " Row(word='you'),\n",
       " Row(word='visit'),\n",
       " Row(word='out'),\n",
       " Row(word='an'),\n",
       " Row(word='than'),\n",
       " Row(word='1'),\n",
       " Row(word='2'),\n",
       " Row(word='cloud'),\n",
       " Row(word='court'),\n",
       " Row(word='data'),\n",
       " Row(word='may'),\n",
       " Row(word='house'),\n",
       " Row(word='4'),\n",
       " Row(word='no'),\n",
       " Row(word='boost'),\n",
       " Row(word='his'),\n",
       " Row(word='into'),\n",
       " Row(word='oil'),\n",
       " Row(word='plan'),\n",
       " Row(word='india'),\n",
       " Row(word='business'),\n",
       " Row(word='white'),\n",
       " Row(word='2015'),\n",
       " Row(word='5'),\n",
       " Row(word='now'),\n",
       " Row(word='office'),\n",
       " Row(word='report'),\n",
       " Row(word='bank'),\n",
       " Row(word='support'),\n",
       " Row(word='3'),\n",
       " Row(word='administration'),\n",
       " Row(word='quarter'),\n",
       " Row(word='gun')]"
      ]
     },
     "execution_count": 12,
     "metadata": {},
     "output_type": "execute_result"
    }
   ],
   "source": [
    "#Most frequent words in total for the column Title\n",
    "f = news_data.withColumn('word', func.explode(func.split(func.col('Title'), ' ')))\\\n",
    "    .groupBy('word')\\\n",
    "    .count()\\\n",
    "    .sort('count', ascending=False)\n",
    "f.show()\n",
    "\n",
    "f.select('word').head(100)"
   ]
  },
  {
   "cell_type": "code",
   "execution_count": 15,
   "id": "872c528f",
   "metadata": {},
   "outputs": [],
   "source": [
    "from pyspark.sql.functions import row_number,lit\n",
    "from pyspark.sql.window import Window\n",
    "\n",
    "def cooccurrence(topic, column, n):\n",
    "    top_n = news_data[news_data[\"Topic\"] == topic].withColumn('word', func.explode(func.split(func.col(column), ' ')))\\\n",
    "        .groupBy('word')\\\n",
    "        .count()\\\n",
    "        .sort('count', ascending=False)\\\n",
    "        .limit(n)\n",
    "    top_n = list(top_n.select(top_n.word).toPandas()['word'])\n",
    "    \n",
    "    long = news_data[news_data[\"Topic\"] == topic].withColumn(\"id\", func.monotonically_increasing_id())\\\n",
    "    .select(\"id\", func.explode(func.split(func.col(column), ' ')))\n",
    "    #long.show()\n",
    "    \n",
    "    long1 = long.filter(long.col.isin(top_n))\n",
    "    #long1.show()\n",
    "    #print(long1.count())\n",
    "    \n",
    "    long1.filter(long1.col.isin(top_n)).withColumnRenamed(\"col\", \"col_\")\\\n",
    "        .join(long1, [\"id\"])\\\n",
    "        .stat.crosstab(\"col_\", \"col\")\\\n",
    "        .show()\n",
    "    "
   ]
  },
  {
   "cell_type": "code",
   "execution_count": 16,
   "id": "eb4be7f0",
   "metadata": {},
   "outputs": [
    {
     "name": "stderr",
     "output_type": "stream",
     "text": [
      "23/11/21 10:42:23 WARN TaskSetManager: Stage 30 contains a task of very large size (6245 KiB). The maximum recommended task size is 1000 KiB.\n",
      "23/11/21 10:42:26 WARN TaskSetManager: Stage 32 contains a task of very large size (6245 KiB). The maximum recommended task size is 1000 KiB.\n",
      "23/11/21 10:42:27 WARN TaskSetManager: Stage 33 contains a task of very large size (6245 KiB). The maximum recommended task size is 1000 KiB.\n",
      "                                                                                \r"
     ]
    },
    {
     "name": "stdout",
     "output_type": "stream",
     "text": [
      "+---------+----+---------+----+----+----+\n",
      "| col__col| for|microsoft|   s| the|  to|\n",
      "+---------+----+---------+----+----+----+\n",
      "|      for|3831|     3499| 651| 609| 638|\n",
      "|        s| 651|     4621|5473| 796|1121|\n",
      "|       to| 638|     6032|1121| 835|7463|\n",
      "|microsoft|3499|    21011|4621|3092|6032|\n",
      "|      the| 609|     3092| 796|3876| 835|\n",
      "+---------+----+---------+----+----+----+\n",
      "\n"
     ]
    }
   ],
   "source": [
    "cooccurrence(\"microsoft\",\"Title\", 5)"
   ]
  },
  {
   "cell_type": "code",
   "execution_count": 17,
   "id": "c28f0059",
   "metadata": {},
   "outputs": [
    {
     "name": "stderr",
     "output_type": "stream",
     "text": [
      "23/11/21 10:42:37 WARN TaskSetManager: Stage 52 contains a task of very large size (6245 KiB). The maximum recommended task size is 1000 KiB.\n",
      "23/11/21 10:42:41 WARN TaskSetManager: Stage 54 contains a task of very large size (6245 KiB). The maximum recommended task size is 1000 KiB.\n",
      "23/11/21 10:42:42 WARN TaskSetManager: Stage 55 contains a task of very large size (6245 KiB). The maximum recommended task size is 1000 KiB.\n",
      "23/11/21 10:42:52 WARN package: Truncated the string representation of a plan since it was too large. This behavior can be adjusted by setting 'spark.sql.debug.maxToStringFields'.\n"
     ]
    },
    {
     "name": "stdout",
     "output_type": "stream",
     "text": [
      "+--------+---+---+---+----+---+---+---+---+---+-----+-----+------+---+---+-------+---------+---+-----+----+---+---+---+-----+----+---+---+-----+--------+---+---+---+---+-----+-----------+-------+----+----+--------+-----+----+----+----+------+---+----+--------+---+----+----+---+----+---+---+--------+--------+-----+---------+------+----+----+-------+---+---+---+---+------+---+---+----+---+----+---+-----+---+----+----+----+--------+-----+-----+-------+-------+---+----+----+---+----+----+---+------+-------+-----+----+---+----+-------+----+----+---+----+\n",
      "|col__col|  1| 10|  2|2016|  3|365|  4|  5|  a|about|after|amazon| an|and|android|announces|app|apple|apps|are| as| at|azure|band| be|big|build|business|but| by|can|ceo|cloud|corporation|cortana|data|edge|facebook|first| for|free|from|google|has|here|hololens|how|  in|into|ios|  is| it|its|launches|linkedin|lumia|microsoft|mobile|more|msft|nadella|new|now| of|off|office| on|one|open|out|over| pc|phone|pro|quot|   s|says|security|skype|store|support|surface|  t|tech|that|the|this|  to| up|update|upgrade|users|what|why|will|windows|with|xbox|you|your|\n",
      "+--------+---+---+---+----+---+---+---+---+---+-----+-----+------+---+---+-------+---------+---+-----+----+---+---+---+-----+----+---+---+-----+--------+---+---+---+---+-----+-----------+-------+----+----+--------+-----+----+----+----+------+---+----+--------+---+----+----+---+----+---+---+--------+--------+-----+---------+------+----+----+-------+---+---+---+---+------+---+---+----+---+----+---+-----+---+----+----+----+--------+-----+-----+-------+-------+---+----+----+---+----+----+---+------+-------+-----+----+---+----+-------+----+----+---+----+\n",
      "| cortana|  3| 41| 12|   0|  0|  0|  1|  2| 18|    3|    6|     1|  4| 68|     47|        0| 14|   11|   2| 21| 11|  3|    2|  14|  2|  2|    7|       3|  6|  4|  6|  3|    0|          0|    282|   8|  21|       0|    3|  70|   0|  10|    13| 17|  21|       4|  8|  42|   2| 37|  23|  3| 25|      12|       0|    0|      260|     7|   7|   1|      8| 18| 24| 19|  1|     1| 48|  9|   0| 10|   2|  2|    0|  0|   2| 101|   0|       0|    3|    0|      7|      1|  4|   1|   1| 36|   5|  80|  7|     9|      0|    4|   4|  8|  16|     36|  30|   9| 19|   7|\n",
      "|     for| 43|389|135| 129| 55| 87| 55| 40|411|   21|   29|    42| 72|445|    143|       79|184|   76| 115| 70| 67| 71|   78|  78| 63| 46|   46|     171| 43| 40| 37| 25|  165|         70|     70| 106|  55|      35|   70|3831| 100|  49|    85| 77|  52|      95| 35| 385|  19|150| 323|111|166|      93|     148|   84|     3499|    91|  64|  72|     30|297|120|227| 37|   228|223|137|  47| 95|  34| 52|   48| 80|  20| 651|  41|      38|  150|   44|    195|    174| 31|  36|  19|609|  48| 638|103|   105|     57|  107|  57| 41|  65|    513| 259| 224| 80|  84|\n",
      "|       s| 58|416| 59| 133| 44| 58| 83| 58|599|   87|   60|    59| 89|556|     90|       17|218|  236|  64|131|113|190|  129|  29|141| 81|   53|      78| 86| 62|141| 93|  204|         99|    101| 121|  98|      50|  103| 651|  57| 130|   189| 98| 290|     181|193| 581|  74| 67| 612|302|127|      15|      79|   82|     4621|   123|  86|  94|    109|454|147|569| 65|   100|452|248|  45| 87|  45| 78|  127|140|  61|5473|  63|      33|   43|   29|     56|    318|116|  79| 106|796|  86|1121|112|    89|     64|   70| 183|166| 206|    580| 352| 298|191| 174|\n",
      "|business|  8| 16|  1|   3|  1| 15|  2|  1| 27|    0|    2|     3|  4| 37|      9|       13| 17|    7|  11|  5|  3|  5|    5|   0| 13|  6|    2|     388|  6|  1|  3|  3|   34|          6|      3|   8|   1|       2|    0| 171|   5|  12|     2|  8|   2|       1|  7|  42|  15|  1|  27| 13| 39|      13|       7|   12|      359|    10|  10|   9|      0| 34| 11| 39|  8|    24| 39|  7|   6|  7|   6|  1|   35|  6|   2|  78|   4|       2|   66|    8|      3|      7|  0|   6|   7| 43|   3| 114|  7|     6|      1|   14|   1|  6|  13|     22|  27|   4|  0|   7|\n",
      "| support|  9| 64|  7|  10|  1|  8|  5|  5| 12|    3|   12|     5|  6| 80|     19|       12| 16|   29|   1|  2| 13|  2|   12|   7|  1|  5|    7|       3|  5|  2|  0|  0|    9|          0|      7|  10|  28|      14|    2| 195|   6|  17|    18|  4|   0|       2|  4|  74|   0| 25|  24| 14| 14|       4|       0|    3|      414|    10|   9|   2|      0| 24| 10| 44|  2|    20| 39| 10|   1|  5|   0|  3|    4|  0|   0|  56|   8|       4|   13|    9|    431|      4|  5|  17|   2| 26|   3| 116|  5|     8|      4|    5|   4|  1|  34|    115|  53|  15|  1|   0|\n",
      "|     ios|  1| 18|  1|   1|  2|  6|  2|  1| 15|    0|    0|     1|  8| 78|     69|        0| 70|   13|  22|  3|  5|  5|    2|   1|  5|  0|    0|       1|  3|  2|  8|  0|    0|          1|     37|   1|   0|       3|    2| 150|   3|   6|     7|  4|   3|       0|  8|  20|   0|269|  30|  8|  9|      19|       1|    1|      247|    16|   4|   1|      0| 25| 12| 11|  0|    25| 44|  2|   2|  7|   1|  0|    6| 11|   2|  67|   3|       1|   16|    0|     25|      3|  1|   0|   1| 20|   0|  78|  4|     5|      0|    3|   3|  1|   7|     37|  38|   2|  3|   8|\n",
      "|    this|  1| 31|  8|   5|  3|  1|  4|  2| 50|    5|    3|     1| 13| 35|      3|        0| 14|    9|   6| 10|  4| 16|    2|   8| 19|  5|    2|       3|  7|  2|  8|  5|   13|         10|      5|   3|   2|       0|    3|  48|   3|  16|     7| 10|   9|      10| 14|  54|   8|  0| 113| 13| 13|       2|       4|   12|      302|     3|   8|  10|      7| 25|  5| 38|  3|     4| 31| 29|   2| 11|   0|  4|    9|  6|  12|  86|   7|       2|    0|    3|      3|     19|  5|  12|  11| 80| 341|  89|  5|     4|      6|    3|  16| 25|  20|     37|  28|  26| 27|  21|\n",
      "|hololens|  0| 11|  6|   8| 15|  1|  1| 23| 75|   10|    2|     0|  9| 75|      0|        6| 26|    1|  19| 16|  7| 26|    0|   0|  8|  8|   15|       1|  9|  7| 21|  2|    0|          5|      4|   0|   9|       0|   25|  95|   0|  14|    27| 19|  17|     544| 25|  56|   4|  0|  48| 21| 24|       7|       0|    0|      527|     0|  10|   2|      2| 26| 15| 54|  6|     1| 61| 11|   4| 24|  14|  1|    2|  0|   2| 181|   7|       1|    0|    4|      2|      3|  5|   3|   8| 92|  10| 168| 22|     5|      0|    0|   8|  2|  22|     16|  80|  10| 25|  25|\n",
      "|      in| 81|206| 86| 110| 51| 44| 42| 29|266|   17|   19|    88| 36|339|     36|       31| 51|  163|  22| 42| 53| 58|   81|  57| 78| 44|   34|      42| 26| 39| 39| 29|  227|         27|     42|  92| 100|      37|   44| 385|  23|  54|   124| 48|  42|      56| 75|3002|   9| 20| 192| 65|129|      60|      53|  115|     2722|    49|  55|  62|     29|199| 99|232| 50|   106|165|101|  30| 66|  23| 40|   44| 58|  15| 581|  26|      40|   19|   47|     74|    166| 20|  69|  37|620|  54| 781| 85|    45|     10|   25|  44| 42| 127|    268| 175| 104| 65|  62|\n",
      "|    your|  1| 48| 26|   3|  4|  5|  6|  5| 81|    7|    0|     4| 10| 53|     10|        2| 58|    9|  20| 11|  3| 14|    5|  46| 24|  4|    7|       7|  7|  5| 58|  2|    7|          0|      7|  23|  14|       3|    3|  84|  14|  36|     6| 13|  18|      25| 32|  62|  24|  8|  62| 25|  5|       5|       6|    6|      495|     3|   4|   5|      0| 52| 28| 39|  4|    15| 49| 26|   1| 11|   7| 34|   29| 12|   9| 174|   4|       4|    3|    1|      0|     23| 17|   1|  21| 66|  21| 223| 10|     9|      6|    3|  11| 13|  40|     67|  44|  29| 89| 584|\n",
      "|     off|  1| 37| 13|   7| 18|  2|  9|  1| 27|    0|    8|     6|  3| 29|      3|        2|  5|    4|   2|  1| 20| 13|    3|  13|  3|  1|    3|       8|  3|  4|  7|  4|   17|          0|      1|   3|   7|       3|    4|  37|   0|  10|     2|  3|   0|       6|  8|  50|   1|  0|  30| 13| 23|       1|       2|   12|      268|     4|   7|   1|      0| 24| 19| 29|275|     5| 38| 15|   0|  0|   1| 13|    7| 12|   6|  65|   3|       1|    4|   12|      2|     37|  2|   3|   5| 74|   3|  56| 15|     4|      5|    6|   3|  2|   6|     43|  25|  21| 11|   4|\n",
      "|  amazon|  0|  1|  7|   4|  2|  0|  1|  0| 18|    6|    5|   318|  6|115|      0|        0|  1|   35|   1| 19| 13| 11|   18|   4| 10| 11|    0|       3|  3|  5| 10|  1|   76|          7|      1|  10|   2|      21|    1|  42|   0|   7|    72|  4|  19|       0| 16|  88|   9|  1|  23|  7|  6|       0|       1|   12|      284|     0|   3|   7|      1|  2|  4| 15|  6|     0| 36|  5|   1|  2|   5|  0|    0|  1|   0|  59|  11|       0|    1|    1|      5|      2|  5|  13|   2| 58|   1|  88| 16|     1|      0|    5|   1| 14|  12|      1|  34|   1|  0|   4|\n",
      "|     are|  0| 24|  3|  10|  6|  4|  3|  4| 47|    8|    5|    19| 11|140|      5|        0|  5|   31|  19|392|  3| 12|    5|   2|  6|  6|    2|       5|  8|  3|  7|  4|   21|          9|     21|  12|   6|      18|    8|  70|   5|  11|    32|  3|  54|      16| 31|  42|   5|  3|  21| 20| 19|       1|       6|    3|      346|     2|  11|  11|      5| 15| 14| 52|  1|    19| 35| 15|   3|  9|   5|  6|    3|  1|   4| 131|  10|       2|    3|    2|      2|      7|  3|  10|  17|120|  10|  83| 19|     1|      5|    8|  27| 27|   6|     17|  19|  20| 32|  11|\n",
      "|      is| 13|181| 32|  35| 21| 19| 46| 23|418|   45|   17|    23| 71|215|     31|        1| 71|   81|  34| 21| 53| 46|   41|  21| 21| 37|   11|      27| 65| 17| 23| 39|   62|         53|     23|  40|  29|      15|   32| 323|  43|  39|    75| 14|  78|      48| 89| 192|  28| 30|1993|132|175|       0|      32|   35|     1811|    31|  55|  70|     36|133| 99|191| 30|    50|239| 97|  19| 46|  32| 40|   58| 63|  29| 612|  54|      22|   25|   24|     24|    121| 20|  35|  68|539| 113| 520| 48|    15|     15|   27|  38|141|  16|    267| 126| 114| 47|  62|\n",
      "|     why|  2| 20|  7|   8|  4|  1|  4|  2| 74|   22|    2|    14|  6| 66|      4|        0|  4|   17|   5| 27|  1|  9|    9|   2| 36|  9|    4|       6|  2|  2| 10| 21|   18|         25|      8|  22|   4|       7|    2|  41|   3|   8|    23| 11|  49|       2|  9|  42|   2|  1| 141| 29| 31|       0|      32|    3|      395|     5|   8|  16|     13|  9|  2| 47|  2|     7| 42| 22|   3|  8|   2|  5|    5|  5|   2| 166|   2|       2|    0|    1|      1|     11| 47|   4|   6|104|  25|  93|  9|     2|      4|    2|   7|418|  15|     36|  18|  18| 20|  13|\n",
      "|       4|  7| 16| 13|  10| 17|  0|442| 24| 47|    4|    4|     1|  3| 76|      0|        1|  1|   32|   2|  3|  7| 17|    2|   5| 11|  2|    2|       2| 14|  9|  7|  1|    2|          3|      1|   0|   1|       2|    8|  55|  22|   5|     4|  8|   7|       1|  5|  42|   0|  2|  46| 22|  9|       8|       2|    6|      397|     1|  14|   2|      2| 28| 16| 51|  9|     1| 40| 30|   1|  6|   0|  7|    1|369|   1|  83|   8|       0|    1|   11|      5|    384|  5|   5|   5| 88|   4|  63| 12|    14|      1|    3|   3|  4|   7|     18|  33|  32| 15|   6|\n",
      "| surface| 17| 31| 42|  33|123|  1|384| 91|157|   14|   13|     2| 12|169|      0|        7|  3|   66|   1|  7| 33| 43|    0|  10| 54|  5|    4|       7| 26| 25| 16|  3|    6|         28|      1|   2|   0|       1|   26| 174|  13|  17|     2| 27|  12|       3| 14| 166|   2|  3| 121| 47| 45|      16|       0|   15|     1235|     7|  28|   9|      1| 87| 41| 78| 37|     5|127| 48|   1| 24|   6| 20|  126|648|   8| 318|  21|       1|    4|   14|      4|   1454| 20|  10|  10|262|  19| 226| 37|    34|      2|    6|  13| 11|  51|     41|  93|  21| 36|  23|\n",
      "|     but|  1| 39| 10|   5|  1|  3| 14|  1| 51|    3|    6|     3|  5| 27|      2|        1|  4|   16|   5|  8| 13|  6|    2|   8| 12|  4|    7|       6|298|  5| 11|  3|   13|          0|      6|   5|   9|       8|    7|  43|   7|   1|     6| 22|   2|       9|  1|  26|   4|  3|  65| 47| 18|       1|      11|   11|      258|     7|   7|   1|      4| 24|  4| 19|  3|     8| 20| 24|   4|  6|   3| 18|    7| 14|   6|  86|   8|       3|    0|    4|      5|     26| 41|   6|  10| 62|   7|  58|  5|     1|      1|   10|   3|  2|  14|     48|   8|  18| 13|   7|\n",
      "|security|  2| 19|  0|  13|  0| 19|  0|  3| 22|   10|    1|     0| 11| 41|      0|        6| 11|    5|   2|  2| 10|  3|   20|   0|  2|  0|    2|       2|  3|  5|  4|  2|   36|          3|      0|   7|   3|       1|    6|  38|   2|  10|     9|  4|   1|       1|  2|  40|   7|  1|  22|  8| 12|       7|       0|    0|      282|     6|   3|   1|      7| 31|  7| 19|  1|    24| 16|  1|   0|  3|   2|  3|    1|  0|   0|  33|   1|     307|    0|    0|      4|      1|  4|   2|   2| 25|   2|  74| 15|     6|      6|    8|   2|  2|   1|     31|  43|   0|  5|   4|\n",
      "|    what|  1| 33|  9|  32|  3|  1|  3|  3| 21|   28|    4|     1|  6| 59|      0|        0|  7|    7|   0| 27|  4| 21|    1|   5|  6|  1|   17|       1|  3|  1| 14| 13|    6|          9|      4|   6|   3|       5|    2|  57|   2|  34|     7|  9|  36|       8| 16|  44|   1|  3|  38| 26|  3|       0|       9|    2|      299|    10|   5|   6|     17| 25|  7| 28|  3|     7| 19|  9|   1|  6|   0|  4|    8|  4|   2| 183|   3|       2|    0|    1|      4|     13| 11|   4|   8| 77|  16| 113|  6|     5|      1|    1| 325|  7|  11|     43|  23|  10| 62|  11|\n",
      "+--------+---+---+---+----+---+---+---+---+---+-----+-----+------+---+---+-------+---------+---+-----+----+---+---+---+-----+----+---+---+-----+--------+---+---+---+---+-----+-----------+-------+----+----+--------+-----+----+----+----+------+---+----+--------+---+----+----+---+----+---+---+--------+--------+-----+---------+------+----+----+-------+---+---+---+---+------+---+---+----+---+----+---+-----+---+----+----+----+--------+-----+-----+-------+-------+---+----+----+---+----+----+---+------+-------+-----+----+---+----+-------+----+----+---+----+\n",
      "only showing top 20 rows\n",
      "\n"
     ]
    }
   ],
   "source": [
    "cooccurrence(\"microsoft\",\"Title\", 100)"
   ]
  },
  {
   "cell_type": "code",
   "execution_count": 18,
   "id": "97f8d641",
   "metadata": {},
   "outputs": [
    {
     "name": "stderr",
     "output_type": "stream",
     "text": [
      "23/11/21 10:42:52 WARN TaskSetManager: Stage 74 contains a task of very large size (6245 KiB). The maximum recommended task size is 1000 KiB.\n",
      "23/11/21 10:42:55 WARN TaskSetManager: Stage 76 contains a task of very large size (6245 KiB). The maximum recommended task size is 1000 KiB.\n",
      "23/11/21 10:42:55 WARN TaskSetManager: Stage 77 contains a task of very large size (6245 KiB). The maximum recommended task size is 1000 KiB.\n",
      "                                                                                \r"
     ]
    },
    {
     "name": "stdout",
     "output_type": "stream",
     "text": [
      "+--------+---+---+---+----+----+---+---+---+---+---+----+-----+-----+----+---+----+---+----+---+-----+------+--------+---+---+---+------+-----+-------+-----+----+-------+--------+-------+---+---+-----+----+----+---+------+----+----+-------+-----+------+---+----+---+---+----+-----+----+---+---+-----+----+---+------+---+--------+----+---+---+---+-----+----+---+----+----+-------+-------+----+----+---------+------+------+-------+-----+----+-------+-----+-----+---+----+----+----+----+----+-----+---+---+---+----+----+---+----+----+-----+-----+----+\n",
      "|col__col|  0|  1|  2|2015|2016|  3|  4|  5|  6|  7|   a|about|after| and|are|  as| at|bank| be|boost|brexit|business|but| by|can|canada|china|chinese|could|data|despite|economic|economy| eu|fed|first| for|from|gdp|global|good|grow|growing|grows|growth|has|help|how|imf|  in|india|  is| it|its|japan|jobs|low|market|may|minister|more|new| no|not|obama|  of|oil|  on|over|percent|quarter|quot|rate|recession|report|russia|russian|    s|says|sharing|state|still|  t|than|that| the|this|  to|trump|  u| uk| up|  us|what|why|will|with|world|would|year|\n",
      "+--------+---+---+---+----+----+---+---+---+---+---+----+-----+-----+----+---+----+---+----+---+-----+------+--------+---+---+---+------+-----+-------+-----+----+-------+--------+-------+---+---+-----+----+----+---+------+----+----+-------+-----+------+---+----+---+---+----+-----+----+---+---+-----+----+---+------+---+--------+----+---+---+---+-----+----+---+----+----+-------+-------+----+----+---------+------+------+-------+-----+----+-------+-----+-----+---+----+----+----+----+----+-----+---+---+---+----+----+---+----+----+-----+-----+----+\n",
      "|    rate| 46| 39| 27|  11|  15| 12| 20| 40|  8| 20|  38|    5|    4|  16|  1|  68|130|  34|  7|   15|     2|       3| 14|  8|  9|    28|   17|      2|    6|   7|      3|      41|    460|  2|131|   19|  65|   6|  6|    31|   6|   4|      4|   26|    61|  4|  16|  7|  2| 192|    7|  37|  3|  7|   16|  54|  8|     1| 23|      12|  29| 15| 11| 15|    1|  77|  3|  56|   0|     53|     70|   2| 631|        3|    11|     4|      2|  142|  41|      0|    3|    8| 10|  14|   4|  56|   4| 144|    0| 32| 19| 10| 142|   2|  5|  19|  24|    2|    4|  16|\n",
      "| economy|332|429|346| 475| 948|383|292|404|337|430|2172|  776|  316|1647|463|1830|816| 456|638|  731|   808|     290|630|798|548|   310| 1750|    382|  615| 271|    307|     164|  26720|372|538|  313|3114| 484|158|  1608| 337| 517|    442|  394|   877|381| 311|718|310|5546|  416|2086|527|362|  492| 470|268|   398|414|     545| 642|825|280|650|  287|2991|618|2973| 479|    337|    662| 330| 460|      265|   413|   198|    251| 7224|1450|    459|  434|  317|627| 560| 258|7522| 322|6912|  275|600|689|594|1805| 509|435|1005| 692|  762|  336| 568|\n",
      "|     for| 10| 37| 15|  51| 189| 32| 23| 34| 19| 17| 548|   33|   58| 232| 86| 238| 64|  61|185|   71|   194|      66| 78| 28| 31|    52|  264|     50|  102|  31|     17|     270|   3114| 82| 67|   46|4104|  21| 26|   278| 199|  16|     27|   15|   260| 44|  19| 36| 75| 506|   72| 358| 86| 37|   43|  63| 47|    84| 58|      54|  89|176| 83| 83|   35| 302|123| 206|  42|      8|     34|  58|  65|       47|    52|    47|     40|  893| 146|     50|   34|   35| 64|  35|  33|1242|  55| 535|   42| 90|155| 77| 266| 180| 96|  91|  53|  164|   47| 117|\n",
      "| despite|  1|  2|  5|  16|  10|  1|  8|  4|  8| 10|  12|    6|    0|   9|  7|   2|  9|  12|  4|    1|     5|       7|  1|  4|  0|     7|   23|      5|    3|   6|    386|      30|    307|  1| 10|    1|  17|   4|  2|    54|  11|  17|     18|   11|    39|  2|   0|  0|  1|  86|   10|  16|  2|  3|   12|  10|  5|    19|  2|       4|   8|  8|  7|  6|    1|  25| 22|  38|   6|      4|      2|   0|   3|        3|     7|     5|      4|   87|  16|      0|    3|   23|  1|   1|   3|  30|   2|  51|    0|  9| 12| 12|  29|   4|  4|   6|   4|    4|    0|   5|\n",
      "|   trump|  0|  0|  1|   0|   3|  2|  6|  1|  0|  0|  60|   18|    2|  44|  8|  11|  4|   1| 17|    6|    10|       1|  3|  9|  9|     2|    7|      0|   37|   1|      0|      49|    275|  0|  6|    0|  42|  10|  0|    14|   2|   2|      1|    0|     2|  1|   3| 18|  0|  35|    0|  38|  6|  3|    0|   9|  3|     0|  4|       6|   2|  4|  4|  6|   14|  25|  1|  90|   8|      1|      0|   3|   0|       12|     5|     0|      0|  162|  35|      0|    0|    2| 15|   3|  11| 169|   4|  89|  394| 22|  0|  4|  47|  17| 12|  16|   8|   11|   53|   1|\n",
      "|       s| 82|135|113| 147| 294|112|107|129|113|155| 763|  281|   93| 518|199| 553|247| 194|242|  167|   175|      94|210|219|199|   276| 1404|     61|  203|  95|     87|     798|   7224|112|338|  108| 893| 160|105|   289| 107| 135|    145|  139|   395|133| 103|289|108|1695|  274| 845|475|143|  334| 121| 68|   154|188|     167| 174|301|104|286|  137|1037|186| 975| 120|    113|    224| 117| 142|      103|   136|   196|     32|10256| 532|     64|  168|  120|219| 211| 136|2195| 143|2102|  162|774|125|172| 315| 297|238| 346| 213|  340|  105| 231|\n",
      "|business|  3|  3|  1|  12|  13|  0|  1|  3|  0|  1|  31|   25|    5|  46| 11|  47| 15|   5|  6|    4|    12|     473|  5|  6|  4|     1|   19|      2|    7|   2|      7|      33|    290|  2|  2|    1|  66|  12|  3|    11|   7|   1|      5|    3|    25|  0|   3|  7|  1| 103|    4|  41|  3|  4|   15|   2|  7|     5|  3|       5|   7| 21|  7|  3|    5|  53|  1|  30|   5|      0|      8|   6|   3|        7|     5|     6|      3|   94|  12|      9|    7|    6| 14|   5|   6| 101|   2|  98|    1| 16| 17| 12|  10|   4|  4|   8|   4|    5|    4|   5|\n",
      "|    this|  1|  5|  2|   0|   7| 14| 18| 37| 25| 22|  27|   39|    0|  35| 12|  18|  7|  16| 18|    0|     4|       2|  3| 17| 13|     6|   34|      9|   16|   4|      2|      29|    322|  2|  8|    2|  55|   6|  4|    24|  11|  52|      6|    1|    26| 12|   1| 21|  5|  62|    7| 112| 17|  5|    1|   3|  2|     3| 10|       6|   6|  9|  5| 16|    4|  37|  7|  15|   4|      4|      3|   0|   4|        8|     2|     3|      4|  143|  23|      4|    7|    7| 17|   5|   9| 209| 437| 175|    4|  9|  2|  3|  32|  28| 15|  33|   6|   18|    3| 117|\n",
      "|      in|319|310|255| 466| 755|254|204|283|234|337| 562|   72|   48| 314| 97| 358|331| 101|137|   98|    74|     103|119|267| 87|   115|  462|     92|  110|  72|     86|     460|   5546| 60|139|  265| 506|  64|144|   332|  73| 243|    128|  249|   542| 72|  34|114| 59|7347|  192| 306| 62| 48|  191| 222| 84|    86|155|      82| 180|214| 89|104|   58| 689|121| 406|  65|    277|    648|  56| 192|      141|    94|   101|    107| 1695| 299|     85|   95|   63| 77| 199|  52|1445|  62|1526|   35|190|196|181| 615|  90| 71| 205| 161|  210|   14| 178|\n",
      "|     are|  0|  2|  9|   5|  10|  2|  4|  1|  2|  0|  78|   65|    3| 103|698|  31| 10|   2| 12|    3|     7|      11| 37| 18|  4|     3|   43|     11|    2|   3|      7|      60|    463|  2|  8|    6|  86|  19|  1|    43|  19|   5|      9|    0|    15|  0|   1| 48|  0|  97|    2|  37| 17|  5|    5|  24| 17|    12|  1|       5|  31| 20|  9| 31|    6|  75| 18|  60|   8|      1|      0|   4|   1|        5|     8|     3|      3|  199|  30|     12|    4|   14|  7|  18|  25| 379|  12| 113|    8| 11|  9| 12|  48|  41| 54|  11|  13|   25|    1|   2|\n",
      "|      is|  3| 12|  8|   5|  41|  9| 10| 14|  8|  6| 423|   80|   15| 210| 37| 101| 54|  29| 33|   12|    80|      41|111| 36| 21|    31|  183|     32|   14|  26|     16|     165|   2086| 26| 65|    7| 358|  32| 14|   161|  80|  11|     78|    2|    53| 15|   9|171| 17| 306|   61|2671|146| 72|   24|  44|  9|    40|  8|      33|  44| 61| 42|149|   37| 309| 43| 205|  32|      9|      6|  33|  37|       48|    38|    23|     18|  845| 161|     49|   32|   45| 48|  79|  89|1642| 112| 422|   38| 67| 61| 42| 214|  93|185|  23|  43|   92|    4|  23|\n",
      "|     why|  0|  2|  0|   4|  11|  2|  4|  9|  0|  1| 115|   39|    2|  52| 54|   8|  6|   5| 54|    3|    14|       4|  9|  3| 31|     1|   36|     12|   28|   2|      4|      45|    435|  3| 14|    4|  96|   7|  3|    37|  19|   5|     14|    0|    13| 11|   4|  5|  5|  71|   12| 185| 29|  6|    7|  15|  6|     8| 31|       1|  19| 11|  3| 30|    8|  63| 28|  43|   7|      0|      2|   2|   5|        3|     7|     4|      1|  238|   3|     15|    5|   10| 77|  22|   7| 416|  15|  79|   12| 15|  8|  7|  50|   5|587|  41|   7|   18|    5|  11|\n",
      "|     imf|  0|  2|  3|   1|  23| 21|  9|  8|  9|  8|  14|    8|    8|  14|  0|  24| 10|  14|  9|    1|    58|       1|  9| 22| 11|     1|   25|      7|   28|   0|      1|      34|    310|  6|  0|    0|  75|   9|  0|    84|   8|  23|      7|    0|    43|  2|   1|  2|385|  59|   17|  17|  1|  3|    3|   0|  1|     0|  2|       2|   3|  9|  7|  3|    0|  38| 12|  31|  12|      4|      0|  14|   2|        4|     1|     2|      3|  108|  68|      0|    0|    8|  8|   1|   6|  44|   5| 117|    0|  7| 30| 12|   8|   4|  5|  17|   2|   42|    6|  12|\n",
      "|   india|  0|  5|  6|  16|  32| 28| 11| 18| 19| 75|  71|    5|    9|  20|  2|  35| 30|  13| 51|    7|     9|       4| 12| 25| 33|     0|   41|      2|    5|   6|     10|      88|    416|  1|  1|    0|  72|  11| 12|    65|   5|  24|     99|   20|    92| 18|   8| 14| 17| 192|  649|  61|  6|  8|    1|   1|  3|     7| 21|       4|  18|  9| 13| 14|    1|  58|  7|  50|  10|     27|     19|   4|   7|        2|    11|     1|      1|  274|  42|      1|    2|    7|  8|  26|   7|  83|   7| 199|    0|  0|  3| 24|  18|   7| 12|  22|  24|   62|    1|  18|\n",
      "|  market|  0|  1|  1|   8|  34|  4|  0|  1|  1|  0|  48|   12|    7|  63| 12|  42| 10|   3| 13|    9|     8|       5|  6|  6|  7|     2|  144|     16|   17|   3|     19|      34|    398| 58| 16|    1|  84|  13|  0|    29|   2|   3|      4|    3|     9|  3|   1| 11|  0|  86|    7|  40|  5|  3|   11|  17|  4|   559| 21|       4|  20|  5|  6| 25|    2|  73| 10|  68|  17|      0|      0|   4|   1|        4|    10|     6|      2|  154|  16|      5|   21|    7| 23|  13|  12| 183|   3| 119|    0| 19|  8| 13|  46|  15|  8|  19|   9|    7|    4|   7|\n",
      "|      eu|  1|  4|  1|   6|   8|  4|  5|  3|  3|  7|  27|    6|    6|  41|  2|  26|  7|  14| 42|   13|    46|       2|  3| 23| 10|     0|   55|      3|   39|   3|      1|      42|    372|501|  0|    0|  82|  38|  2|    24|   2|   3|      4|    0|    10|  7|   7| 10|  6|  60|    1|  26| 12|  3|    1|   9|  1|    58| 22|      29|  12|  5| 13|  8|    1|  61|  1|  69|  14|      8|      0|  16|   2|        2|     4|     5|      2|  112|  54|     16|    1|    6| 12|   6|   1|  86|   2| 144|    0|  6| 65|  5|  12|   7|  3|  27|  12|    4|   49|   2|\n",
      "|       4| 36| 37| 29|  45|  33| 28|400| 37| 14| 37|  16|    2|    2|  20|  4|   4| 43|  21|  5|   13|     2|       1|  5| 59|  2|     2|   14|      0|    7|   1|      8|      19|    292|  5| 12|   19|  23|   4| 16|     9|   1|  41|     13|   33|    50|  2|   0|  2|  9| 204|   11|  10|  4|  2|    6|  17|  2|     0|  4|       4|   3|  2|  1|  3|    0|  24|  3|  24|   6|     55|     51|   0|  20|        2|     7|     6|      7|  107|  14|      0|    2|    2|  3|   3|   1|  40|  18| 146|    6| 12| 14|  8|  49|   0|  4|   7|  14|   13|    6|  33|\n",
      "|    than| 17| 17| 22|  12|  14| 24|  3| 17|  8| 20|  39|   21|    9|   8| 18|  36| 18|   8| 36|    6|    13|       5| 26| 27|  5|    11|   33|      9|   17|   5|      1|      39|    560|  6|  0|   44|  35|   8| 26|    17|   2|  20|     25|   65|    43| 11|   2|  3|  1| 199|   26|  79| 16|  4|   35|  18|  2|    13| 23|       6| 282| 16|  5|  2|    2|  42|  8|  31|   0|     11|     86|   8|  14|        9|    17|     4|      4|  211|  20|      2|    6|   15|  4| 689|   7| 129|   5|  90|    3| 27| 22| 15|  85|   4| 22|  25|   5|    5|    0|  12|\n",
      "|economic| 33| 25| 24|  50| 131| 14| 19| 56| 27| 41| 175|   43|   30| 166| 60| 190| 79|  66| 76|   23|    77|      33| 43| 42| 47|    42|  295|     55|   69|  93|     30|    2809|    164| 42| 39|   30| 270|  75| 33|   184|  22|   7|     16|    3|   502| 33|  15| 42| 34| 460|   88| 165| 43| 28|   46|  35| 34|    34| 48|      38|  46| 95| 32| 70|   42| 386| 43| 236|  48|     26|     45|  17|  41|       17|    39|    68|     37|  798| 108|      3|   15|   38| 51|  39|  30| 453|  29| 623|   49| 40| 64| 77| 167|  27| 45|  76|  70|   66|   29|  56|\n",
      "|     but| 10| 10|  7|   7|  32|  7|  5|  4|  2|  4|  69|   18|    0|  11| 37|  21| 18|  17| 26|    9|    12|       5|789| 12| 24|    30|   81|      7|   14|  18|      1|      43|    630|  3|  8|    5|  78|   7| 24|    25|  22|  10|     34|   24|    94| 13|   1| 13|  9| 119|   12| 111| 61| 10|   19|  31|  4|     6| 29|       1|  30| 15| 19| 86|    4|  75| 21|  56|   5|      8|     18|  10|  14|       14|    16|     4|      9|  210|  53|      6|    9|   68| 41|  26|  17| 143|   3| 109|    3| 25| 24| 32|  59|   9|  9|  25|  25|   27|    2|  19|\n",
      "+--------+---+---+---+----+----+---+---+---+---+---+----+-----+-----+----+---+----+---+----+---+-----+------+--------+---+---+---+------+-----+-------+-----+----+-------+--------+-------+---+---+-----+----+----+---+------+----+----+-------+-----+------+---+----+---+---+----+-----+----+---+---+-----+----+---+------+---+--------+----+---+---+---+-----+----+---+----+----+-------+-------+----+----+---------+------+------+-------+-----+----+-------+-----+-----+---+----+----+----+----+----+-----+---+---+---+----+----+---+----+----+-----+-----+----+\n",
      "only showing top 20 rows\n",
      "\n"
     ]
    }
   ],
   "source": [
    "cooccurrence(\"economy\",\"Title\", 100)"
   ]
  },
  {
   "cell_type": "code",
   "execution_count": 19,
   "id": "1da8c3f2",
   "metadata": {},
   "outputs": [
    {
     "name": "stderr",
     "output_type": "stream",
     "text": [
      "23/11/21 10:43:03 WARN TaskSetManager: Stage 96 contains a task of very large size (6245 KiB). The maximum recommended task size is 1000 KiB.\n",
      "23/11/21 10:43:06 WARN TaskSetManager: Stage 98 contains a task of very large size (6245 KiB). The maximum recommended task size is 1000 KiB.\n",
      "23/11/21 10:43:06 WARN TaskSetManager: Stage 99 contains a task of very large size (6245 KiB). The maximum recommended task size is 1000 KiB.\n",
      "                                                                                \r"
     ]
    },
    {
     "name": "stdout",
     "output_type": "stream",
     "text": [
      "+-----------+----+---+-----+-------+--------------+-----+-------+-------+---+---+---+---+---+------+---+----+---+---+-----+--------+---+------+-------+-------+--------+-------+-----+----+----+------+-----+-----+----+----+---+---+---+----+---+-------+---------+---+-----+---+---+-----------+----+----+----+----+-------+---+----+-------+------+----+----+--------+----+---+---+---+-----+----+----+---+----+----+---------+----+-----------+----+-------+----+------+-----+-------+-----+---+------+----+----+----+----+----+-----+---+---+---+-----+---+---+----+-----+---+---+----+----+-----+----+\n",
      "|   col__col|2016|  a|about|address|administration|after|against|america| an|and|are| as| at|barack| be|bill|but| by|calls|campaign|can|change|climate|clinton|congress|control|court|cuba|deal|donald|fight|first| for|from|gop|gun|has|have| he|hillary|hiroshima|his|house|how|  i|immigration|  in|iran|  is|isis|islamic| it|just|leaders|legacy|make|meet|michelle|more|new| no|not|obama|  of|  on|out|over|plan|president|quot|republicans|   s|sanders|says|speech|state|supreme|syria|  t|terror|that| the|this|  to|trip|trump|  u| up| us|visit|was| we|what|white|who|why|will|with|world|year|\n",
      "+-----------+----+---+-----+-------+--------------+-----+-------+-------+---+---+---+---+---+------+---+----+---+---+-----+--------+---+------+-------+-------+--------+-------+-----+----+----+------+-----+-----+----+----+---+---+---+----+---+-------+---------+---+-----+---+---+-----------+----+----+----+----+-------+---+----+-------+------+----+----+--------+----+---+---+---+-----+----+----+---+----+----+---------+----+-----------+----+-------+----+------+-----+-------+-----+---+------+----+----+----+----+----+-----+---+---+---+-----+---+---+----+-----+---+---+----+----+-----+----+\n",
      "|     legacy|  15| 38|    3|      0|             1|    5|      1|      2|  3| 28|  0| 24| 15|    12| 23|   5|  4|  5|    1|       4|  4|     4|     25|     26|       0|      2|   10|   2|   5|     0|    9|    4|  29|   2|  1|  1|  5|   1|  8|     13|        3| 41|    2|  2|  1|         19|  40|   4|  24|   1|      0|  4|   0|      0|   335|   3|   0|       6|   1|  2|  1|  5|  330|  59|  55|  2|   7|   1|       38|   5|          2| 217|      7|   1|     1|    4|      3|    1|  6|     3|   3|  63|   1|  66|   1|   12|  0|  5|  5|    8|  1|  0|  14|    2|  1|  2|  25|  24|    2|   2|\n",
      "|        for|  41|336|   34|     18|            69|   85|     30|     24| 29|196| 33|101|143|   118| 62|  20| 27| 51|  215|      58| 17|    51|     63|    153|      64|     58|  123|  61|  53|    63|   37|   77|3879|  68|107|149| 61|  14| 94|     82|       37|103|   83| 28| 32|         11| 497|  33| 205|  43|     24| 64|  21|     35|    29|  34|  10|      72|  80|113| 56|108| 3608| 353| 264| 57|  35|  43|      331|  59|         51| 941|     38| 153|    42|   91|     97|   32| 96|    12|  37| 401|  29|1007|  25|  219| 46| 66|150|  151| 24| 28|  69|   79| 45| 38|  80| 127|   34|  32|\n",
      "|      trump|  17|169|   73|      7|             6|   38|     42|     21| 15|151| 31| 84|115|    78| 70|   7| 22| 57|   28|      42|  9|     6|     15|    124|       1|      5|   15|   2|   8|   390|    4|    7| 219|  18| 73| 13| 26|  26| 58|     41|        5| 41|   14| 26| 41|         10| 202|   7| 196|  25|      4| 31|  23|     26|    12|  15|   2|      14|  18| 16| 16|116| 1493| 189| 215| 27|  42|  26|      125|  52|         20| 566|     20| 131|    38|   15|     15|    1| 90|     6|  40| 236|  34| 322|   6| 1608|  5| 26| 27|   10| 22| 25|  20|   16| 16| 19|  50|  85|   44|   4|\n",
      "|          s| 101|661|  245|     89|           100|  112|    135|    155| 83|525|159|196|307|   301|203|  69|102|153|   72|      74| 81|    63|    170|    274|      88|    141|  266| 132|  82|   132|   67|  112| 941| 196|176|306|122|  77|273|    165|      118|144|  187|144| 65|        128| 897| 115| 608| 155|     54|294|  93|     39|   217|  58|  53|     135|  73|240|100|237| 7995|1182|1123| 99| 156| 264|      785| 154|         92|9211|     92| 284|   181|  255|    237|  105|214|    54| 146|1294| 101|2242| 113|  566|338| 96|182|  315| 90| 59| 240|  178| 94|164| 271| 414|   80| 127|\n",
      "|republicans|   4| 25|    5|      1|             4|    5|      2|      1|  2| 19| 20| 17|  8|     4|  6|   2|  4| 14|    4|       4|  4|     0|      8|      5|       6|      6|   33|   0|   3|     7|    6|    1|  51|   3|  6|  8|  3|   6|  6|      1|        1|  3|   16|  6|  2|          1|  21|   5|   9|   5|      2|  5|   3|      0|     2|   2|   4|       0|   7|  6|  4|  5|  255|  28|  36|  5|  20|   7|       12|  10|        295|  92|      0|   8|     1|    4|     31|    1| 14|     2|   7|  31|   2| 117|   1|   20|  3|  6|  3|    0|  0|  1|   3|    4|  4|  7|  10|  23|    1|   2|\n",
      "|    leaders|   1|  3|    9|      0|             2|    0|      2|      2|  1| 16| 11| 14| 26|    11|  3|   1|  1| 19|    6|       6|  1|     1|     11|      3|       2|      0|   19|   0|   1|     7|   13|    3|  35|   4| 34|  0|  3|   2|  5|      1|        1|  0|   22|  1|  1|          0|  35|   0|   7|  15|     10|  2|   0|    305|     0|   1|  47|       1|   7|  2|  1|  5|  298|  21|  55|  3|   4|   2|       11|   6|          0|  39|      0|  17|     1|   10|      6|    1|  4|    10|   0|  19|   1| 164|   1|   26|  3|  4| 14|    1|  0|  1|   2|   23|  2|  1|   5|  80|   62|   4|\n",
      "|      court|   1| 65|   12|      0|            28|    3|     13|      1|  8| 12|  6| 36| 51|     2|  8|   0|  4|  9|    8|       5| 10|    12|     26|     16|       2|      1|  948|   0|   0|     0|   42|    3| 123|   9| 82|  3| 11|   7| 16|      5|        0| 29|   17|  9| 14|        130|  67|   0|  30|   1|      0|  3|   7|     19|    10|  11|  15|       1|   3| 12| 22| 19|  924|  65| 191|  4|  46|  74|       34|   6|         33| 266|      0|  49|     4|    0|    711|    0| 34|     0|   3|  90|  12| 462|   0|   15| 21|  9| 23|    3|  0|  2|  10|   22| 12|  7|  27|  54|    0|   4|\n",
      "|       this|   3| 55|   18|      1|             2|    5|      2|      2| 10| 15|  8| 15| 15|    20| 10|   2|  6|  6|    0|       2|  5|     0|      0|     12|       2|      2|   12|   3|   3|     6|    2|    3|  29|   9|  6|  6| 11|   5| 14|      5|        5|  3|    7|  9| 12|          1|  35|   1| 126|   2|      2| 13|  10|      1|     1|   5|   2|      11|   2|  8| 10| 45|  322|  42|  56|  7|   1|   6|       49|  12|          2| 101|      1|  16|     7|    5|     11|    1| 13|     4|  12|  56| 351| 112|   1|   34|  6|  4|  7|   12| 13| 12|  16|    7|  5| 12|  12|  13|    3|  28|\n",
      "|         in|  80|305|   57|     74|            65|   92|     72|     46| 42|226| 49|135|165|   211| 87|  15| 37| 59|   92|      59| 22|    43|     72|    128|      34|     32|   67| 174|  48|    57|   95|   81| 497|  46| 51| 93| 52|  31| 92|     62|       35|152|  124| 23| 46|         28|4366|  31| 203|  64|     53| 68|  28|     35|    40|  38|  61|      86|  65|129| 50| 88| 3968| 503| 405| 75|  55|  48|      348|  74|         21| 897|     40| 177|    87|  157|     50|  134| 74|    36|  37| 589|  35|1332|  36|  202| 91| 70|261|  188| 40| 27|  63|  108| 26| 26| 148| 249|   58|  89|\n",
      "|     donald|   5| 46|   24|      1|             0|   10|      8|      5|  5| 48| 10|  9| 23|    64| 23|   3|  6| 17|    8|      12|  2|     1|      2|     27|       0|      1|    0|   1|   1|   404|    1|    0|  63|   7| 19|  3|  9|  12| 19|     27|        1| 15|    4|  4|  8|          0|  57|   0|  58|   9|      2|  2|  12|      7|     0|   0|   0|       6|   5|  3|  2| 25|  362|  65|  45|  4|   8|   4|       69|   8|          7| 132|      7|  44|     7|    6|      0|    0| 18|     1|  17|  70|   6|  78|   1|  390|  0|  7| 11|    1|  8|  7|   5|    6|  6|  8|   8|  11|    8|   2|\n",
      "|     barack|  14|134|   29|     11|             4|   28|     14|     14| 16|172| 17| 48| 63|  1248| 34|   8| 11| 30|   11|      11| 16|     9|     14|     49|       3|     10|    2|  14|   4|    64|   11|   22| 118|  31|  6| 24| 31|  17| 37|     48|       12| 42|   36| 13| 17|          0| 211|   3| 125|  23|      4| 18|   7|     11|    12|  12|  21|      60|  11| 22| 22| 45| 1219| 165| 136| 13|  31|  10|      177|  19|          4| 301|     18|  60|     9|   19|      1|   14| 32|    10|  21| 262|  20| 322|   8|   78|  8| 17| 83|   35| 26| 13|  31|   38| 20| 23|  61| 101|   22|  17|\n",
      "|       have|   2| 50|    7|      1|             4|    3|      2|      4|  3| 48|  2|  8| 11|    17|  8|   0| 12|  3|    0|       2|  6|     2|      5|      7|       2|     12|    7|   4|   3|    12|    2|    2|  14|   6|  2| 15|  2| 304|  6|      5|        2|  8|    6|  5| 22|          2|  31|   3|  11|   6|      3|  9|   4|      2|     1|   3|   0|       6|   8|  1| 10| 12|  295|  20|  41|  0|   6|   9|       18|   5|          6|  77|      7|  22|     3|    5|      7|    2| 29|     1|  13|  61|   5| 100|   1|   26|  7| 10| 16|    3|  0| 29|  16|    8|  6|  5|  10|   8|    1|   2|\n",
      "|        are|   1| 23|   12|      0|             3|    3|      6|      4|  5| 83|441| 12| 13|    17|  3|   2| 15| 10|    0|       1|  1|     2|      5|     23|       2|      7|    6|   2|   4|    10|    2|    3|  33|  11|  6| 12|  5|   2|  4|     11|        0|  9|    2| 12|  4|          5|  49|   0|  15|  16|      9|  7|   6|     11|     0|   1|   0|      14|   9| 11|  9| 24|  410|  52|  39|  7|  18|   2|       35|  17|         20| 159|      6|  47|     1|   12|      4|    9|  9|     0|  10|  93|   8|  87|   1|   31|  3|  4| 11|    4|  2| 33|  12|    2| 20| 23|   4|  20|    7|   1|\n",
      "|         is|  10|382|   69|      3|            47|   39|     44|     50| 48|118| 15| 68| 69|   125| 28|  11| 61| 30|   13|      16| 12|    16|     29|     84|      13|     15|   30|  18|  16|    58|   21|   14| 205|  21| 49| 35| 16|  11| 79|     55|        8| 69|   29| 45| 25|         13| 203|  25|1968|  63|     15| 80|  22|      7|    24|  10|   4|      47|  44| 45| 53|155| 1818| 227| 250| 31|  41|  27|      212|  54|          9| 608|     53| 177|    20|   27|     30|   32| 41|     7| 100| 517| 126| 443|   7|  196| 10| 22| 78|   26| 11| 27|  62|   29| 31|127|  17|  84|   22|  20|\n",
      "|        his|  12| 76|   32|     14|             2|   19|     11|      7| 14| 48|  9| 49| 40|    42| 16|   1| 20| 23|    7|      21| 16|     5|      8|     18|       7|      6|   29|  14|   5|    15|    3|   34| 103|  13|  7| 17| 26|   8| 37|     13|        5|829|   14| 25|  9|         11| 152|   3|  69|  15|      3| 18|  17|      0|    41|  22|   5|       3|  13| 11|  8| 17|  796| 170| 159| 40|  10|  13|      124|   5|          3| 144|      8|  44|     8|   38|     31|    7| 30|     2|  16| 140|   3| 286|  10|   41|  7| 14| 25|   47| 17|  7|  19|   16|  8| 13|  48|  53|    5|  11|\n",
      "|        why|   1| 53|   16|      2|             6|    5|      8|      2|  9| 30| 23|  5| 15|    23| 10|   1|  3|  4|    2|       2| 12|     2|      5|     14|       4|      8|    7|   6|   6|     8|    1|    4|  38|   6|  2| 16| 13|   5| 41|     14|       13| 13|    5|  1|  8|          2|  26|   4| 127|  15|      5|  8|   3|      1|     2|   0|   0|      12|  13|  4|  2| 12|  393|  33|  47|  8|  15|   6|       48|   6|          7| 164|      7|   8|     3|    4|      9|    4| 66|     2|   5|  96|  12| 102|   3|   19|  1|  9| 14|   11| 17| 13|   4|    5|  4|418|  15|  22|    0|   4|\n",
      "|  president|  40|245|   69|     45|            15|   69|     30|     31| 38|196| 35| 84|135|   177| 87|  23| 12| 50|   60|       7| 28|    13|     25|     75|      23|     16|   34|  51|  16|    69|   17|   77| 331|  75| 20| 45| 70|  18| 72|     70|       38|124|   68| 42| 46|         11| 348|   7| 212|  42|      9| 46|  33|     11|    38|  19|  42|      31|  39| 48| 40| 92| 2621| 338| 336| 74|  35|  31|     2726|  68|         12| 785|     33|  99|    28|   43|     40|    5| 72|    21|  33| 536|  49| 822|  21|  125| 22| 27|115|  142| 43| 40|  71|   77| 33| 48| 122| 205|   15|  34|\n",
      "|        but|   1| 51|    8|      0|             3|    7|      5|      3|  3| 15| 15|  7| 20|    11| 19|   3|310| 13|    4|       0| 24|     6|      3|     15|       4|      1|    4|  18|   3|     6|    3|    3|  27|   5|  5|  5|  8|  12| 17|     12|        7| 20|   11|  7| 10|          0|  37|   4|  61|   8|      1| 38|   3|      1|     4|   3|   4|       5|  17|  6| 16| 44|  297|  16|  35|  3|   4|   0|       12|   2|          4| 102|     14|  21|     3|    1|      4|    5| 49|     5|  12|  60|   6|  91|   1|   22|  6|  4| 18|   11|  9|  4|   7|   14|  4|  3|  15|  13|    1|   2|\n",
      "|      state|  22| 40|   19|     72|             4|    7|     42|     12|  4| 41| 12| 22| 61|    19| 19|   2|  1|  9|   12|      13|  1|     2|      5|      7|       6|      1|    0|   1|   1|     6|   32|   10|  91|  14| 10|  4|  9|   5|  7|      7|        0| 38|    7|  8|  3|          0| 157|   3|  27|   5|    245|  8|   4|     10|     4|   8|  15|      17|   7|  6|  5| 18|  650| 331|  94|  7|   6|   5|       43|   2|          4| 255|      1|  25|    24|  674|      0|   21| 11|     4|   4| 330|   5| 257|   1|   15| 12| 17| 31|   26|  4|  8|  13|    7|  1|  4|  39|  39|    4|   3|\n",
      "|     terror|   1| 10|   10|      9|             2|    8|     18|      2| 24| 31|  0| 18|  3|    10|  6|   1|  5|  5|   16|       0|  5|     2|      7|      7|       1|      1|    0|   0|   2|     1|   13|    0|  12|   7|  2|  3|  5|   1|  7|      4|        0|  2|    4|  5|  0|          0|  36|   1|   7|   9|      7|  2|   1|     10|     3|   1|   3|       1|   9| 11| 21| 10|  280|  79|  69|  3|  14|   2|       21|   4|          2|  54|      0|  32|     9|    4|      0|    2|  9|   293|   1|  20|   4|  95|   0|    6|  2|  5| 19|    0|  3|  7|   3|    3|  3|  2|   9|  15|   14|   4|\n",
      "+-----------+----+---+-----+-------+--------------+-----+-------+-------+---+---+---+---+---+------+---+----+---+---+-----+--------+---+------+-------+-------+--------+-------+-----+----+----+------+-----+-----+----+----+---+---+---+----+---+-------+---------+---+-----+---+---+-----------+----+----+----+----+-------+---+----+-------+------+----+----+--------+----+---+---+---+-----+----+----+---+----+----+---------+----+-----------+----+-------+----+------+-----+-------+-----+---+------+----+----+----+----+----+-----+---+---+---+-----+---+---+----+-----+---+---+----+----+-----+----+\n",
      "only showing top 20 rows\n",
      "\n"
     ]
    }
   ],
   "source": [
    "cooccurrence(\"obama\",\"Title\", 100)"
   ]
  },
  {
   "cell_type": "code",
   "execution_count": 20,
   "id": "7bd5b38e",
   "metadata": {},
   "outputs": [
    {
     "name": "stderr",
     "output_type": "stream",
     "text": [
      "23/11/21 10:43:13 WARN TaskSetManager: Stage 118 contains a task of very large size (6245 KiB). The maximum recommended task size is 1000 KiB.\n",
      "23/11/21 10:43:15 WARN TaskSetManager: Stage 120 contains a task of very large size (6245 KiB). The maximum recommended task size is 1000 KiB.\n",
      "23/11/21 10:43:16 WARN TaskSetManager: Stage 121 contains a task of very large size (6245 KiB). The maximum recommended task size is 1000 KiB.\n",
      "                                                                                \r"
     ]
    },
    {
     "name": "stdout",
     "output_type": "stream",
     "text": [
      "+-----------+---+----+----+---+-----+-----+-----+-------+---+---+---+----+----+---+---+----+---+---+-----+--------+--------+---+---+----+----+---+-----+-----+--------+----+------+------+----+----+-----+---+----+-------------+----+---+------+-------+---+---------+------+-------+------+---+---+----+------+---+---+---+---+----------+---+---+---+----+---------+-----------+------------+-----+------+---------+---+----+------+------+----+----+------+----------+--------+-----+--------+-------+------+-----+---+-----+-----+---+----+---+-----+-----+---+---+---+---+-----+----+----+---+----+----+-----+-----+\n",
      "|   col__col|  1|2015|2016|  a|abbas|about|after|against| al| an|and|anti|arab| as| at|bank| be| by|calls|children|conflict|day| de|down|east| eu|first|flood|flooding| for|forces|france|from|gaza|hamas|how|  in|international|into| is|israel|israeli| it|jerusalem|jewish|justice|killed|  l| la|land|leader|man|new| no|not|occupation| of| on|one|over|palestine|palestinian|palestinians|peace|police|president|pro|quot|report|rights|   s|says|school|solidarity|solution|state|students|support|sushma|syria|  t|talks|texas|the|this| to|today|trump|two| un| up| us|visit|week|west|why|will|with|woman|world|\n",
      "+-----------+---+----+----+---+-----+-----+-----+-------+---+---+---+----+----+---+---+----+---+---+-----+--------+--------+---+---+----+----+---+-----+-----+--------+----+------+------+----+----+-----+---+----+-------------+----+---+------+-------+---+---------+------+-------+------+---+---+----+------+---+---+---+---+----------+---+---+---+----+---------+-----------+------------+-----+------+---------+---+----+------+------+----+----+------+----------+--------+-----+--------+-------+------+-----+---+-----+-----+---+----+---+-----+-----+---+---+---+---+-----+----+----+---+----+----+-----+-----+\n",
      "|     killed|  5|   0|   0|  3|    0|    0|    6|      0|  0|  2|  6|   0|   0|  8|  2|   3|  1| 28|    0|      11|       0|  0|  0|   0|  19|  0|    0|    4|      41|   3|     4|     0|   1|   4|    2|  1|  94|            0|   1|  1|    13|     19|  3|        0|     0|      0|   139|  0|  0|   0|     0|  4|  2|  0|  0|         1| 19|  8|  2|   2|       39|         35|          21|    0|    17|        0|  0|   0|     0|     0|   3|   0|     1|         0|       0|    0|       0|      0|     0|    2|  1|    0|   35|  6|   0|  8|    0|    0| 10|  2|  0|  1|    0|   1|   4|  0|   0|   4|   38|    0|\n",
      "|       down|  0|   4|   2|  2|    0|    0|    3|      1|  0|  0|  0|   1|   0|  2|  4|   4|  0|  7|    1|       0|       0|  0|  0|  81|   2|  0|    0|    3|       0|   1|     2|     3|   2|   1|    0|  0|  20|            0|   1|  1|    15|     13|  0|        2|     0|      0|     0|  0|  0|   0|     0|  1|  3|  0|  0|         2| 10|  4|  1|   5|       26|         17|           0|    0|     1|        0|  6|   4|    11|     1|  12|   5|     0|         1|       0|    0|       1|      0|     0|    0|  2|    0|    3|  8|   2| 14|    6|    0|  0|  0|  0|  0|    0|   4|   2|  0|   1|   3|    0|    0|\n",
      "|        for|  2|   4|   4| 98|   17|    3|   16|     20| 15| 15| 76|  32|  12| 33| 31|  12| 18| 13|   76|      15|       9| 15|  1|   1|  11|  9|   13|   13|       1|1198|     5|    13|  16|  21|   14|  7| 213|           15|   7| 48|   239|     59| 26|        8|     7|     51|     3|  3|  0|   0|     5| 27| 71| 10|  5|         8|163| 63|  6|  14|      646|        211|          34|   79|    26|       21| 23|  19|     6|    32| 127|  16|     3|        10|      31|   60|      43|     67|    23|   22| 10|   23|    6|136|   4|235|    1|    4| 28| 68| 16| 31|   17|   9|   9|  9|  20|  30|    1|   16|\n",
      "|      trump|  1|   0|   0|  7|    0|    3|    0|      0|  0|  3| 13|   2|   0|  3|  2|   3|  7|  2|    2|       0|      10|  0|  0|   0|   0|  0|    1|    0|       0|   4|     0|     0|   0|   0|    0|  0|   5|            0|   0|  5|    50|      5|  4|        0|     0|      0|     0|  0|  0|   1|     1|  0|  0|  0|  1|         0| 11| 17|  5|  11|       58|          7|           1|    6|     0|        1|  2|   3|     0|     0|  20|   8|     0|         0|       0|    0|       0|      2|     0|    0|  6|    0|    0| 27|   0| 25|    0|   87|  0|  5|  1|  1|    0|   0|   3|  1|   2|   6|    0|    0|\n",
      "|          s|  1|   3|  11| 70|   26|   12|   13|     20| 17| 14| 84|  13|  21| 26| 48|  14| 21| 13|    9|      17|      12|  9| 11|  12|  19|  6|   20|    0|       1| 127|     3|    11|  16|  15|    7| 15| 227|            7|  12| 53|   251|     38| 41|        8|     8|      7|     3| 13| 11|   7|     7|  7| 34| 18| 28|        19|200|114|  9|  24|      604|        152|          16|   32|    12|       16| 26|  13|     8|     5|1111|  28|     3|         6|       8|   39|       3|     30|     8|   17| 28|    7|    9|176|   4|240|    2|   20| 10| 36|  5| 13|   23|   2|  12|  6|  11|  36|    2|   24|\n",
      "|    support|  0|   0|   0|  3|    8|    0|    3|      1|  0|  0| 11|   1|   2|  1|  1|   3|  0|  3|    2|       1|       1|  0|  0|   0|   0|  6|    0|    2|       0|  67|     2|     1|   2|   2|    0|  0|  31|            6|   0|  2|    14|      1|  2|        0|     1|      1|     0|  2|  0|   0|     0|  0|  2|  0|  2|         0| 25|  7|  0|   5|       80|         37|           4|    3|     0|        6|  2|   0|     1|     1|  30|   2|     1|         1|       2|   12|       1|    154|     1|    1|  1|    2|    0|  8|   0| 69|    1|    2|  3|  6|  0|  7|    0|   0|   3|  4|   6|   2|    0|    4|\n",
      "|     school| 16|   0|   0|  2|    0|    1|    9|      0|  1|  3|  2|   1|   1|  2| 11|   1|  0|  1|    0|       2|       0|  0|  0|   0|   1|  0|    0|    0|       0|   3|     0|     0|   0|   2|    0|  0|  24|            0|   0|  2|     4|      7|  0|        0|     2|      0|     1|  0|  0|   0|     0|  1|  2|  0|  0|         1|  7|  6|  2|   1|       46|          7|           1|    2|    16|        0|  3|   0|     3|     1|   3|   1|    75|         0|       0|    0|       2|      1|     0|    1|  0|    0|    2|  4|   0| 11|    0|    0|  0|  0|  0|  2|    1|   0|   2|  0|   0|   8|    0|    0|\n",
      "|       gaza|  1|   0|   0| 10|    1|    2|    5|      0|  2|  0|  6|   0|   0|  4|  8|  12|  3|  6|    3|       6|       0|  2|  4|   1|   0|  2|    2|    0|       0|  21|     3|     0|   9| 173|   12|  1|  76|            0|   2|  1|    27|     32|  0|        3|     1|      0|     4|  0|  1|   1|     0|  0|  4|  2|  3|         1| 32| 16|  1|   5|       34|         33|           6|    0|     0|        0|  1|   4|     1|     0|  15|   3|     2|         1|       2|    4|       0|      2|     0|    1|  0|    1|    0| 12|   0| 37|    0|    0|  5|  4|  2|  0|    2|   0|  11|  0|   1|   8|    2|    0|\n",
      "|   children|  1|   0|   0|  1|    1|    1|    0|      0|  0|  2| 14|   0|   1|  5|  8|   0|  0|  4|    0|      89|       1|  2|  0|   0|   0|  0|    1|    4|       7|  15|     2|     0|   3|   6|    1|  0|  31|            1|   2|  0|    15|     15|  0|        0|     2|      1|    11|  0|  0|   0|     0|  3|  3|  1|  0|         0| 14|  4|  2|   1|       37|         33|           1|    1|     2|        0|  1|   0|     0|     1|  17|   1|     2|         1|       0|    0|       1|      1|     0|    0|  1|    0|    4| 13|   0| 11|    0|    0|  1|  1|  1|  2|    1|   0|   0|  0|   0|   7|    4|    0|\n",
      "|palestinian|  7|   1|   5|135|   28|   21|   51|     15| 24| 17|110|  11|  19| 32| 67|  36| 28| 78|   19|      33|      41| 27|  3|  17|  12| 12|    5|    0|       0| 211|    28|    26|  75|  33|   16| 23| 351|           22|  21| 82|   245|    293| 19|       30|    16|      6|    35|  1|  0|  22|    18| 15| 43| 16| 18|        18|347|121| 19|  47|       59|       1762|           1|   48|     8|       36| 46|  12|     9|    28| 152|  29|     7|        29|       8|   61|      15|     37|     8|   13| 16|   15|    1|281|  17|461|    3|    7| 21| 58| 13| 28|   11|   5|  31| 21|  29|  85|   15|   14|\n",
      "|      hamas|  0|   0|   0|  6|    1|    0|    2|      3|  0|  0|  5|   0|   0|  1|  3|   1|  0|  3|    1|       1|       0|  0|  0|   0|   1|  0|    1|    0|       0|  14|     0|     2|   0|  12|   80|  1|  24|            0|   0| 10|     7|      3|  4|        0|     0|      0|     2|  0|  0|   1|     5|  0|  1|  0|  3|         0| 13|  1|  0|   0|       19|         16|           2|    4|     0|        1|  0|   4|     1|     0|   7|   7|     0|         0|       0|    3|       0|      0|     0|    0|  3|    3|    0|  9|   0| 24|    0|    0|  1|  1|  0|  3|    0|   1|   1|  3|   4|   6|    0|    0|\n",
      "|       this|  0|  19|  24|  2|    2|    3|    0|      0|  0|  3|  4|   0|   1|  0|  0|   0|  1|  0|    0|       0|       2|  3|  0|   2|   0|  1|    0|    0|       0|   4|     0|     2|   1|   0|    0|  0|  53|            0|   2| 16|     5|      7|  0|        2|     2|      0|     0|  0|  0|   2|     0|  1|  1|  0|  0|         1|  5|  5|  2|   0|       58|         17|           3|    2|     0|        0|  0|   0|     0|     2|   4|   0|     0|         0|       0|    0|       0|      0|     0|    0|  2|    0|    0| 20|  89| 12|    0|    0|  0|  0|  0|  2|    1|  78|   0|  4|   1|   1|    1|    1|\n",
      "|         in| 30|  43|  47|118|   27|    8|   51|     21| 26| 34|140|  11|  28| 32| 40|  83| 30| 60|   20|      31|      49| 21|  1|  20|  84| 20|   35|   13|      73| 213|    26|    13|  34|  76|   24| 14|2336|           15|   5| 73|   316|    166| 24|       47|    17|     48|    94|  1|  1|  18|     6| 45| 66| 30| 18|        11|358|108| 25|  44|     1179|        351|          77|   57|    42|       17| 17|  21|    10|    23| 227|  37|    24|        16|      21|   42|      48|     31|    17|   43| 13|   21|   82|340|  53|423|    4|    5| 48| 52| 29| 36|   12|  79|  81| 10|  20|  93|   55|   49|\n",
      "|         is|  0|   0|   0| 80|    7|   11|    3|      3|  5| 12| 34|   3|   9|  6|  6|   2|  5| 12|    1|       0|      15|  8|  2|   1|   1|  1|    1|    0|       0|  48|     3|     0|  13|   1|   10| 11|  73|            2|   5|373|    84|     32| 28|        2|     4|      7|     1|  0|  0|   5|     1|  2| 12| 10| 21|         8| 66| 26|  8|   4|      164|         82|           7|   21|     0|        4|  8|  14|     0|     7|  53|  21|     2|         4|       7|    8|       3|      2|     0|    7|  4|    0|    0|114|  16| 79|    1|    5|  7|  2|  3|  9|    0|   1|   2| 26|   2|  22|    3|    7|\n",
      "|        why|  0|   0|   1|  7|    2|    3|    0|      1|  0|  1| 15|   0|   0|  1|  0|   1|  0|  0|    1|       0|       3|  0|  0|   0|   0|  0|    0|    0|       0|   9|     0|     1|   2|   0|    3|  1|  10|            0|   1| 26|    18|      6|  8|        1|     2|      0|     0|  0|  0|   1|     1|  0|  0|  1|  0|         0| 19|  4|  0|   3|       29|         21|           2|    3|     0|        1|  3|   0|     0|     0|   6|   0|     0|         3|       1|    1|       0|      4|     0|    4|  8|    2|    0| 36|   4| 13|    0|    1|  1|  0|  2|  2|    0|   0|   1| 84|   1|   3|    0|    0|\n",
      "|  president|  0|   0|   3|  4|   23|    1|    3|      0|  2|  3|  1|   0|   0|  8|  5|   0|  1|  2|   12|       0|       0|  0|  0|   0|   1|  0|    0|    0|       0|  21|     0|     0|   2|   0|    1|  0|  17|            2|   0|  4|    20|      5|  0|        1|     0|      0|     0|  0|  0|   1|     1|  0|  1|  1|  0|         2| 36|  9|  0|   1|       52|         36|           1|    3|     1|      111|  0|   0|     0|     0|  16|   0|     0|         0|       0|   12|       0|      6|     2|    2|  0|    1|    0| 13|   0| 38|    0|    1|  3|  1|  0|  3|    7|   0|   1|  1|   3|   3|    0|    1|\n",
      "|      talks|  0|   0|   2|  3|    0|    6|    1|      0|  1|  1| 14|   0|   0|  1|  2|   1|  1|  3|    5|       0|       1|  0|  0|   0|   4|  6|    0|    0|       0|  23|     0|    16|   5|   1|    3|  1|  21|            1|   1|  0|    53|      8|  2|        0|     0|      0|     0|  2|  0|   0|     0|  0|  1|  3|  2|         0| 19| 12|  0|   5|       75|         15|           5|   29|     0|        1|  0|   0|     1|     0|   7|   3|     0|         0|       1|    4|       0|      2|     5|    4|  1|  114|    0| 11|   0| 37|    0|    0|  3|  4|  0|  4|    0|   0|   0|  2|   6|  20|    0|    3|\n",
      "|         eu|  0|   0|   1|  2|    1|    1|    0|      0|  0|  3| 10|   1|   0|  0|  1|   1|  0|  1|    5|       0|       2|  0|  0|   0|   2| 79|    0|    0|       0|   9|     0|     0|   2|   2|    0|  0|  20|            2|   1|  1|    28|      6|  0|        0|     0|      0|     0|  1|  0|   1|     0|  0|  4|  0|  4|         0| 12| 17|  0|   7|       49|         12|           2|    6|     0|        0|  0|   0|     4|     0|   6|   0|     0|         0|       1|    1|       0|      6|     0|    0|  0|    6|    0|  9|   1| 31|    0|    0|  1|  0|  0|  1|    1|   0|   1|  0|   0|   4|    0|    3|\n",
      "|   flooding|  1|   0|   0|  0|    0|    0|   14|      0|  0|  0|  5|   0|   0|  0|  0|   0|  0|  8|    3|       7|       0|  0|  0|   0|  19|  0|    0|    0|      95|   1|     0|     0|   1|   0|    0|  0|  73|            0|   0|  0|     0|      0|  0|        0|     0|      0|    41|  0|  0|   0|     0|  0|  0|  0|  0|         0|  8|  1|  2|   0|       40|          0|           0|    0|    18|        0|  0|   0|     0|     0|   1|   0|     0|         0|       0|    0|       0|      0|     0|    0|  0|    0|   48| 15|   0| 10|    0|    0|  0|  0|  0|  0|    0|   0|   0|  0|   0|   1|   29|    0|\n",
      "|      state|  2|   0|   7| 50|   23|    3|    4|      3|  4|  2| 20|   1|   2|  8| 14|   0|  6|  5|    4|       0|       8|  2|  0|   0|   8|  1|    3|    0|       0|  60|     0|    13|   1|   4|    3|  2|  42|            1|   7|  8|    49|      8|  6|        6|     2|      2|     0|  0|  1|   2|     4|  0| 18|  7|  6|         0|115| 29| 10|   2|      175|         61|           2|    2|     1|       12|  0|   2|     4|     0|  39|  13|     0|         3|      44|  292|       2|     12|     0|    0| 10|    4|    5| 42|   0| 93|    0|    0| 50| 11|  1|  8|    2|   0|   1|  1|  18|  11|    0|    1|\n",
      "+-----------+---+----+----+---+-----+-----+-----+-------+---+---+---+----+----+---+---+----+---+---+-----+--------+--------+---+---+----+----+---+-----+-----+--------+----+------+------+----+----+-----+---+----+-------------+----+---+------+-------+---+---------+------+-------+------+---+---+----+------+---+---+---+---+----------+---+---+---+----+---------+-----------+------------+-----+------+---------+---+----+------+------+----+----+------+----------+--------+-----+--------+-------+------+-----+---+-----+-----+---+----+---+-----+-----+---+---+---+---+-----+----+----+---+----+----+-----+-----+\n",
      "only showing top 20 rows\n",
      "\n"
     ]
    }
   ],
   "source": [
    "cooccurrence(\"palestine\",\"Title\", 100)"
   ]
  },
  {
   "cell_type": "code",
   "execution_count": 21,
   "id": "a425996a",
   "metadata": {},
   "outputs": [
    {
     "name": "stderr",
     "output_type": "stream",
     "text": [
      "23/11/21 10:43:22 WARN TaskSetManager: Stage 140 contains a task of very large size (6245 KiB). The maximum recommended task size is 1000 KiB.\n",
      "23/11/21 10:43:24 WARN TaskSetManager: Stage 142 contains a task of very large size (6245 KiB). The maximum recommended task size is 1000 KiB.\n",
      "23/11/21 10:43:25 WARN TaskSetManager: Stage 143 contains a task of very large size (6245 KiB). The maximum recommended task size is 1000 KiB.\n",
      "                                                                                \r"
     ]
    },
    {
     "name": "stdout",
     "output_type": "stream",
     "text": [
      "+---------+-----+---------+-----+-----+-----+\n",
      "| col__col|    a|microsoft|   of|  the|   to|\n",
      "+---------+-----+---------+-----+-----+-----+\n",
      "|        a|26888|    18830|12573|24274|15144|\n",
      "|       to|15144|    21940|12669|30401|33967|\n",
      "|microsoft|18830|    35156|16732|37207|21940|\n",
      "|       of|12573|    16732|23089|27267|12669|\n",
      "|      the|24274|    37207|27267|80245|30401|\n",
      "+---------+-----+---------+-----+-----+-----+\n",
      "\n"
     ]
    }
   ],
   "source": [
    "cooccurrence(\"microsoft\",\"Headline\", 5)"
   ]
  },
  {
   "cell_type": "code",
   "execution_count": 22,
   "id": "bf53fcca",
   "metadata": {},
   "outputs": [
    {
     "name": "stderr",
     "output_type": "stream",
     "text": [
      "23/11/21 10:43:28 WARN TaskSetManager: Stage 162 contains a task of very large size (6245 KiB). The maximum recommended task size is 1000 KiB.\n",
      "23/11/21 10:43:30 WARN TaskSetManager: Stage 164 contains a task of very large size (6245 KiB). The maximum recommended task size is 1000 KiB.\n",
      "23/11/21 10:43:31 WARN TaskSetManager: Stage 165 contains a task of very large size (6245 KiB). The maximum recommended task size is 1000 KiB.\n",
      "                                                                                \r"
     ]
    },
    {
     "name": "stdout",
     "output_type": "stream",
     "text": [
      "+--------+---+----+---+----+----+-----+-----+---+----+----+---------+---+-----+----+----+----+-----+----+----+-----+--------+----+----+---+-----+-------+----+----+-------+-----+-----+----+------+----+----+---+-----+----+-----+----+----+----+----+------+----+-----+---------+------+----+----+----+---+---+----+------+----+----+---+---+----+--------+----+----+--------+-----+----+--------+--------+----+-------+----+----+----------+----+----+-----+-----+----+----+----+----+-----+---+----+------+-----+-------+----+---+----+----+----+-----+----+-------+----+----+----+----+----+\n",
      "|col__col|  1|  10|  2|2016|   a|about|after|all|  an| and|announced|app|apple| are|  as|  at|azure|  be|been|build|business| but|  by|can|cloud|company|corp|data|devices|first|  for|from|google| has|have| if|   in|into|   is|  it| its|just|last|latest|like|lumia|microsoft|mobile|more|msft| new|not|now|  of|office|  on| one| or|out|over|platform| pro|quot|released|    s|said|services|software|some|surface|   t|tech|technology|than|that|  the|their|they|this|time|  to|today|two|  up|update|users|version| was| we|week|what|when|which|will|windows|with|xbox|year| you|your|\n",
      "+--------+---+----+---+----+----+-----+-----+---+----+----+---------+---+-----+----+----+----+-----+----+----+-----+--------+----+----+---+-----+-------+----+----+-------+-----+-----+----+------+----+----+---+-----+----+-----+----+----+----+----+------+----+-----+---------+------+----+----+----+---+---+----+------+----+----+---+---+----+--------+----+----+--------+-----+----+--------+--------+----+-------+----+----+----------+----+----+-----+-----+----+----+----+----+-----+---+----+------+-----+-------+----+---+----+----+----+-----+----+-------+----+----+----+----+----+\n",
      "|     for|293|1516|483| 534|7103|  480|  376|523|1242|5784|     1024|812|  297| 855|1595|1083|  366|1197| 757|  427|     659| 858| 775|537|  674|   1316| 336| 377|    395|  533|11658| 779|   347|2859| 836|344| 3983| 371| 3422|2914|2876| 438| 424|   390| 349|  293|    10097|   513| 677| 207|1974|500|842|5659|   706|2773|1025|476|655| 281|     405| 370|1265|     457| 3992| 477|     355|     742| 483|    699| 580| 336|       379| 303|3055|13866|  746| 344|1044| 454|7190|  754|320| 562|   682|  939|    417| 749|339| 411| 362| 339|  713|1439|   2646|1989| 803| 596| 993| 324|\n",
      "|       s|370|1420|488| 515|8083|  763|  533|580|1352|6594|      718|739|  701|1026|1936|1708|  391|1327| 866|  512|     637|1304|1221|704|  865|   2262| 530| 615|    404|  756| 3992|1278|   635|2627| 951|510| 5401| 592| 3971|4368|2596| 516| 596|   522| 476|  443|    12794|   551| 888| 351|2027|694|808|7711|   542|3729|1397|585|657| 536|     509| 476|1561|     250|15507| 658|     341|     721| 509|    928| 790| 496|       478| 557|4119|17003|  689| 332|1247| 459|9399|  627|391| 688|   401|  794|    403| 937|571| 497| 589| 497|  802|1479|   2565|2634| 993| 746|1257| 430|\n",
      "|business| 78|  84| 40|  64| 848|   53|   47| 54| 122| 797|      160| 48|   35| 110| 216| 157|   58| 108|  63|   19|    1336| 100| 147| 52|  282|    233| 110|  77|     26|   66|  659| 144|    46| 293|  78| 16|  599|  95|  443| 341| 512|  53|  65|    31|  34|   35|     1331|   102|  92|  48| 238| 46| 94| 836|   124| 354|  49| 35| 48|  25|      34|  16| 157|      15|  637|  99|      90|     136|  33|     43|  49|  42|        66|  45| 371| 1520|   86|  34|  75|  26| 993|   95| 47|  96|    12|  113|     25|  84| 21|  36|  35|  45|  109| 207|    132| 306|  17|  71|  42|  29|\n",
      "|services| 35|  21| 20|  59| 613|   41|   29| 43|  87| 850|      162| 23|   15|  72| 188|  80|  236|  89|  50|   36|      90|  39| 112| 51|  468|    130|  87|  97|     22|   32|  355| 120|    41| 234|  79| 20|  488|  51|  251| 244| 394|  20|  16|    17|  27|    1|     1030|    45|  89|  23| 168| 32| 73| 664|   101| 289|  44| 36| 25|  48|      72|   4| 173|       9|  341|  71|     931|      93|  51|      5|  22|  39|        54|  30| 272| 1072|   72|  32|  56|   8| 861|   90| 33|  61|    17|   63|     24|  42| 19|  14|  37|  29|   67| 194|     47| 202|  26|  36|  42|  26|\n",
      "|    this| 89| 428|101| 151|1887|  173|   74|149| 337|1474|      267|138|   92| 271| 523| 471|   78| 387| 207|  160|      75| 316| 273|145|  152|    324|  68|  69|     95|  197| 1044| 288|   108| 633| 225|136| 1290| 101| 1157| 785| 729| 118| 114|    78| 120|   78|     3007|   173| 211|  97| 547|181|149|1756|   128| 761| 372|136|168|  95|      97|  96| 359|     121| 1247| 103|      56|     153| 104|    191| 220|  94|        84|  99| 923| 3625|  191| 121|2636| 181|2185|  146|119| 183|   222|  178|    119| 257|187| 622| 112| 140|  152| 428|    687| 659| 294| 406| 339|  92|\n",
      "|      in|527|1300|598| 586|8586|  589|  515|531|1585|6705|     1118|466|  545|1116|1875|1580|  421|1421| 800|  394|     599| 959|1286|480| 1092|   1745| 579| 740|    400|  701| 3983|1220|   530|3101|1000|401|14958| 425| 3924|3417|3620| 431| 595|   384| 391|  467|    12513|   515| 801| 461|1983|490|777|7378|   579|3344|1122|462|616| 540|     337| 375|1554|     320| 5401| 916|     488|     684| 487|    851| 617| 607|       528| 528|3777|18419|  834| 378|1290| 416|9330|  716|481| 734|   404|  694|    285|1076|553| 439| 434| 510|  945|1820|   2184|2661| 786| 824| 956| 314|\n",
      "|    have| 77| 303| 83|  67|1659|  134|   84|146| 248|1732|      154| 89|  136| 245| 400| 242|   67| 305| 495|   70|      78| 300| 241|141|  149|    219|  65|  99|     98|  107|  836| 238|   155| 438|2225|179| 1000|  78|  539| 663| 432|  88| 113|    73|  83|  100|     2349|   120| 207|  64| 369|141|214|1435|   112| 672| 254|148|148| 132|      64| 105| 307|      65|  951| 119|      79|     112| 169|    215| 230|  78|        74|  83| 899| 3256|  279| 217| 225|  92|2304|   98| 86| 147|    99|  291|     44| 137|201|  75| 101| 116|  183| 356|    536| 503| 179| 149| 424|  75|\n",
      "|    your| 17| 149| 40|  11| 716|   52|   33| 81| 147| 539|       35|120|   13|  90| 136| 103|   15| 124|  33|   20|      29| 105|  78|175|   26|     60|   3|  32|     35|   41|  324| 112|    23| 200|  75|158|  314|  68|  354| 334| 153|  83|  16|    44|  58|   16|      883|    24|  77|   7| 199| 65| 75| 481|    57| 388|  95|159| 67|  52|      11|  30| 128|      27|  430|  22|      26|      27|  39|     45|  87|  23|        15|  37| 340|  978|   40|  34|  92|  40| 894|   37| 24|  79|    56|   62|     37|  39| 41|  21|  50|  40|   51| 129|    288| 274|  67|  26| 635|1051|\n",
      "|    corp| 69|  51|102|  76| 734|   46|   82| 29|  90| 563|      138|  5|   26|  69| 180| 122|   32|  68|  28|   20|     110|  31| 208|  8|  149|    234| 938|  53|     27|   24|  336| 117|    39| 235|  65|  4|  579|  87|  213| 255| 373|  18|  21|    50|  21|    6|     1093|    31|  73| 106| 132| 47| 15| 612|    30| 413|  64| 30| 26|  48|      37|   2| 183|       7|  530| 204|      87|     145|  21|      8|  21|  44|        64|  63| 268| 1301|   97|  19|  68|  17| 838|   45| 43|  60|     7|   42|     27|  97| 14|  55|  44|  18|   79| 165|     88| 240|  70|  37|   8|   3|\n",
      "|     are| 82| 316|109| 108|1407|  173|   84|144| 236|1798|      142| 89|  120|2340| 409| 300|   59| 315| 134|   81|     110| 255| 266|125|  196|    261|  69| 116|    119|  102|  855| 247|   140| 425| 245|155| 1116|  86|  648| 490| 437|  87|  88|    93|  86|  122|     2338|    95| 247|  88| 422|164|251|1532|   146| 718| 240|138|152|  94|      65| 146| 283|      68| 1026| 136|      72|     106| 176|    240| 155| 114|        88| 155| 932| 3271|  295| 223| 271|  79|2050|  128|156| 192|    98|  225|     44|  82|231|  82| 128|  90|  222| 222|    582| 533| 168| 124| 351|  90|\n",
      "|      is|293|1393|355| 374|6461|  543|  347|481|1019|5035|      563|551|  333| 648|1567|1129|  281|1023| 414|  315|     443| 999| 897|476|  581|   1307| 213| 375|    370|  514| 3422| 934|   330|1591| 539|411| 3924| 385|10387|2804|2736| 382| 315|   333| 345|  405|     9516|   512| 741| 254|1666|523|943|5433|   431|2633|1190|511|510| 382|     341| 464|1124|     194| 3971| 373|     251|     637| 372|    816| 467| 319|       353| 435|3280|13356|  567| 287|1157| 328|7871|  560|239| 568|   383|  669|    350| 375|326| 273| 450| 308|  893|1005|   2395|2249| 741| 483| 908| 354|\n",
      "|    said| 85| 185| 98|  43| 987|   88|  120| 51| 165| 795|       72| 34|   58| 136| 215| 182|   28| 198|  57|   27|      99| 114| 176| 40|  157|    344| 204|  91|     81|   44|  477| 135|    42| 310| 119| 58|  916|  42|  373| 662| 427|  21|  74|    41|  38|   27|     1471|    63| 130|  37| 169| 82| 52| 906|    45| 589| 134| 49| 49|  48|      48|  33| 583|      18|  658|1259|      71|     125|  60|     54|  61|  73|        74|  95| 563| 2102|  116|  61| 103|  27|1229|   68| 50|  91|    80|  106|     36| 196|103|  75|  60|  60|  118| 331|    307| 307| 128| 114|  36|  22|\n",
      "|    than| 55| 177| 69|  31| 741|   69|  100| 38|  85| 607|       64| 23|   49| 155| 158| 137|   26| 133|  60|   27|      45| 127| 134| 36|   71|    162|  63|  26|     74|   61|  303| 105|    49| 253|  83| 44|  528|  60|  435| 392| 310|  56|  47|    27|  43|   37|     1067|    42| 534|  37| 162| 59| 90| 659|    47| 347| 145| 45| 58|  34|      33|  52| 140|      22|  557|  95|      30|      75|  41|     97|  46|  43|        21| 917| 356| 1518|  108|  47|  99|  23| 781|   41| 44|  54|    48|   80|     36| 137| 44|  47|  35|  40|   93| 163|    261| 235|  91|  83|  84|  37|\n",
      "| surface|103|  93|224|  54|1530|  114|   74|106| 207|1363|      109| 12|  165| 240| 251| 193|    3| 269| 196|   14|      43| 285| 192|142|    8|    179|   8|  23|    261|  149|  699| 184|    16| 563| 215| 93|  851|  71|  816| 526| 576|  99| 126|    86|  93|   44|     2126|    29| 167|  34| 369|113|171|1292|    17| 526| 176|124|119|  81|       6|1440| 180|     106|  928|  54|       5|      55| 170|   3067| 140|  48|        26|  97| 669| 3588|   75|  81| 191|  84|1299|  123| 92| 138|    84|   95|     60| 174| 91|  55|  46|  87|  145| 225|    186| 525|  39| 135| 230|  45|\n",
      "|     but| 78| 420| 81|  69|1733|  187|   70|168| 265|1103|      102|110|  113| 255| 399| 293|   36| 427| 238|   96|     100|2053| 198|181|  108|    323|  31|  72|    114|  139|  858| 250|    93| 676| 300|164|  959| 101|  999|1156| 637| 129| 107|    76| 167|  140|     2365|   150| 232|  49| 353|364|234|1425|    89| 720| 315|149|164|  97|      95| 162| 263|      69| 1304| 114|      39|     140| 149|    285| 413|  83|        56| 127| 851| 3570|  140| 115| 316| 128|2029|  119| 89| 159|   119|  176|     46| 290|185|  92| 137| 128|  133| 285|    708| 512| 161| 146| 363| 105|\n",
      "|released| 32| 228| 33|  68| 670|   28|   45| 32| 112| 422|       33|108|   24|  68| 143|  59|   31| 100|  63|  103|      15|  69|  58| 44|   24|    124|   7|  15|     47|   93|  457|  58|    21| 337|  65| 27|  320|  21|  194| 241| 242|  84|  71|    61|  31|   42|      938|    63|  53|  22| 273| 45| 57| 546|    67| 294|  94| 31| 33|  19|      25|  51|  92|     799|  250|  18|       9|      50|  35|    106|  43|  19|        19|  22| 302| 1285|   64|  33| 121|  24| 591|  131| 41|  20|   192|   70|     93| 113| 21|  51|  29|  26|   82|  77|    379| 155|  74|  66|  63|  27|\n",
      "|    what| 28| 119| 26|  41| 707|  136|   39| 47| 122| 549|       44| 67|   19| 128| 165| 133|   14| 187|  77|   43|      35| 137| 105| 85|   51|    139|  44|  29|     39|   57|  362|  92|    24| 235| 101| 69|  434|  36|  450| 403| 248|  53|  43|    25|  62|   25|      935|    36| 104|  18| 142| 52| 55| 612|    52| 343|  81| 60| 69|  38|      44|  34| 198|      29|  589|  60|      37|      53|  74|     46|  86|  22|        37|  35| 338| 1281|   84|  85| 112|  35| 813|   52| 40|  59|    57|   57|     22|  89| 94|  39| 815|  63|   55| 139|    211| 206|  58|  61| 218|  50|\n",
      "|      if| 28| 196| 52|  24| 885|   67|   27| 65| 131| 519|       39| 85|   28| 155| 183| 138|    9| 204| 108|   43|      16| 164| 107|135|   25|    105|   4|  37|     48|   50|  344| 105|    35| 244| 179|916|  401|  38|  411| 466| 192|  57|  49|    40|  73|   52|     1042|    38|  89|   9| 162| 84|110| 584|    80| 348| 137|169| 98|  38|      16|  49|  75|      27|  510|  58|      20|      56|  49|     93| 177|  19|        22|  44| 406| 1430|   80|  92| 136|  48|1008|   52| 23|  67|    61|   88|     47|  79|107|  41|  69|  44|   70| 130|    335| 239|  85|  47| 942| 158|\n",
      "|      up| 80| 187| 56|  61|1073|   83|  102| 82| 200| 923|      113| 77|   56| 192| 261| 163|   46| 197|  91|   59|      96| 159| 189|101|  116|    195|  60|  66|     48|   91|  562| 182|    48| 449| 147| 67|  734|  50|  568| 518| 541|  69|  87|    61|  46|   38|     1607|    61| 127|  50| 279| 79|112| 935|    52| 596| 133| 86| 75|  77|      51|  57| 179|      20|  688|  91|      61|     114|  65|    138| 109|  91|        91|  54| 498| 2221|  126|  72| 183|  52|1731|   85| 62|1452|    56|  116|     39| 120| 68|  70|  59|  68|  111| 223|    264| 507| 120| 110| 215|  79|\n",
      "|       t| 42| 282| 55|  47|1090|  115|   55| 96| 192| 811|       73| 90|   94| 155| 284| 272|   21| 320| 153|   62|      49| 413| 124|198|   42|    229|  21|  63|     61|   97|  580| 185|    44| 351| 230|177|  617|  61|  467| 770| 380| 114|  73|    60| 115|   93|     1565|    89| 103|  34| 232| 75|125| 913|    64| 460| 179|120|130|  75|      44|  55| 145|      43|  790|  61|      22|      79| 100|    140|1457|  42|        52|  46| 699| 2347|   87| 128| 220|  66|1360|   62| 60| 109|    81|  115|     29| 153|151|  64|  86| 150|  102| 154|    471| 323| 118|  89| 397|  87|\n",
      "+--------+---+----+---+----+----+-----+-----+---+----+----+---------+---+-----+----+----+----+-----+----+----+-----+--------+----+----+---+-----+-------+----+----+-------+-----+-----+----+------+----+----+---+-----+----+-----+----+----+----+----+------+----+-----+---------+------+----+----+----+---+---+----+------+----+----+---+---+----+--------+----+----+--------+-----+----+--------+--------+----+-------+----+----+----------+----+----+-----+-----+----+----+----+----+-----+---+----+------+-----+-------+----+---+----+----+----+-----+----+-------+----+----+----+----+----+\n",
      "only showing top 20 rows\n",
      "\n"
     ]
    }
   ],
   "source": [
    "cooccurrence(\"microsoft\",\"Headline\", 100)"
   ]
  },
  {
   "cell_type": "code",
   "execution_count": 23,
   "id": "eca5ecd5",
   "metadata": {},
   "outputs": [
    {
     "name": "stderr",
     "output_type": "stream",
     "text": [
      "23/11/21 10:43:39 WARN TaskSetManager: Stage 184 contains a task of very large size (6245 KiB). The maximum recommended task size is 1000 KiB.\n",
      "23/11/21 10:43:41 WARN TaskSetManager: Stage 186 contains a task of very large size (6245 KiB). The maximum recommended task size is 1000 KiB.\n",
      "23/11/21 10:43:42 WARN TaskSetManager: Stage 187 contains a task of very large size (6245 KiB). The maximum recommended task size is 1000 KiB.\n",
      "                                                                                \r"
     ]
    },
    {
     "name": "stdout",
     "output_type": "stream",
     "text": [
      "+---------+----+----+----+----+----+----+----+----+-----+-----+---------+-----+----+-----+----+----+----+----+----+----+--------+----+----+-----+-----+-------+----+--------+-------+--------+--------+-------+---------+-----+----+----+------+----------+----+------+----+----+----+----+----+-----+----+-----+----+----+----+----+------+----+--------+----+----+----+----+-----+----+----+----+----+----+-------+---------+------+-------+----+----+------+-----+----+----+-----+---+----+----+-----+-----+-----+----+----+-----+-----+----+----+----+----+----+----+-----+-----+----+----+-----+-----+----+-----+\n",
      "| col__col|   0|   1|   2|2015|2016|   3|   5|   7|    a|about|according|after|  an|  and| are|  as|  at|bank|  be|been|business| but|  by|china|could|country|data|economic|economy|european|expected|federal|financial|first| for|from|global|government|grew|growth| has|have|  he| his|  if|   in|into|   is|  it| its|jobs|last|market| may|minister|more|most| new| not|   of| oil|  on| one|over| per|percent|president|prices|quarter|quot|rate|report|    s|said|says|state|  t|than|that|  the|their|there|they|this|three|   to|   u|  up|  us| was|  we|what|which|while|will|with|world|would|year|years|\n",
      "+---------+----+----+----+----+----+----+----+----+-----+-----+---------+-----+----+-----+----+----+----+----+----+----+--------+----+----+-----+-----+-------+----+--------+-------+--------+--------+-------+---------+-----+----+----+------+----------+----+------+----+----+----+----+----+-----+----+-----+----+----+----+----+------+----+--------+----+----+----+----+-----+----+----+----+----+----+-------+---------+------+-------+----+----+------+-----+----+----+-----+---+----+----+-----+-----+-----+----+----+-----+-----+----+----+----+----+----+----+-----+-----+----+----+-----+-----+----+-----+\n",
      "|     rate| 270| 196| 190| 162| 111| 127| 219| 151| 1301|   73|       83|   74| 281|  753|  99| 352| 628| 269| 169|  46|      25| 200| 367|  159|   75|     63| 131|     260|   1445|      25|     155|    190|       47|  228| 418| 261|   119|        84| 282|   541| 212|  74|  45|  11|  69| 1487|  33|  489| 184| 391| 164| 131|    93|  64|      52| 173|  39| 132|  80| 1408|  57| 460|  38|  62| 200|    531|       35|    74|    420| 237|1680|    52| 1190| 324|  44|   46| 55| 254| 410| 4011|   49|   35|  22| 142|  151| 1160| 285|  70| 185| 154|  32|  33|   96|   54| 171| 205|   82|   48| 315|  125|\n",
      "|  economy|1247|1264|1195|1635|1463|1026|1036|1065|18302| 1897|     1338| 1310|2776|14594|3002|5678|3923|1589|2828|1248|     988|2825|5141| 2623| 1246|   1674|1190|    2486|  31643|     892|    1172|    812|      924| 1684|6603|3490|  3078|      1755|1596|  3601|4478|2227|1283| 962|1055|19750|1037| 9980|4110|3662|1030|1494|  1220| 978|    1639|2435| 841|2478|1646|18784|1275|8207|1040|1347|1057|   2906|     1024|   994|   2631|5463|1445|   977|17446|4322|1022| 1164|954|2414|7117|60011|  827|  948| 764|2689| 1019|19269|2567|1299|1235|2102|1353| 852| 1292|  915|3286|3607| 2380| 1307|4023| 1420|\n",
      "|      for| 308| 358| 371| 452| 554| 243| 282| 223| 6128|  461|      353|  356| 949| 4769|1039|1800|1061| 518|1037| 533|     352| 914|1333|  736|  361|    483| 370|    2162|   6603|     295|     250|    285|      269|  551|9928| 997|   947|       504| 317|  1466|1425| 699| 365| 330| 255| 5226| 258| 2761|1381|1253| 328| 411|   405| 301|     454| 782| 278| 740| 456| 5405| 421|2434| 334| 364| 263|    724|      303|   331|    588|1590| 418|   254| 4673|1186| 240|  258|278| 542|2050|18035|  321|  386| 261| 893|  293| 5320| 673| 438| 343| 611| 383| 298|  433|  276| 933|1120|  729|  396|1304|  582|\n",
      "|        s| 955|1079| 937|1280|1108| 852| 830| 842|13489| 1485|      950| 1136|1884|10634|1927|4374|3096|1674|2012| 921|     739|2190|4015| 3332|  911|   2190|1132|    4525|  17446|     781|     911|    832|      779| 1446|4673|2779|  1855|      1602|1163|  3210|3204|1454| 945| 774| 696|14710| 656| 6391|3425|2820| 637|1299|  1022| 823|    1304|1644| 637|1675|1165|13823|1000|6622| 795|1143| 724|   2607|      979|   767|   2204|3600|1190|   747|29405|3286| 729| 1070|708|1809|5216|40830|  488|  768| 476|1912|  822|14250|3801| 997| 452|1503| 599| 695|  887|  653|2502|2762| 2101|  884|3485| 1060|\n",
      "| business|  30|  44|  31|  64|  50|  26|  18|  28|  943|  104|       93|   39| 115|  884| 168| 317| 187|  55| 107|  40|    1415| 112| 206|   63|   68|     38|  52|     337|    988|      37|      46|     13|       30|   61| 352| 179|   117|        92|  47|   166| 163|  90|  48|  39|  21|  914|  47|  397| 156| 176|  30|  76|    36|  31|      38| 134|  47| 174|  56|  891|  24| 325|  55|  60|  11|     55|       26|    21|    111| 244|  25|    64|  739| 157|  78|   65| 52| 110| 277| 2634|   58|   48|  46| 106|   35|  964| 105|  57|  29|  67|  35|  40|   49|   31| 184| 200|   81|   39| 110|   46|\n",
      "|    years|  66| 111| 102| 144|  96|  80| 109|  66| 1087|   69|       99|  235| 171|  871| 146| 360| 337|  74| 196| 190|      46| 192| 341|  167|   92|    113|  70|     371|   1420|      41|      65|     39|       86|  205| 582| 225|   166|       135| 173|   386| 418| 191|  44|  39|  51| 1784|  69|  484| 273| 423|  44| 170|    66|  67|      68| 230|  54| 139|  88| 1316|  63| 404|  72| 265|  83|    222|       47|    86|    206| 214| 125|    61| 1060| 190|  48|   38| 53| 246| 420| 3778|   43|   55|  39| 135|  157| 1182| 133|  68|  69| 129|  84|  40|   78|   34| 241| 195|  160|   64| 224| 1651|\n",
      "|     this| 112| 184| 214| 162| 185| 217| 171| 166| 2105|  245|      150|  154| 311| 1767| 386| 677| 570| 249| 439| 202|     106| 414| 665|  289|  131|    178| 123|     801|   2689|      92|     258|    101|      134|  218| 893| 400|   344|       214| 103|   621| 532| 286| 134| 104| 151| 2328| 137| 1507| 524| 427|  91| 180|   150| 110|     147| 297|  80| 278| 289| 2447| 112| 889| 160| 132| 174|    481|      100|   106|    237| 666| 142|   117| 1912| 544|  98|   78|130| 294| 911| 6677|   98|  135|  83|3460|   84| 2504| 251| 151| 145| 230| 274| 172|  154|  110| 687| 450|  285|  189|1455|  135|\n",
      "|       in|1833|1651|1507|2453|1956|1489|1314|1533|17976| 1379|     1233| 1346|2698|13033|2427|5219|3859|1465|2309|1077|     914|2343|5288| 2570|  985|   1541|1416|    5571|  19750|     697|    1411|    739|      899| 2304|5226|3415|  2375|      1593|2042|  4898|3694|1956| 777| 823| 692|38884| 668| 7322|3094|3593| 921|1586|  1071|1028|    1183|2103| 806|2094|1229|17201|1355|6880| 920|1166|1354|   4195|      740|  1088|   4044|4291|1487|   961|14710|4067| 746|  908|577|2534|5539|55252|  751|  794| 554|2328| 1314|15862|2170|1271|1004|2282| 999| 673| 1407|  818|2647|3330| 2306|  945|4483| 1784|\n",
      "|     have|  33|  57|  52|  97| 123|  38|  41|  52| 2097|  216|      129|  107| 332| 1778| 316| 584| 365| 120| 236| 535|      90| 389| 372|  264|  161|    192|  99|     813|   2227|     131|      80|     69|      143|  125| 699| 309|   275|       153|  43|   323| 402|3270| 102|  84| 151| 1956| 104|  778| 464| 245|  64| 128|   115| 212|     106| 254|  85| 208| 275| 2019| 212| 878| 119| 175|  48|    121|       76|   192|    125| 644|  74|    62| 1454| 365|  81|  112|152| 176| 914| 5827|  184|  135| 203| 286|   59| 2322| 182| 147| 123| 140| 479| 112|  166|  126| 406| 370|  200|  204| 282|  191|\n",
      "|      are|  25|  71|  72|  88| 165|  61|  61|  56| 2238|  430|      179|  144| 380| 2655|4592| 790| 456| 151| 353| 148|     168| 532| 496|  360|   99|    198| 104|     989|   3002|     103|     138|     70|      155|  110|1039| 458|   392|       183|  31|   444| 426| 316| 106|  77| 163| 2427| 145| 1262| 500| 311| 176| 129|   203|  82|     119| 460| 180| 390| 292| 2754| 213|1064| 147| 214|  64|    113|      111|   245|     83| 800|  99|   107| 1927| 419| 155|  144|156| 290|1278| 7568|  319|  431| 407| 386|   82| 2801| 297| 218| 143|  84| 474| 194|  250|  218| 322| 503|  262|   93| 351|  146|\n",
      "|       is| 195| 354| 333| 411| 531| 313| 333| 354| 7574|  704|      501|  465|1242| 6285|1262|1992|1478| 635|1159| 412|     397|1511|1740| 1017|  274|    810| 356|    2625|   9980|     284|     670|    323|      371|  460|2761|1256|  1183|       711| 128|  1742|1304| 778| 460| 363| 493| 7322| 393|14945|2528|1432| 364| 395|   513| 294|     488| 831| 419|1103|1102| 8116| 478|3004| 702| 408| 385|    740|      407|   329|    416|2585| 489|   358| 6391|1682| 515|  417|337| 803|3861|24711|  289|  765| 240|1507|  214| 8485| 914| 599| 493| 441| 688| 604|  744|  465| 992|1407| 1007|  284|1292|  484|\n",
      "|      his|   8|  13|  22|  32|  71|  15|  10|  16|  703|  109|       15|   83| 149|  622|  77| 265| 194|  34| 122|  48|      39|  94| 157|   41|   33|    136|  11|     350|    962|      15|      18|     26|       28|   81| 330| 146|    65|       118|   9|    96| 276|  84| 335|1477|  37|  823|  48|  363| 126|  49|  40|  54|    17|  20|     265|  73|  32| 105|  77|  887|  26| 576|  56|  54|   9|     38|      296|    16|     13| 378|  11|    27|  774| 242|  71|  139| 42|  63| 408| 2099|   21|   33|  23| 104|   21| 1038|  82|  65|  31| 144|  42|  57|   45|   33| 129| 180|   52|  109|  96|   39|\n",
      "|president|   8|  18|  21|  27|  52|  17|  32|  26|  757|  109|       27|   83| 143|  743| 111| 260| 183| 143| 150|  55|      26|  90| 195|   80|   30|    147|  11|     392|   1024|      50|      23|     81|       33|   41| 303| 100|    87|        95|   9|   124| 319|  76| 194| 296|  35|  740|  71|  407| 134| 126|  35|  59|    43|  54|      80|  72|  32| 120|  69| 1108|  35| 554|  55|  70|   9|     64|     1568|    19|     20| 318|  35|    30|  979| 337|  75|  149| 31|  65| 354| 2630|   33|   47|  24| 100|   20| 1022| 160|  58|  42| 125|  35|  52|   42|   41| 202| 242|   68|   72| 122|   47|\n",
      "|   prices|  34|  53|  50|  68|  80|  57|  37|  30|  850|   86|       34|   74| 122|  937| 245| 366| 175| 110|  95|  87|      21| 158| 260|  115|   55|     94|  65|     242|    994|      22|      66|     29|       44|   56| 331| 187|   230|        85|  41|   165| 274| 192|  28|  16|  36| 1088|  45|  329| 128| 196|  23|  72|    69|  45|      51| 112|  51|  70|  74|  734| 791| 414|  22|  74|  35|    146|       19|  1288|     73| 205|  74|    30|  767| 171|  35|   25| 36| 107| 260| 2373|   44|   34|  23| 106|   48|  839| 117|  56|  37|  82|  25|  35|   67|   52| 144| 219|  102|   51| 230|   86|\n",
      "|     said| 288| 265| 271| 333| 274| 314| 294| 286| 3445|  258|       93|  280| 576| 2601| 419| 908| 784| 614| 671| 151|     157| 491|1091|  532|  244|    469| 172|    1240|   4322|     246|     322|    238|      214|  298|1186| 665|   547|       497| 267|   968| 780| 365| 629| 242| 199| 4067| 157| 1682| 854| 862| 170| 299|   219| 148|     672| 388| 130| 366| 388| 3502| 232|2314| 133| 236| 177|   1000|      337|   171|    470|2209| 324|   228| 3286|4934|  57|  227|139| 446|1583|11417|   78|  193| 121| 544|  215| 3682| 321| 233| 167| 660| 243|  78|  222|  176| 806| 593|  447|  520| 916|  190|\n",
      "|   market|  22|  42|  45|  68|  82|  28|  25|  35| 1199|  141|       56|   75| 144|  990| 203| 336| 209|  73| 171|  88|      36| 185| 261|  343|  112|     71|  96|     287|   1220|      90|      56|    119|      111|   72| 405| 236|   217|        40|  21|   191| 254| 115|  41|  17|  58| 1071|  59|  513| 204| 245|  98|  86|  1605|  65|      39| 190|  57| 143| 117| 1024|  79| 451|  59|  78|  31|     91|       43|    69|     99| 290|  93|    69| 1022| 219|  34|   56| 35| 112| 439| 3497|   51|   46|  49| 150|   27| 1057| 243| 111| 126| 125|  64|  45|   64|   62| 178| 198|  117|   66| 241|   66|\n",
      "|     than| 238| 267| 213| 223| 155| 193| 219| 142| 2095|  156|      193|  146| 240| 1252| 290| 570| 600| 189| 254| 134|     110| 326| 715|  213|  166|    150| 191|     414|   2414|      87|     558|     59|       85|  353| 542| 345|   168|       229| 420|   447| 418| 176|  86|  63|  99| 2534|  70|  803| 436| 377| 129| 230|   112| 129|     104|1328|  87| 227| 126| 1792|  97| 700|  92| 135| 172|    569|       65|   107|    684| 360| 254|   107| 1809| 446|  85|  101| 79|2707| 623| 6072|   93|   67| 107| 294|  171| 1769| 304| 127| 163| 285|  73|  69|  140|   63| 256| 296|  201|  126| 670|  246|\n",
      "| economic| 200| 247| 261| 400| 485| 224| 255| 271| 4682|  480|      358|  278|1004| 4944| 989|1497|1116| 387| 821| 455|     337| 736|1220|  910|  307|    591| 403|    9481|   2486|     225|     236|    207|      300|  353|2162| 940|   863|       579| 150|  2138|1438| 813| 347| 350| 251| 5571| 219| 2625|1049|1009| 181| 364|   287| 237|     481| 509| 283| 660| 511| 6312| 315|2173| 345| 358| 238|    618|      392|   242|    379|1443| 260|   335| 4525|1240| 218|  333|232| 414|2128|15996|  236|  298| 257| 801|  184| 5228| 511| 378| 310| 584| 433| 219|  429|  248|1069|1072|  614|  376| 965|  371|\n",
      "|    three| 304| 109|  92| 215|  80|  86|  86| 107|  840|   38|       71|  122| 129|  532|  82| 255| 260| 115|  88|  34|      35|  84| 301|   39|   27|     38| 123|     184|   1019|      26|      81|     18|       25|  308| 293| 219|    74|        85| 253|   312| 140|  59|  16|  21|  22| 1314|  36|  214| 143| 237|  23| 138|    27|  40|      51| 100|  39|  75|  50| 1110|  43| 405|  37|  74| 128|    388|       20|    48|    357| 147| 151|    27|  822| 215|  33|   19| 38| 171| 253| 3019|   13|   22|  22|  84| 1078|  762| 119|  55|  44| 100|  15|  21|   55|   44|  62| 200|   72|   28| 364|  157|\n",
      "|      but|  84|  85| 106| 167| 151|  99|  75|  86| 2330|  227|      115|  106| 346| 1542| 532| 574| 455| 176| 524| 229|     112|3247| 460|  357|  152|    194| 170|     736|   2825|      99|     141|    120|      111|  233| 914| 381|   346|       198| 146|   588| 610| 389| 159|  94| 132| 2343| 129| 1511| 877| 419| 121| 175|   185| 222|     110| 343| 129| 275| 532| 2271| 165| 947| 176| 215|  82|    207|       90|   158|    301| 582| 200|    95| 2190| 491| 110|  137|276| 326|1004| 7115|  118|  251| 162| 414|   84| 2302| 333| 187| 164| 322| 203| 159|  107|   88| 433| 412|  252|  149| 510|  192|\n",
      "+---------+----+----+----+----+----+----+----+----+-----+-----+---------+-----+----+-----+----+----+----+----+----+----+--------+----+----+-----+-----+-------+----+--------+-------+--------+--------+-------+---------+-----+----+----+------+----------+----+------+----+----+----+----+----+-----+----+-----+----+----+----+----+------+----+--------+----+----+----+----+-----+----+----+----+----+----+-------+---------+------+-------+----+----+------+-----+----+----+-----+---+----+----+-----+-----+-----+----+----+-----+-----+----+----+----+----+----+----+-----+-----+----+----+-----+-----+----+-----+\n",
      "only showing top 20 rows\n",
      "\n"
     ]
    }
   ],
   "source": [
    "cooccurrence(\"economy\",\"Headline\", 100)"
   ]
  },
  {
   "cell_type": "code",
   "execution_count": 24,
   "id": "420f6341",
   "metadata": {},
   "outputs": [
    {
     "name": "stderr",
     "output_type": "stream",
     "text": [
      "23/11/21 10:43:49 WARN TaskSetManager: Stage 206 contains a task of very large size (6245 KiB). The maximum recommended task size is 1000 KiB.\n",
      "23/11/21 10:43:51 WARN TaskSetManager: Stage 208 contains a task of very large size (6245 KiB). The maximum recommended task size is 1000 KiB.\n",
      "23/11/21 10:43:52 WARN TaskSetManager: Stage 209 contains a task of very large size (6245 KiB). The maximum recommended task size is 1000 KiB.\n",
      "                                                                                \r"
     ]
    },
    {
     "name": "stdout",
     "output_type": "stream",
     "text": [
      "+---------+-----+-----+-------+--------------+-----+-------+--------+----+-----+----+----+----+----+------+----+----+----+----+-------+--------+-----+------+------+-----+-----+----+------+----+---+---+----+----+----+-------+-----+-----+---+-----+----+----+----+---+----+------+----+--------+----+----+-----+-----+------+----+----+---+----+------+---------+------------+----+----------+-----+----+----+-----+------+-------+---+----+----+-----+-----+----+----+--------+----+-----+-----+-------+---+----+------+---+----+-----+----+----------+---+---------+----+----+----+-----+-----+----+----+----+-----+-----+----+-----+\n",
      "| col__col|    a|about|address|administration|after|against|american|  an|  and|  ap| are|  as|  at|barack|  be|been| but|  by|clinton|congress|court|donald|during|final|first| for|friday|from|gun|had| has|have|  he|hillary|  his|house|  i|   in|into|  is|  it|its|last|monday|more|national| new| not|obama|   of|office|  on| one|out|over|people|president|presidential|quot|republican|    s|said|says|state|states|supreme|  t|than|that|  the|their|they|this|thursday|time|   to|trump|tuesday|two|   u|united| up|  us|visit| was|washington| we|wednesday|week|what|when|which|white| who|will|with|world|would|year|years|\n",
      "+---------+-----+-----+-------+--------------+-----+-------+--------+----+-----+----+----+----+----+------+----+----+----+----+-------+--------+-----+------+------+-----+-----+----+------+----+---+---+----+----+----+-------+-----+-----+---+-----+----+----+----+---+----+------+----+--------+----+----+-----+-----+------+----+----+---+----+------+---------+------------+----+----------+-----+----+----+-----+------+-------+---+----+----+-----+-----+----+----+--------+----+-----+-----+-------+---+----+------+---+----+-----+----+----------+---+---------+----+----+----+-----+-----+----+----+----+-----+-----+----+-----+\n",
      "|      for| 6136|  399|    220|           713|  515|    279|     230|1081| 4101| 426| 449|1273|1246|  3725| 710| 346| 526| 819|    365|     384|  413|   298|   316|  256|  608|9635|   462| 689|446|238|1279| 498|1822|    269| 2452|  985|333| 4614| 200|1948| 910|337| 323|   343| 602|     264| 631| 604| 8578| 4842|   273|3209| 380|313| 343|   434|     6048|         272|2403|       394| 4132|1148| 264|  542|   232|    308|299| 324|2065|13226|  536| 273| 585|     428| 484| 7202|  385|    590|344| 936|   240|451| 746|  435| 762|       959|276|      475| 309| 295| 333|  311|  945| 641|1183|1422|  322|  404| 562|  390|\n",
      "|    trump|  848|  156|     33|            44|   71|     59|      45| 140|  718|  34| 103| 252| 353|   570| 153|  41| 109| 194|    159|       4|    8|  1121|    65|   26|   54| 385|    98| 105| 22| 31| 210| 104| 362|    120|  403|  113| 85|  648|  50| 448| 133| 17|  39|    45|  60|      29|  58| 201| 1518|  709|    38| 585|  65| 77|  41|    42|     1038|         287| 569|       460|  872| 265|  90|   53|    26|      6|149|  35| 602| 1760|   53|  46|  88|      57|  14|  912| 1651|    129| 15|  91|    30| 48| 102|   11| 169|       126| 40|       66|  26|  61|  59|   25|  101| 121| 103| 189|   62|   84|  14|   28|\n",
      "|        s|10052| 1160|    518|          1493| 1013|    643|     431|1715| 7417| 633|1010|2627|2660|  7523|1353| 694|1236|1951|    639|     400|  924|   616|   785|  472| 1289|4132|   813|1526|503|407|2135| 961|3492|    491| 3644| 1665|619| 9308| 511|3673|2287|606| 697|   726| 879|     641|1059|1207|17170|10466|   539|6568| 911|577| 752|   529|    12164|         564|4160|       664|22704|2239| 667| 1183|   455|    706|767| 512|4707|25253|  590| 510|1288|     768| 494|14475|  872|    911|579|5185|   498|655| 923| 1160|1539|      1744|572|      923| 699| 628| 625|  479| 1515| 883|2183|2915|  643|  854| 931|  464|\n",
      "|   people|  882|  108|     53|           103|  133|     42|     135| 183|  752|  86| 149| 221| 273|   588|  91|  46|  77| 129|     20|      30|   35|    32|    62|   23|   46| 434|   104| 152| 98| 48| 170| 131| 243|     22|  257|  104| 94|  900|  28| 318| 156| 22|  46|    35| 111|      32|  59| 107| 1297| 1001|    38| 602|  69| 46|  41|  1243|      857|          22| 652|        36|  529| 305|  76|   52|    57|     19| 85|  65| 591| 2363|   94|  64|  83|     100|  41| 1299|   42|    110| 59| 140|    78| 64| 112|   58| 122|       112| 95|       50|  28|  49|  39|   56|  106| 156| 160| 220|   45|   60|  60|   33|\n",
      "|    years|  680|   60|     32|            84|  153|     19|      58| 133|  447|  37|  39| 157| 130|   413|  64| 102|  90| 113|     36|      36|   14|    17|    38|   32|  142| 390|    34|  94| 16| 36| 238| 120| 259|     25|  339|  107| 62|  707|  57| 184| 137| 31|  63|    14| 108|      19|  77|  53|  989|  682|    84| 310|  72| 29| 116|    33|      638|          30| 232|        24|  464| 110|  23|   42|    30|      7| 55|  84| 284| 1614|   41|  29|  64|      44|  39|  847|   28|     37| 82|  90|    31| 41|  92|   80| 136|       103| 31|       67|  27|  33|  61|   23|  106|  72| 139| 150|   30|   49|  46|  894|\n",
      "|    court| 1128|   58|      4|           170|   48|     28|      13| 136|  459|  77|  61| 177| 169|   681|  89|  23|  50| 179|     27|      26| 1659|    16|    15|    6|   41| 413|    47| 160|  3| 26| 198| 114| 293|     18|  519|  102| 50|  549|  49| 349| 121| 43|  38|    62|  53|       7|  57|  86| 1461|  918|    22| 713|  66| 34|  83|    35|     1089|           8| 341|       127|  924| 233|  40|   22|    48|   1182| 42|  41| 308| 2723|   64|  44|  50|      93|  47| 1650|    8|     83| 21| 235|    28| 88|  60|   11| 121|       256| 12|      214|  41|  38|  38|   16|  116| 166| 270| 240|    3|  123|  88|   14|\n",
      "|     this| 1483|  184|     71|           152|  127|     60|      85| 253|  983|  68| 146| 359| 423|   919| 280| 113| 244| 277|     98|      67|   50|    58|   107|   53|  224| 585|    82| 188| 84| 67| 290| 177| 494|     90|  534|  289|273| 1532|  72| 808| 287| 66|  82|    55| 131|      49| 140| 242| 2396| 1434|   106| 857| 153|116| 102|    83|     1665|          80| 652|        66| 1288| 381|  59|  136|    78|     38|174|  98| 684| 3459|   92|  81|2457|      86| 148| 1839|   88|     61| 83| 241|    79| 80| 171|  210| 240|       218|181|       69| 561| 127| 187|   63|  261| 160| 492| 462|   86|  100| 300|   64|\n",
      "|       in|13584| 1262|    707|          1239| 1348|    769|     598|2576| 8836| 708|1080|2860|3424|  8603|1568| 662|1202|2147|    679|     545|  549|   492|   980|  719| 1505|4614|  1054|1665|711|548|2633|1086|3910|    488| 5515| 2356|739|25659| 444|3894|1695|652| 840|   888|1138|     598|1202|1179|18796|11698|  1142|7132|1025|704| 719|   900|    13278|         691|5543|       610| 9308|3028| 505| 1525|   762|    390|724| 656|4926|30957|  911| 525|1532|     960| 669|15407|  648|   1070|734|2766|   814|731|1869| 1213|1841|      2315|768|     1102| 802| 632| 879|  655| 2281|1151|2870|3583|  744|  874|1151|  707|\n",
      "|   donald|  652|  107|     25|            34|   49|     49|      34| 105|  541|  33|  78| 179| 284|   513|  99|  33|  71| 142|    114|       4|   16|  1076|    52|   25|   47| 298|    85|  78| 23| 19| 161|  85| 254|    104|  296|   83| 46|  492|  51| 300|  81| 13|  29|    37|  39|      24|  46| 130| 1073|  542|    31| 453|  46| 55|  34|    32|      869|         266| 440|       395|  616| 187|  76|   43|    20|     11| 97|  25| 422| 1336|   43|  34|  58|      56|  13|  688| 1121|    107| 15|  82|    26| 35|  76|   13| 108|       112| 24|       59|  21|  40|  43|   19|   73|  88|  76| 132|   45|   55|  11|   17|\n",
      "|   barack| 9425|  860|    473|           410| 1005|    528|     449|1601| 6893| 993| 717|2371|2762| 13273|1126| 441| 752|1607|    501|     426|  681|   513|   801|  469|  997|3725|   888|1323|488|390|2012| 829|2943|    429| 4184| 1800|369| 8603| 468|2984|1134|416| 500|   688| 718|     573| 825| 835|15411| 8538|   579|6087| 715|493| 541|   588|    12730|         598|4221|       613| 7523|2082| 572| 1069|   543|    553|537| 450|3616|20896|  699| 395| 919|     817| 410|12329|  570|    972|484|2331|   634|551|1850|  989|1142|      2320|376|      953| 534| 382| 624|  364| 1739| 916|2275|2804|  561|  745| 778|  413|\n",
      "|     have| 1218|  197|     34|           217|  117|     75|      61| 216| 1151|  78| 127| 335| 282|   829| 149| 311| 260| 273|     57|      62|  114|    85|    71|   38|  109| 498|    94| 183|108| 85| 218|2038| 446|     42|  537|  142|203| 1086|  61| 369| 247| 50|  80|    64| 146|      37| 120| 226| 2089| 1197|    86| 625| 130| 70| 106|   131|     1321|          79| 681|       108|  961| 405|  95|  112|   100|     92|158| 101| 839| 3020|  145| 152| 177|     101|  53| 1816|  104|     73| 79| 199|    96| 93| 218|   81| 172|       175|203|       81|  64|  94| 101|   85|  126| 255| 247| 324|   48|  208|  93|  120|\n",
      "|      are| 1024|  163|     39|           196|  100|    100|      59| 151| 1308| 102|1932| 306| 259|   717| 153|  56| 159| 219|     68|      48|   61|    78|    45|   41|  113| 449|    66| 191| 99| 28| 162| 127| 253|     53|  381|  155| 76| 1080|  58| 430| 202| 58|  58|    69| 162|      49| 135| 181| 1857| 1045|    57| 664|  70|105|  89|   149|     1215|          74| 755|       113| 1010| 330| 105|  139|    93|     53| 88|  99| 803| 2786|  167| 225| 146|      99|  74| 1636|  103|     82| 74| 220|    89|101| 137|   54|  67|       171|213|       80|  52|  80|  92|   55|  130| 216| 164| 308|   95|   75|  79|   39|\n",
      "|       is| 4725|  494|    188|           827|  382|    289|     220| 808| 3292| 348| 430|1161|1021|  2984| 568| 194| 611| 743|    301|     205|  349|   300|   181|  220|  442|1948|   259| 648|244| 95| 788| 369|1669|    238| 1922|  662|339| 3894| 191|8104|1155|334| 274|   224| 493|     239| 500| 684| 7339| 4351|   305|2390| 511|298| 289|   318|     4750|         252|2181|       342| 3673|1008| 379|  449|   256|    271|317| 313|2708|11531|  306| 215| 808|     210| 288| 6875|  448|    317|233| 847|   256|362| 524|  359| 396|       732|341|      247| 247| 425| 331|  281|  632| 614| 723|1281|  223|  212| 398|  184|\n",
      "|      his| 5120|  604|    627|           489|  665|    278|     239| 879| 4098| 344| 381|1609|1431|  4184| 703| 260| 641| 875|    236|     332|  519|   296|   637|  855|  716|2452|   453| 826|374|244|1278| 537|2442|    201|10136| 1006|306| 5515| 278|1922| 699|171| 610|   313| 439|     311| 454| 621| 8879| 5835|   577|3670| 522|408| 334|   257|     6788|         331|2372|       432| 3644|1147| 281|  878|   201|    427|410| 276|2080|12012|  263| 172| 534|     407| 359| 8356|  403|    597|284| 841|   215|406| 747|  629| 804|       938|224|      491| 389| 295| 422|  186|  974| 562|1407|1825|  258|  402| 711|  339|\n",
      "|president|14810| 1549|    830|           684| 1591|    797|     772|2510|10466|1090|1215|3589|4229| 12730|1759| 681|1304|2491|    794|     685| 1089|   869|  1263|  752| 1790|6048|  1336|2025|875|613|3033|1321|4904|    657| 6788| 2721|741|13278| 655|4750|1965|627| 871|  1150|1213|     859|1333|1409|24338|13403|   927|9512|1146|788| 836|   857|    25035|         836|5923|      1003|12164|3207| 815| 1686|   819|    912|924| 695|5868|33625| 1023| 604|1665|    1262| 723|19816| 1038|   1564|773|3253|   928|888|2185| 1651|1978|      2993|644|     1502| 991| 626|1039|  534| 2607|1393|3611|4490|  791| 1071|1162|  638|\n",
      "|     said| 3231|  388|    131|           262|  337|    206|     126| 647| 2542| 166| 330| 648| 818|  2082| 519| 160| 306| 550|    166|     197|  233|   187|   220|   68|  255|1148|   330| 449|189|225| 610| 405|1749|    113| 1147|  809|388| 3028|  95|1008| 634|169| 138|   348| 267|     171| 201| 448| 4774| 2630|   167|2139| 220|161| 147|   305|     3207|         185|2979|       216| 2239|4282|  40|  312|   284|    188|255| 169|1935| 7703|  224| 175| 381|     373| 110| 4223|  265|    370|128| 749|   332|217| 593|  284| 650|       543|361|      374| 189| 172| 218|  150|  797| 335| 884| 913|  213|  547| 218|  110|\n",
      "|     than|  765|   54|     24|            98|   74|     17|      34|  96|  432|  56|  99| 133| 153|   450| 100|  64|  84|  99|     44|      53|   41|    25|    37|   37|   71| 324|    32| 123| 24| 40| 201| 101| 245|     24|  276|   76| 58|  656|  27| 313| 114| 40|  39|    45| 676|      16|  73|  45| 1025|  606|    42| 335|  68| 50|  43|    65|      695|          38| 321|        42|  512| 169|  59|   75|    54|     35| 39| 982| 303| 1573|   48|  25|  98|      42|  34|  856|   35|     50| 52| 122|    48| 38|  85|   41| 106|       117| 48|       43|  42|  31|  65|   46|   68|  78| 145| 171|   43|   65| 102|   84|\n",
      "|      but| 1260|  179|     63|           174|   83|     56|      49| 222|  778|  59| 159| 309| 267|   752| 308| 127|1889| 222|    110|      60|   50|    71|    77|   62|  159| 526|    69| 200| 73| 88| 375| 260| 686|     80|  641|  155|189| 1202|  78| 611| 440| 72| 101|    68| 168|      53| 112| 429| 2062| 1123|   107| 732| 164|102| 103|    77|     1304|          55| 576|        66| 1236| 306| 119|  124|    59|     36|302|  84| 723| 3015|  103|  96| 244|      65|  67| 1709|  109|     88| 67| 222|    60| 87| 137|  105| 309|       183|140|       77|  79|  74| 115|   58|  145| 144| 288| 328|   78|   97| 112|   90|\n",
      "|    state| 1368|  131|    456|           188|  162|    244|      55| 251| 1247|  95| 139| 396| 397|  1069| 158|  70| 124| 271|    150|      69|   22|    43|   141|  335|  155| 542|    72| 189| 29| 50| 286| 112| 366|    131|  878|  268| 55| 1525|  61| 449| 155|121| 127|   131| 107|      94| 111| 192| 2254| 2054|    78| 951| 100| 97|  72|    52|     1686|          79| 556|        82| 1183| 312|  68| 2201|   120|     17| 66|  75| 574| 4236|  103|  77| 136|     101|  48| 1923|   53|    256| 63| 323|   130|120| 181|  100| 196|       326| 80|      131|  94|  75|  76|   35|  246|  92| 389| 403|   48|  108| 109|   42|\n",
      "|     what|  713|  132|     34|            59|   69|     26|      24| 123|  467|  23|  80| 245| 188|   382| 181|  50|  74|  85|     31|      24|   38|    40|    47|   66|   72| 295|    45|  83| 47| 34| 165|  94| 424|     21|  295|   80|116|  632|  19| 425| 200| 33|  57|    24|  60|      23|  38|  87| 1039|  635|    37| 338|  65| 53|  28|    49|      626|          56| 381|        62|  628| 172|  39|   75|    34|     31|104|  31| 329| 1413|   51|  80| 127|      38|  46|  870|   61|     56| 21|  65|    36| 45|  98|   67| 145|        73| 99|       43|  16|1004|  67|   18|   77|  72| 152| 200|   37|   48|  66|   33|\n",
      "+---------+-----+-----+-------+--------------+-----+-------+--------+----+-----+----+----+----+----+------+----+----+----+----+-------+--------+-----+------+------+-----+-----+----+------+----+---+---+----+----+----+-------+-----+-----+---+-----+----+----+----+---+----+------+----+--------+----+----+-----+-----+------+----+----+---+----+------+---------+------------+----+----------+-----+----+----+-----+------+-------+---+----+----+-----+-----+----+----+--------+----+-----+-----+-------+---+----+------+---+----+-----+----+----------+---+---------+----+----+----+-----+-----+----+----+----+-----+-----+----+-----+\n",
      "only showing top 20 rows\n",
      "\n"
     ]
    }
   ],
   "source": [
    "cooccurrence(\"obama\",\"Headline\", 100)"
   ]
  },
  {
   "cell_type": "code",
   "execution_count": 25,
   "id": "58b9f144",
   "metadata": {},
   "outputs": [
    {
     "name": "stderr",
     "output_type": "stream",
     "text": [
      "23/11/21 10:44:00 WARN TaskSetManager: Stage 228 contains a task of very large size (6245 KiB). The maximum recommended task size is 1000 KiB.\n",
      "23/11/21 10:44:02 WARN TaskSetManager: Stage 230 contains a task of very large size (6245 KiB). The maximum recommended task size is 1000 KiB.\n",
      "23/11/21 10:44:02 WARN TaskSetManager: Stage 231 contains a task of very large size (6245 KiB). The maximum recommended task size is 1000 KiB.\n",
      "                                                                                \r"
     ]
    },
    {
     "name": "stdout",
     "output_type": "stream",
     "text": [
      "+-----------+----+----+----+-----+-----+---------+-----+-------+---+---+---+----+---+---+---+---------+----+---+----+-------+---+---+----+--------+---+------+----+-----+----+------+----+----+---+---+----+---+---+---+---+----+-------------+----+------+-------+---+---+---------+----+-------+-----+------+--------+------+----+-------+---+---+--------+----+---+----+---+----+---------+-----------+------------+-----+------+------+---------+----+--------+----+----+-----+-----+----+-----+-----+----+----+--------+----+-------+---+------+---+----+---+---------+----+----+----+-----+---+----+----+-----+----+-----+\n",
      "|   col__col|2015|2016|   a|abbas|about|according|after|against| al|all| an| and|are| as| at|authority|bank| be|been|between|but| by|city|conflict| de|during|east|first| for|friday|from|gaza|had|has|have| he|her|his|  i|  in|international|  is|israel|israeli| it|its|jerusalem|last|mahmoud|media|middle|minister|monday|more|nations|new|not|occupied|  of|old|  on|one|over|palestine|palestinian|palestinians|peace|people|police|president|quot|ramallah|   s|said|state|texas|that|  the|their|they|this|thursday|  to|tuesday|two|united| up|wafa|was|wednesday|week|were|west|which|who|will|with|world|year|years|\n",
      "+-----------+----+----+----+-----+-----+---------+-----+-------+---+---+---+----+---+---+---+---------+----+---+----+-------+---+---+----+--------+---+------+----+-----+----+------+----+----+---+---+----+---+---+---+---+----+-------------+----+------+-------+---+---+---------+----+-------+-----+------+--------+------+----+-------+---+---+--------+----+---+----+---+----+---------+-----------+------------+-----+------+------+---------+----+--------+----+----+-----+-----+----+-----+-----+----+----+--------+----+-------+---+------+---+----+---+---------+----+----+----+-----+---+----+----+-----+----+-----+\n",
      "|        for|  87| 246|1995|   58|   74|       42|  191|     92|108| 77|389|1309|170|268|358|       43| 106|160| 225|     74|122|338| 102|      78|  6|    63| 305|  127|2963|    63| 245| 110| 92|465| 208|155| 97|162|101|1626|          295| 547|   426|    314|220|232|       87|  62|     48|  172|   186|     140|    93|  99|    162|164|132|      70|1929| 64| 767|108| 112|     1746|        872|         106|  132|   115|    74|      122| 281|     111| 624| 212|  185|   63| 413| 4490|  194|  78| 236|      78|1629|    117|164|   178| 71|  70|329|      102| 119|  84| 112|   94|147| 208| 341|   88| 147|  150|\n",
      "|          s| 100| 214|1623|   69|  104|      112|  161|    134|237| 68|251|1188|168|336|403|       74| 114|154| 161|     76|113|438| 108|      91| 74|    98| 134|  153| 624|    84| 260|  63| 63|357| 146|126| 76|191| 88|1476|           89| 477|   643|    302|301|149|      108| 105|     59|   36|    57|     214|   121|  62|     97|158|148|      46|2054| 54| 827|151| 113|     1641|        815|          86|   91|   112|    48|      212| 410|     134|3004| 260|  185|   69| 470| 4059|  132|  70| 155|      97|1599|     98|129|    87|107| 187|267|      105|  89|  85| 123|   96|109| 154| 360|  115| 127|   67|\n",
      "|       gaza|  28|  30| 259|    5|    4|        6|   29|     11| 30|  0| 29| 184| 17| 23| 46|       10|  40|  6|  21|     14| 13| 53|  70|       7|  6|    24|  22|    9| 110|    22|  53| 425|  2| 51|  31| 23|  7| 26|  5| 381|           11|  45|    83|     90| 18| 13|       15|   6|      9|   14|     1|       7|     7|  17|     17|  8|  7|      11| 286|  6| 122| 11|  11|      122|        213|          31|    1|     8|     4|        7|  27|       8|  63|  46|   12|    0|  45|  658|   17|   8|  13|       5| 215|     26| 17|    19|  5|  32| 39|       10|   6|  47|  41|   13| 17|  11|  52|    6|  17|   16|\n",
      "|     people|  11|   9| 248|    4|   26|        6|   25|     37| 18| 29| 47| 256| 54| 69| 41|        3|  12| 29|  30|     13| 16| 45|  17|      11|  0|     9|  24|   17| 115|    14|  53|   8|  9| 58|  31| 26|  9| 24| 35| 293|           37|  89|    85|     34| 47| 43|       11|   8|      4|    5|     5|      10|    11|  15|     14| 20| 19|      12| 409|  9| 117| 16|  16|      236|        211|          10|   19|   411|    10|        4|  91|      16| 112|  41|   17|   31| 100|  854|   41|  20|  38|       4| 286|      3| 21|    17| 14|  10| 36|        2|   4|  37|  11|   16| 36|  25|  68|   16|  20|   12|\n",
      "|palestinian| 205| 177|2877|  271|  121|      120|  285|    176|299|109|521|1955|263|491|479|      334| 315|244| 202|    155|127|631| 165|     175| 11|   210| 119|  145| 872|    99| 365| 213|106|585| 292|222|100|311|117|2427|          220| 730|   634|   1143|271|269|      210| 113|    260|   74|    67|     249|   127| 107|    130|162|195|     207|3397| 98|1221|141| 176|      760|       4653|         160|  163|   211|    49|      358| 408|     319| 815| 401|  350|    1| 691| 7083|  201| 137| 230|     102|2269|    174|224|   124| 62| 197|475|      118|  96| 155| 334|  169|265| 301| 621|  117| 182|  118|\n",
      "|       city|  17|  23| 337|    8|   21|       34|   41|      9| 39|  8| 75| 189| 41| 54| 95|        2|  71| 13|  28|      6| 13| 72| 497|       4|  2|    23|  24|   14| 102|    22|  39|  70|  8| 66|  32| 16| 13| 24|  7| 363|            5| 100|    26|     80| 43| 15|       27|   7|     10|    1|     5|       2|    16|  10|      6| 33| 13|      22| 561| 25| 159| 44|   9|      286|        165|          17|    8|    17|    23|       13|  36|      36| 108|  34|   22|   23|  58|  862|   16|  12|  21|      18| 250|     17| 29|     7|  9|   9| 55|       13|   8|  20|  74|    9| 11|  36|  71|    3|   9|   16|\n",
      "|      years|   5|  15| 224|    5|   16|        9|   57|      5| 19|  6| 45| 173| 28| 60| 37|        5|   8| 19|  44|     17| 15| 36|  16|      18|  1|    10|  33|   37| 150|     2|  48|  16| 19| 88|  38| 27|  2| 41|  8| 232|           12|  82|    39|     43| 34| 18|       10|  15|      7|    0|     5|      12|     6|  14|      8| 12|  9|       6| 285| 23|  72| 24|  44|      175|        118|          30|   14|    12|     3|        5|  34|      14|  67|  23|   25|   13|  56|  590|   39|  16|  36|       2| 160|      3| 35|     9|  4|  14| 63|        2|   8|  20|  12|   16| 24|  17|  50|   11|  38|  281|\n",
      "|       this|  22|  64| 497|   17|   33|       15|   28|     24| 17| 27| 55| 372| 52| 82| 88|       13|  36| 61|  46|     18| 31|111|  21|      20|  0|    23|  96|   42| 236|    12|  83|  13| 14| 77|  56| 29| 20| 29| 44| 469|           66| 228|    81|     72| 62| 23|       33|   8|     14|   52|    53|      29|    15|  26|     18| 45| 41|      17| 565| 17| 196| 40|  22|      414|        230|          22|   29|    38|    38|       24|  87|      22| 155|  48|   42|   13| 122| 1076|   34|  29| 649|      23| 467|     16| 50|    23| 18|  10| 98|        6| 126|  25|  43|   30| 35|  90|  79|   22|  82|   36|\n",
      "|         in| 228| 399|4765|  176|  191|      163|  518|    178|423|181|810|3355|503|738|892|      147| 529|401| 383|    191|225|896| 363|     175| 56|   261| 498|  345|1626|   222| 659| 381|207|918| 468|375|271|526|210|9093|          278|1227|   982|    951|448|415|      291| 171|    163|  150|   165|     264|   207| 205|    219|394|287|     285|5045|222|1880|332| 262|     3816|       2427|         285|  213|   293|   214|      275| 849|     337|1476| 539|  473|  298|1077|11067|  387| 190| 469|     139|3572|    218|368|   266|163| 199|910|      148| 217| 345| 558|  272|330| 495| 929|  225| 348|  232|\n",
      "|       have|   5|  19| 512|    7|   21|       10|   57|     46| 20| 36| 91| 430| 81|105| 98|       19|  47| 36| 157|     27| 49| 99|  32|      28|  7|    14|  42|   14| 208|    24|  96|  31| 25| 43| 699| 37| 25| 42| 53| 468|           25|  83|   147|    129| 44| 32|       19|  34|      6|    7|     8|      12|     9|  41|     37| 39| 52|      28| 574| 50| 183| 32|  42|      403|        292|          54|   20|    31|    64|       22|  86|      11| 146|  69|   53|   51| 179| 1120|   98|  45|  56|      14| 451|      7| 46|    45| 15|   3| 76|        9|  15|  28|  37|   19| 61|  34| 105|   22|  84|   38|\n",
      "|        are|   8|  25| 430|   11|   35|       23|   41|     32| 19| 40| 55| 461|744|109| 80|       17|  43| 30|  56|     23| 46| 85|  41|      24| 10|    16|  39|   32| 170|    14|  81|  17|  8| 59|  81| 33|  8| 38| 32| 503|           28| 125|   136|     96| 59| 31|       20|  10|     12|   16|    16|       9|    13|  33|     25| 46| 73|      23| 647|  7| 170| 34|  29|      411|        263|          45|   19|    54|    34|       16|  94|      17| 168|  69|   46|   12| 172| 1178|   85|  75|  52|       8| 419|     11| 38|    30| 24|   7| 40|        8|  25|  19|  39|   40| 59|  38|  92|   19|  17|   28|\n",
      "|         is|  26|  64|1482|   49|  115|       70|  132|     53|116| 66|265|1087|125|254|219|       49|  77|171|  84|     66|108|273| 100|     104|  2|    39| 126|  102| 547|    14| 222|  45| 20|202|  83|137| 82|141| 68|1227|           73|2213|   386|    269|298|125|       49|  31|     40|   31|    47|      84|    33|  68|     33|116|171|      51|1620| 60| 459|171|  67|     1160|        730|          84|   96|    89|    64|       98| 299|      46| 477| 177|  187|   58| 526| 3227|   94|  67| 228|      26|1300|     35|121|    44| 47|  16|118|       38|  20|  24|  84|  102|141| 142| 266|   60|  91|   82|\n",
      "|        his|  18|  27| 498|   75|   32|        7|   99|     12| 76| 22| 95| 346| 38|107|102|       41|  21| 49|  31|     15| 33| 80|  24|      21|  0|    64|  15|   31| 162|    11| 100|  26| 23|129|  42|144|  8|848| 18| 526|           17| 141|    96|     92| 45| 27|       22|  23|     69|   12|     6|      63|    19|   9|      4| 38| 56|      13| 538| 59| 228| 20|  52|      321|        311|          15|   27|    24|    16|       97| 173|      27| 191|  77|   49|   28| 115|  922|   23|  19|  29|      15| 501|     23| 32|     5| 18|  17|121|       15|  16|  15|  23|   30| 53|  56| 159|   10|  79|   41|\n",
      "|  president|  21|  22| 303|  266|    5|       10|   27|      9| 35| 16| 65| 216| 16| 72| 53|       82|  16| 51|  11|     19| 11| 76|  13|      40|  0|    58|  17|   29| 122|     8|  31|   7| 14| 84|  22| 41| 10| 97| 12| 275|           27|  98|    98|     66| 19| 17|       18|  12|    236|    4|    11|      76|    58|   2|     38| 20| 23|       4| 498|  5| 231| 13|  13|      263|        358|          12|   28|     4|     1|      629|  85|      44| 212|  90|   93|    0|  91|  829|   13|  10|  24|      24| 449|     27| 43|    21|  7|  15| 44|       23|  16|   7|  23|   16| 33|  76| 136|   12|  28|    5|\n",
      "|       said|  25|  58| 579|   41|   27|       12|   56|     35| 44| 34|128| 450| 69| 59| 97|       26|  62| 75|  34|     41| 42|109|  34|      42| 19|    42|  38|   13| 212|    54|  96|  46| 57|124|  69| 88| 38| 77| 27| 539|           42| 177|   157|    186|106| 49|       33|  29|     36|    7|    16|      68|    51|  25|     19| 21|103|      12| 682| 15| 338| 26|  29|      481|        401|          52|   57|    41|    26|       90| 317|      73| 260| 758|  103|   38| 259| 1500|   49|  38|  48|      42| 620|     55| 57|    19| 25|  64|110|       60|  28|  52|  59|   32| 56| 123| 121|   41|  39|   23|\n",
      "|   occupied|   7|  15| 180|    3|    8|        5|   19|     16| 14|  9| 33| 180| 23| 34| 32|        1|  91|  9|  18|      4|  8| 44|  22|       4|  0|    17|  19|    8|  70|    10|  20|  11|  6| 45|  28| 15|  6| 13|  8| 285|           18|  51|    50|    118| 11| 11|       45|   3|      3|    3|     3|       2|     8|  17|     16|  9|  9|     282| 232|  5| 115|  8|   9|      118|        207|          24|    8|    12|     6|        4|  21|      14|  46|  12|   10|    0|  41|  541|   20|  17|  17|      11| 145|     17| 12|    19|  5|   8| 36|       15|   2|  15|  96|   18| 11|  11|  30|   13|   5|    6|\n",
      "|        but|   5|   0| 275|    6|   16|        1|   22|     10| 27| 15| 43| 145| 46| 49| 46|        4|  13| 56|  20|      7|329| 49|  13|      15|  3|     4|  22|   19| 122|     2|  37|  13| 22| 59|  49| 44| 20| 33| 34| 225|           10| 108|    63|     57| 63| 20|        6|   3|      5|    4|     8|      16|    10|  23|      3| 17| 76|       8| 254| 13|  99| 22|  15|      198|        127|          15|   14|    16|     5|       11|  74|       5| 113|  42|   22|    9|  66|  614|   21|  18|  31|       2| 242|      9| 13|     4|  8|   2| 67|       15|   6|  21|  14|   11| 25|  45|  46|   17|  15|   15|\n",
      "|      state|  18|  25| 602|   67|   20|       16|   46|     17| 26| 36|112| 363| 46| 95|101|       46|  17| 59|  22|     37| 22| 99|  22|      48| 18|    18|  52|   48| 185|    28|  64|  12| 15|134|  53| 18| 17| 49| 13| 473|           37| 187|   166|    120| 99| 78|       26|  45|     53|    6|    19|      65|    10|  11|     35| 48| 68|      10| 774| 11| 251| 20|  22|      484|        350|          39|   60|    17|     6|       93| 201|      19| 185| 103|  810|   16| 179| 1528|   30|  27|  42|      18| 560|     34|163|    36| 15|  16| 58|       16|  21|  14|  22|   30| 12| 111| 118|    7|  37|   25|\n",
      "|     israel|  23|  60|1048|   23|   89|       39|  102|    111| 50| 46|227|1154|136|241|174|       67|  80|110| 109|    165| 63|250|  26|     160|  0|    48|  68|   64| 426|    48| 173|  83| 50|309| 147|106| 60| 96|119| 982|           89| 386|  1779|    211|169|138|       70|  35|     27|   24|    53|     172|    45|  56|     69| 94|127|      50|1327| 14| 619| 63|  80|     1074|        634|          98|  154|    85|    19|       98| 322|      40| 643| 157|  166|    1| 431| 2718|   61|  52|  81|      37|1263|     37|133|    80| 37|  23|166|       30|  22|  55| 113|   75| 85| 162| 274|   39|  43|   39|\n",
      "|     police|  13|  55| 503|    0|   24|       11|  119|      7|  4| 16| 63| 179| 34| 25|135|        6|  18| 21|  38|      7|  5| 73|  23|       1| 17|    14|  38|    5|  74|    43| 100|   4|  8| 29|  64| 16| 37| 16|  8| 214|            5|  64|    19|     44| 13| 26|       16|   4|      0|    6|     2|       2|     9|   6|      0| 12|  7|       6| 239| 61| 100| 20|   8|      374|         49|           1|    0|    10|   414|        1|  18|       6|  48|  26|    6|  109|  65|  517|   15|  17|  38|      15| 216|      3| 26|     0|  9|   4|108|        6|   3|  61|  22|    1| 50|  11|  73|    0|  60|    3|\n",
      "+-----------+----+----+----+-----+-----+---------+-----+-------+---+---+---+----+---+---+---+---------+----+---+----+-------+---+---+----+--------+---+------+----+-----+----+------+----+----+---+---+----+---+---+---+---+----+-------------+----+------+-------+---+---+---------+----+-------+-----+------+--------+------+----+-------+---+---+--------+----+---+----+---+----+---------+-----------+------------+-----+------+------+---------+----+--------+----+----+-----+-----+----+-----+-----+----+----+--------+----+-------+---+------+---+----+---+---------+----+----+----+-----+---+----+----+-----+----+-----+\n",
      "only showing top 20 rows\n",
      "\n"
     ]
    }
   ],
   "source": [
    "cooccurrence(\"palestine\",\"Headline\", 100)"
   ]
  },
  {
   "cell_type": "code",
   "execution_count": null,
   "id": "ba4f1994",
   "metadata": {},
   "outputs": [],
   "source": []
  }
 ],
 "metadata": {
  "kernelspec": {
   "display_name": "Python 3 (ipykernel)",
   "language": "python",
   "name": "python3"
  },
  "language_info": {
   "codemirror_mode": {
    "name": "ipython",
    "version": 3
   },
   "file_extension": ".py",
   "mimetype": "text/x-python",
   "name": "python",
   "nbconvert_exporter": "python",
   "pygments_lexer": "ipython3",
   "version": "3.9.2"
  }
 },
 "nbformat": 4,
 "nbformat_minor": 5
}
